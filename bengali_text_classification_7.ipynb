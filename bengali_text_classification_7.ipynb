{
  "nbformat": 4,
  "nbformat_minor": 0,
  "metadata": {
    "colab": {
      "name": "Untitled0.ipynb",
      "provenance": [],
      "collapsed_sections": []
    },
    "kernelspec": {
      "display_name": "Python 3",
      "name": "python3"
    },
    "language_info": {
      "name": "python"
    },
    "widgets": {
      "application/vnd.jupyter.widget-state+json": {
        "e9f9b2ad0be245f09f492fdec2bc19a6": {
          "model_module": "@jupyter-widgets/controls",
          "model_name": "HBoxModel",
          "model_module_version": "1.5.0",
          "state": {
            "_view_name": "HBoxView",
            "_dom_classes": [],
            "_model_name": "HBoxModel",
            "_view_module": "@jupyter-widgets/controls",
            "_model_module_version": "1.5.0",
            "_view_count": null,
            "_view_module_version": "1.5.0",
            "box_style": "",
            "layout": "IPY_MODEL_608c41baef0c426d941642e06c1e71fc",
            "_model_module": "@jupyter-widgets/controls",
            "children": [
              "IPY_MODEL_e36f75adc61e409895f5d58f8f397d34",
              "IPY_MODEL_2093090bdb7743c5b42f1478cdb0cd96",
              "IPY_MODEL_0e004461f11f430eb618a379436d368c"
            ]
          }
        },
        "608c41baef0c426d941642e06c1e71fc": {
          "model_module": "@jupyter-widgets/base",
          "model_name": "LayoutModel",
          "model_module_version": "1.2.0",
          "state": {
            "_view_name": "LayoutView",
            "grid_template_rows": null,
            "right": null,
            "justify_content": null,
            "_view_module": "@jupyter-widgets/base",
            "overflow": null,
            "_model_module_version": "1.2.0",
            "_view_count": null,
            "flex_flow": null,
            "width": null,
            "min_width": null,
            "border": null,
            "align_items": null,
            "bottom": null,
            "_model_module": "@jupyter-widgets/base",
            "top": null,
            "grid_column": null,
            "overflow_y": null,
            "overflow_x": null,
            "grid_auto_flow": null,
            "grid_area": null,
            "grid_template_columns": null,
            "flex": null,
            "_model_name": "LayoutModel",
            "justify_items": null,
            "grid_row": null,
            "max_height": null,
            "align_content": null,
            "visibility": null,
            "align_self": null,
            "height": null,
            "min_height": null,
            "padding": null,
            "grid_auto_rows": null,
            "grid_gap": null,
            "max_width": null,
            "order": null,
            "_view_module_version": "1.2.0",
            "grid_template_areas": null,
            "object_position": null,
            "object_fit": null,
            "grid_auto_columns": null,
            "margin": null,
            "display": null,
            "left": null
          }
        },
        "e36f75adc61e409895f5d58f8f397d34": {
          "model_module": "@jupyter-widgets/controls",
          "model_name": "HTMLModel",
          "model_module_version": "1.5.0",
          "state": {
            "_view_name": "HTMLView",
            "style": "IPY_MODEL_3cbbb4db9f7d488f9f066b3abc02e9e2",
            "_dom_classes": [],
            "description": "",
            "_model_name": "HTMLModel",
            "placeholder": "​",
            "_view_module": "@jupyter-widgets/controls",
            "_model_module_version": "1.5.0",
            "value": "Downloading: 100%",
            "_view_count": null,
            "_view_module_version": "1.5.0",
            "description_tooltip": null,
            "_model_module": "@jupyter-widgets/controls",
            "layout": "IPY_MODEL_f9b6497a200f4f589c2e3123eac2c64a"
          }
        },
        "2093090bdb7743c5b42f1478cdb0cd96": {
          "model_module": "@jupyter-widgets/controls",
          "model_name": "FloatProgressModel",
          "model_module_version": "1.5.0",
          "state": {
            "_view_name": "ProgressView",
            "style": "IPY_MODEL_a366521c4c3a4d918d9c4f80748a5412",
            "_dom_classes": [],
            "description": "",
            "_model_name": "FloatProgressModel",
            "bar_style": "success",
            "max": 2237676,
            "_view_module": "@jupyter-widgets/controls",
            "_model_module_version": "1.5.0",
            "value": 2237676,
            "_view_count": null,
            "_view_module_version": "1.5.0",
            "orientation": "horizontal",
            "min": 0,
            "description_tooltip": null,
            "_model_module": "@jupyter-widgets/controls",
            "layout": "IPY_MODEL_1458d10147f8456bb7bb844377cc6f84"
          }
        },
        "0e004461f11f430eb618a379436d368c": {
          "model_module": "@jupyter-widgets/controls",
          "model_name": "HTMLModel",
          "model_module_version": "1.5.0",
          "state": {
            "_view_name": "HTMLView",
            "style": "IPY_MODEL_1b979444b1214b72a13bdec6fc2bd2b2",
            "_dom_classes": [],
            "description": "",
            "_model_name": "HTMLModel",
            "placeholder": "​",
            "_view_module": "@jupyter-widgets/controls",
            "_model_module_version": "1.5.0",
            "value": " 2.13M/2.13M [00:00&lt;00:00, 8.99MB/s]",
            "_view_count": null,
            "_view_module_version": "1.5.0",
            "description_tooltip": null,
            "_model_module": "@jupyter-widgets/controls",
            "layout": "IPY_MODEL_41eb150cf07447438e33f3f7aaaa4c14"
          }
        },
        "3cbbb4db9f7d488f9f066b3abc02e9e2": {
          "model_module": "@jupyter-widgets/controls",
          "model_name": "DescriptionStyleModel",
          "model_module_version": "1.5.0",
          "state": {
            "_view_name": "StyleView",
            "_model_name": "DescriptionStyleModel",
            "description_width": "",
            "_view_module": "@jupyter-widgets/base",
            "_model_module_version": "1.5.0",
            "_view_count": null,
            "_view_module_version": "1.2.0",
            "_model_module": "@jupyter-widgets/controls"
          }
        },
        "f9b6497a200f4f589c2e3123eac2c64a": {
          "model_module": "@jupyter-widgets/base",
          "model_name": "LayoutModel",
          "model_module_version": "1.2.0",
          "state": {
            "_view_name": "LayoutView",
            "grid_template_rows": null,
            "right": null,
            "justify_content": null,
            "_view_module": "@jupyter-widgets/base",
            "overflow": null,
            "_model_module_version": "1.2.0",
            "_view_count": null,
            "flex_flow": null,
            "width": null,
            "min_width": null,
            "border": null,
            "align_items": null,
            "bottom": null,
            "_model_module": "@jupyter-widgets/base",
            "top": null,
            "grid_column": null,
            "overflow_y": null,
            "overflow_x": null,
            "grid_auto_flow": null,
            "grid_area": null,
            "grid_template_columns": null,
            "flex": null,
            "_model_name": "LayoutModel",
            "justify_items": null,
            "grid_row": null,
            "max_height": null,
            "align_content": null,
            "visibility": null,
            "align_self": null,
            "height": null,
            "min_height": null,
            "padding": null,
            "grid_auto_rows": null,
            "grid_gap": null,
            "max_width": null,
            "order": null,
            "_view_module_version": "1.2.0",
            "grid_template_areas": null,
            "object_position": null,
            "object_fit": null,
            "grid_auto_columns": null,
            "margin": null,
            "display": null,
            "left": null
          }
        },
        "a366521c4c3a4d918d9c4f80748a5412": {
          "model_module": "@jupyter-widgets/controls",
          "model_name": "ProgressStyleModel",
          "model_module_version": "1.5.0",
          "state": {
            "_view_name": "StyleView",
            "_model_name": "ProgressStyleModel",
            "description_width": "",
            "_view_module": "@jupyter-widgets/base",
            "_model_module_version": "1.5.0",
            "_view_count": null,
            "_view_module_version": "1.2.0",
            "bar_color": null,
            "_model_module": "@jupyter-widgets/controls"
          }
        },
        "1458d10147f8456bb7bb844377cc6f84": {
          "model_module": "@jupyter-widgets/base",
          "model_name": "LayoutModel",
          "model_module_version": "1.2.0",
          "state": {
            "_view_name": "LayoutView",
            "grid_template_rows": null,
            "right": null,
            "justify_content": null,
            "_view_module": "@jupyter-widgets/base",
            "overflow": null,
            "_model_module_version": "1.2.0",
            "_view_count": null,
            "flex_flow": null,
            "width": null,
            "min_width": null,
            "border": null,
            "align_items": null,
            "bottom": null,
            "_model_module": "@jupyter-widgets/base",
            "top": null,
            "grid_column": null,
            "overflow_y": null,
            "overflow_x": null,
            "grid_auto_flow": null,
            "grid_area": null,
            "grid_template_columns": null,
            "flex": null,
            "_model_name": "LayoutModel",
            "justify_items": null,
            "grid_row": null,
            "max_height": null,
            "align_content": null,
            "visibility": null,
            "align_self": null,
            "height": null,
            "min_height": null,
            "padding": null,
            "grid_auto_rows": null,
            "grid_gap": null,
            "max_width": null,
            "order": null,
            "_view_module_version": "1.2.0",
            "grid_template_areas": null,
            "object_position": null,
            "object_fit": null,
            "grid_auto_columns": null,
            "margin": null,
            "display": null,
            "left": null
          }
        },
        "1b979444b1214b72a13bdec6fc2bd2b2": {
          "model_module": "@jupyter-widgets/controls",
          "model_name": "DescriptionStyleModel",
          "model_module_version": "1.5.0",
          "state": {
            "_view_name": "StyleView",
            "_model_name": "DescriptionStyleModel",
            "description_width": "",
            "_view_module": "@jupyter-widgets/base",
            "_model_module_version": "1.5.0",
            "_view_count": null,
            "_view_module_version": "1.2.0",
            "_model_module": "@jupyter-widgets/controls"
          }
        },
        "41eb150cf07447438e33f3f7aaaa4c14": {
          "model_module": "@jupyter-widgets/base",
          "model_name": "LayoutModel",
          "model_module_version": "1.2.0",
          "state": {
            "_view_name": "LayoutView",
            "grid_template_rows": null,
            "right": null,
            "justify_content": null,
            "_view_module": "@jupyter-widgets/base",
            "overflow": null,
            "_model_module_version": "1.2.0",
            "_view_count": null,
            "flex_flow": null,
            "width": null,
            "min_width": null,
            "border": null,
            "align_items": null,
            "bottom": null,
            "_model_module": "@jupyter-widgets/base",
            "top": null,
            "grid_column": null,
            "overflow_y": null,
            "overflow_x": null,
            "grid_auto_flow": null,
            "grid_area": null,
            "grid_template_columns": null,
            "flex": null,
            "_model_name": "LayoutModel",
            "justify_items": null,
            "grid_row": null,
            "max_height": null,
            "align_content": null,
            "visibility": null,
            "align_self": null,
            "height": null,
            "min_height": null,
            "padding": null,
            "grid_auto_rows": null,
            "grid_gap": null,
            "max_width": null,
            "order": null,
            "_view_module_version": "1.2.0",
            "grid_template_areas": null,
            "object_position": null,
            "object_fit": null,
            "grid_auto_columns": null,
            "margin": null,
            "display": null,
            "left": null
          }
        },
        "8ff44057efad4281b3b32e194cbc6ea1": {
          "model_module": "@jupyter-widgets/controls",
          "model_name": "HBoxModel",
          "model_module_version": "1.5.0",
          "state": {
            "_view_name": "HBoxView",
            "_dom_classes": [],
            "_model_name": "HBoxModel",
            "_view_module": "@jupyter-widgets/controls",
            "_model_module_version": "1.5.0",
            "_view_count": null,
            "_view_module_version": "1.5.0",
            "box_style": "",
            "layout": "IPY_MODEL_f55dcd081e7c43e49d10db1194a10559",
            "_model_module": "@jupyter-widgets/controls",
            "children": [
              "IPY_MODEL_6add2638a2d94e278aed9d6a0314d7f2",
              "IPY_MODEL_9656436721fb4e1fbc5a3f3238ab49ba",
              "IPY_MODEL_1be9bd863eba42899b79e03f7e1ded78"
            ]
          }
        },
        "f55dcd081e7c43e49d10db1194a10559": {
          "model_module": "@jupyter-widgets/base",
          "model_name": "LayoutModel",
          "model_module_version": "1.2.0",
          "state": {
            "_view_name": "LayoutView",
            "grid_template_rows": null,
            "right": null,
            "justify_content": null,
            "_view_module": "@jupyter-widgets/base",
            "overflow": null,
            "_model_module_version": "1.2.0",
            "_view_count": null,
            "flex_flow": null,
            "width": null,
            "min_width": null,
            "border": null,
            "align_items": null,
            "bottom": null,
            "_model_module": "@jupyter-widgets/base",
            "top": null,
            "grid_column": null,
            "overflow_y": null,
            "overflow_x": null,
            "grid_auto_flow": null,
            "grid_area": null,
            "grid_template_columns": null,
            "flex": null,
            "_model_name": "LayoutModel",
            "justify_items": null,
            "grid_row": null,
            "max_height": null,
            "align_content": null,
            "visibility": null,
            "align_self": null,
            "height": null,
            "min_height": null,
            "padding": null,
            "grid_auto_rows": null,
            "grid_gap": null,
            "max_width": null,
            "order": null,
            "_view_module_version": "1.2.0",
            "grid_template_areas": null,
            "object_position": null,
            "object_fit": null,
            "grid_auto_columns": null,
            "margin": null,
            "display": null,
            "left": null
          }
        },
        "6add2638a2d94e278aed9d6a0314d7f2": {
          "model_module": "@jupyter-widgets/controls",
          "model_name": "HTMLModel",
          "model_module_version": "1.5.0",
          "state": {
            "_view_name": "HTMLView",
            "style": "IPY_MODEL_d670dcd25b7f4437b3ba5da384799e35",
            "_dom_classes": [],
            "description": "",
            "_model_name": "HTMLModel",
            "placeholder": "​",
            "_view_module": "@jupyter-widgets/controls",
            "_model_module_version": "1.5.0",
            "value": "Downloading: 100%",
            "_view_count": null,
            "_view_module_version": "1.5.0",
            "description_tooltip": null,
            "_model_module": "@jupyter-widgets/controls",
            "layout": "IPY_MODEL_396719054f85438099ff161315e9e117"
          }
        },
        "9656436721fb4e1fbc5a3f3238ab49ba": {
          "model_module": "@jupyter-widgets/controls",
          "model_name": "FloatProgressModel",
          "model_module_version": "1.5.0",
          "state": {
            "_view_name": "ProgressView",
            "style": "IPY_MODEL_be10c270a9714d53ace3dfbf4056f99c",
            "_dom_classes": [],
            "description": "",
            "_model_name": "FloatProgressModel",
            "bar_style": "success",
            "max": 491,
            "_view_module": "@jupyter-widgets/controls",
            "_model_module_version": "1.5.0",
            "value": 491,
            "_view_count": null,
            "_view_module_version": "1.5.0",
            "orientation": "horizontal",
            "min": 0,
            "description_tooltip": null,
            "_model_module": "@jupyter-widgets/controls",
            "layout": "IPY_MODEL_51294011aba946f7bc3acc990329e52b"
          }
        },
        "1be9bd863eba42899b79e03f7e1ded78": {
          "model_module": "@jupyter-widgets/controls",
          "model_name": "HTMLModel",
          "model_module_version": "1.5.0",
          "state": {
            "_view_name": "HTMLView",
            "style": "IPY_MODEL_c2117d52e9794344b4d100977c66f3f9",
            "_dom_classes": [],
            "description": "",
            "_model_name": "HTMLModel",
            "placeholder": "​",
            "_view_module": "@jupyter-widgets/controls",
            "_model_module_version": "1.5.0",
            "value": " 491/491 [00:00&lt;00:00, 9.13kB/s]",
            "_view_count": null,
            "_view_module_version": "1.5.0",
            "description_tooltip": null,
            "_model_module": "@jupyter-widgets/controls",
            "layout": "IPY_MODEL_9f7a7fc7d9fe42ce97b75fec9b6e7eb1"
          }
        },
        "d670dcd25b7f4437b3ba5da384799e35": {
          "model_module": "@jupyter-widgets/controls",
          "model_name": "DescriptionStyleModel",
          "model_module_version": "1.5.0",
          "state": {
            "_view_name": "StyleView",
            "_model_name": "DescriptionStyleModel",
            "description_width": "",
            "_view_module": "@jupyter-widgets/base",
            "_model_module_version": "1.5.0",
            "_view_count": null,
            "_view_module_version": "1.2.0",
            "_model_module": "@jupyter-widgets/controls"
          }
        },
        "396719054f85438099ff161315e9e117": {
          "model_module": "@jupyter-widgets/base",
          "model_name": "LayoutModel",
          "model_module_version": "1.2.0",
          "state": {
            "_view_name": "LayoutView",
            "grid_template_rows": null,
            "right": null,
            "justify_content": null,
            "_view_module": "@jupyter-widgets/base",
            "overflow": null,
            "_model_module_version": "1.2.0",
            "_view_count": null,
            "flex_flow": null,
            "width": null,
            "min_width": null,
            "border": null,
            "align_items": null,
            "bottom": null,
            "_model_module": "@jupyter-widgets/base",
            "top": null,
            "grid_column": null,
            "overflow_y": null,
            "overflow_x": null,
            "grid_auto_flow": null,
            "grid_area": null,
            "grid_template_columns": null,
            "flex": null,
            "_model_name": "LayoutModel",
            "justify_items": null,
            "grid_row": null,
            "max_height": null,
            "align_content": null,
            "visibility": null,
            "align_self": null,
            "height": null,
            "min_height": null,
            "padding": null,
            "grid_auto_rows": null,
            "grid_gap": null,
            "max_width": null,
            "order": null,
            "_view_module_version": "1.2.0",
            "grid_template_areas": null,
            "object_position": null,
            "object_fit": null,
            "grid_auto_columns": null,
            "margin": null,
            "display": null,
            "left": null
          }
        },
        "be10c270a9714d53ace3dfbf4056f99c": {
          "model_module": "@jupyter-widgets/controls",
          "model_name": "ProgressStyleModel",
          "model_module_version": "1.5.0",
          "state": {
            "_view_name": "StyleView",
            "_model_name": "ProgressStyleModel",
            "description_width": "",
            "_view_module": "@jupyter-widgets/base",
            "_model_module_version": "1.5.0",
            "_view_count": null,
            "_view_module_version": "1.2.0",
            "bar_color": null,
            "_model_module": "@jupyter-widgets/controls"
          }
        },
        "51294011aba946f7bc3acc990329e52b": {
          "model_module": "@jupyter-widgets/base",
          "model_name": "LayoutModel",
          "model_module_version": "1.2.0",
          "state": {
            "_view_name": "LayoutView",
            "grid_template_rows": null,
            "right": null,
            "justify_content": null,
            "_view_module": "@jupyter-widgets/base",
            "overflow": null,
            "_model_module_version": "1.2.0",
            "_view_count": null,
            "flex_flow": null,
            "width": null,
            "min_width": null,
            "border": null,
            "align_items": null,
            "bottom": null,
            "_model_module": "@jupyter-widgets/base",
            "top": null,
            "grid_column": null,
            "overflow_y": null,
            "overflow_x": null,
            "grid_auto_flow": null,
            "grid_area": null,
            "grid_template_columns": null,
            "flex": null,
            "_model_name": "LayoutModel",
            "justify_items": null,
            "grid_row": null,
            "max_height": null,
            "align_content": null,
            "visibility": null,
            "align_self": null,
            "height": null,
            "min_height": null,
            "padding": null,
            "grid_auto_rows": null,
            "grid_gap": null,
            "max_width": null,
            "order": null,
            "_view_module_version": "1.2.0",
            "grid_template_areas": null,
            "object_position": null,
            "object_fit": null,
            "grid_auto_columns": null,
            "margin": null,
            "display": null,
            "left": null
          }
        },
        "c2117d52e9794344b4d100977c66f3f9": {
          "model_module": "@jupyter-widgets/controls",
          "model_name": "DescriptionStyleModel",
          "model_module_version": "1.5.0",
          "state": {
            "_view_name": "StyleView",
            "_model_name": "DescriptionStyleModel",
            "description_width": "",
            "_view_module": "@jupyter-widgets/base",
            "_model_module_version": "1.5.0",
            "_view_count": null,
            "_view_module_version": "1.2.0",
            "_model_module": "@jupyter-widgets/controls"
          }
        },
        "9f7a7fc7d9fe42ce97b75fec9b6e7eb1": {
          "model_module": "@jupyter-widgets/base",
          "model_name": "LayoutModel",
          "model_module_version": "1.2.0",
          "state": {
            "_view_name": "LayoutView",
            "grid_template_rows": null,
            "right": null,
            "justify_content": null,
            "_view_module": "@jupyter-widgets/base",
            "overflow": null,
            "_model_module_version": "1.2.0",
            "_view_count": null,
            "flex_flow": null,
            "width": null,
            "min_width": null,
            "border": null,
            "align_items": null,
            "bottom": null,
            "_model_module": "@jupyter-widgets/base",
            "top": null,
            "grid_column": null,
            "overflow_y": null,
            "overflow_x": null,
            "grid_auto_flow": null,
            "grid_area": null,
            "grid_template_columns": null,
            "flex": null,
            "_model_name": "LayoutModel",
            "justify_items": null,
            "grid_row": null,
            "max_height": null,
            "align_content": null,
            "visibility": null,
            "align_self": null,
            "height": null,
            "min_height": null,
            "padding": null,
            "grid_auto_rows": null,
            "grid_gap": null,
            "max_width": null,
            "order": null,
            "_view_module_version": "1.2.0",
            "grid_template_areas": null,
            "object_position": null,
            "object_fit": null,
            "grid_auto_columns": null,
            "margin": null,
            "display": null,
            "left": null
          }
        },
        "45cb970c2a854502a62b164d2f028ba2": {
          "model_module": "@jupyter-widgets/controls",
          "model_name": "HBoxModel",
          "model_module_version": "1.5.0",
          "state": {
            "_view_name": "HBoxView",
            "_dom_classes": [],
            "_model_name": "HBoxModel",
            "_view_module": "@jupyter-widgets/controls",
            "_model_module_version": "1.5.0",
            "_view_count": null,
            "_view_module_version": "1.5.0",
            "box_style": "",
            "layout": "IPY_MODEL_1f1011b193004c6d933b4b52408b2d47",
            "_model_module": "@jupyter-widgets/controls",
            "children": [
              "IPY_MODEL_9900c1b311bc41ea8a87b61a3d6a2261",
              "IPY_MODEL_f4ebd927e3f44b7f91790146d3412c0b",
              "IPY_MODEL_5876e67a45ec4024a22ab5dc735a9dfe"
            ]
          }
        },
        "1f1011b193004c6d933b4b52408b2d47": {
          "model_module": "@jupyter-widgets/base",
          "model_name": "LayoutModel",
          "model_module_version": "1.2.0",
          "state": {
            "_view_name": "LayoutView",
            "grid_template_rows": null,
            "right": null,
            "justify_content": null,
            "_view_module": "@jupyter-widgets/base",
            "overflow": null,
            "_model_module_version": "1.2.0",
            "_view_count": null,
            "flex_flow": null,
            "width": null,
            "min_width": null,
            "border": null,
            "align_items": null,
            "bottom": null,
            "_model_module": "@jupyter-widgets/base",
            "top": null,
            "grid_column": null,
            "overflow_y": null,
            "overflow_x": null,
            "grid_auto_flow": null,
            "grid_area": null,
            "grid_template_columns": null,
            "flex": null,
            "_model_name": "LayoutModel",
            "justify_items": null,
            "grid_row": null,
            "max_height": null,
            "align_content": null,
            "visibility": null,
            "align_self": null,
            "height": null,
            "min_height": null,
            "padding": null,
            "grid_auto_rows": null,
            "grid_gap": null,
            "max_width": null,
            "order": null,
            "_view_module_version": "1.2.0",
            "grid_template_areas": null,
            "object_position": null,
            "object_fit": null,
            "grid_auto_columns": null,
            "margin": null,
            "display": null,
            "left": null
          }
        },
        "9900c1b311bc41ea8a87b61a3d6a2261": {
          "model_module": "@jupyter-widgets/controls",
          "model_name": "HTMLModel",
          "model_module_version": "1.5.0",
          "state": {
            "_view_name": "HTMLView",
            "style": "IPY_MODEL_2056488715e5479abf1f12301f6ef36d",
            "_dom_classes": [],
            "description": "",
            "_model_name": "HTMLModel",
            "placeholder": "​",
            "_view_module": "@jupyter-widgets/controls",
            "_model_module_version": "1.5.0",
            "value": "Downloading: 100%",
            "_view_count": null,
            "_view_module_version": "1.5.0",
            "description_tooltip": null,
            "_model_module": "@jupyter-widgets/controls",
            "layout": "IPY_MODEL_4fb63778eec14ae995812006ee97122f"
          }
        },
        "f4ebd927e3f44b7f91790146d3412c0b": {
          "model_module": "@jupyter-widgets/controls",
          "model_name": "FloatProgressModel",
          "model_module_version": "1.5.0",
          "state": {
            "_view_name": "ProgressView",
            "style": "IPY_MODEL_e54f09d08d8549c49c6e35b08089bd20",
            "_dom_classes": [],
            "description": "",
            "_model_name": "FloatProgressModel",
            "bar_style": "success",
            "max": 660417638,
            "_view_module": "@jupyter-widgets/controls",
            "_model_module_version": "1.5.0",
            "value": 660417638,
            "_view_count": null,
            "_view_module_version": "1.5.0",
            "orientation": "horizontal",
            "min": 0,
            "description_tooltip": null,
            "_model_module": "@jupyter-widgets/controls",
            "layout": "IPY_MODEL_5da07eb120a949329f9915e5c5f2cc0e"
          }
        },
        "5876e67a45ec4024a22ab5dc735a9dfe": {
          "model_module": "@jupyter-widgets/controls",
          "model_name": "HTMLModel",
          "model_module_version": "1.5.0",
          "state": {
            "_view_name": "HTMLView",
            "style": "IPY_MODEL_d2b5a3fdee094be8aa5af08de0ae965e",
            "_dom_classes": [],
            "description": "",
            "_model_name": "HTMLModel",
            "placeholder": "​",
            "_view_module": "@jupyter-widgets/controls",
            "_model_module_version": "1.5.0",
            "value": " 630M/630M [00:17&lt;00:00, 31.8MB/s]",
            "_view_count": null,
            "_view_module_version": "1.5.0",
            "description_tooltip": null,
            "_model_module": "@jupyter-widgets/controls",
            "layout": "IPY_MODEL_e3c61af4f29c458e845054ec62129329"
          }
        },
        "2056488715e5479abf1f12301f6ef36d": {
          "model_module": "@jupyter-widgets/controls",
          "model_name": "DescriptionStyleModel",
          "model_module_version": "1.5.0",
          "state": {
            "_view_name": "StyleView",
            "_model_name": "DescriptionStyleModel",
            "description_width": "",
            "_view_module": "@jupyter-widgets/base",
            "_model_module_version": "1.5.0",
            "_view_count": null,
            "_view_module_version": "1.2.0",
            "_model_module": "@jupyter-widgets/controls"
          }
        },
        "4fb63778eec14ae995812006ee97122f": {
          "model_module": "@jupyter-widgets/base",
          "model_name": "LayoutModel",
          "model_module_version": "1.2.0",
          "state": {
            "_view_name": "LayoutView",
            "grid_template_rows": null,
            "right": null,
            "justify_content": null,
            "_view_module": "@jupyter-widgets/base",
            "overflow": null,
            "_model_module_version": "1.2.0",
            "_view_count": null,
            "flex_flow": null,
            "width": null,
            "min_width": null,
            "border": null,
            "align_items": null,
            "bottom": null,
            "_model_module": "@jupyter-widgets/base",
            "top": null,
            "grid_column": null,
            "overflow_y": null,
            "overflow_x": null,
            "grid_auto_flow": null,
            "grid_area": null,
            "grid_template_columns": null,
            "flex": null,
            "_model_name": "LayoutModel",
            "justify_items": null,
            "grid_row": null,
            "max_height": null,
            "align_content": null,
            "visibility": null,
            "align_self": null,
            "height": null,
            "min_height": null,
            "padding": null,
            "grid_auto_rows": null,
            "grid_gap": null,
            "max_width": null,
            "order": null,
            "_view_module_version": "1.2.0",
            "grid_template_areas": null,
            "object_position": null,
            "object_fit": null,
            "grid_auto_columns": null,
            "margin": null,
            "display": null,
            "left": null
          }
        },
        "e54f09d08d8549c49c6e35b08089bd20": {
          "model_module": "@jupyter-widgets/controls",
          "model_name": "ProgressStyleModel",
          "model_module_version": "1.5.0",
          "state": {
            "_view_name": "StyleView",
            "_model_name": "ProgressStyleModel",
            "description_width": "",
            "_view_module": "@jupyter-widgets/base",
            "_model_module_version": "1.5.0",
            "_view_count": null,
            "_view_module_version": "1.2.0",
            "bar_color": null,
            "_model_module": "@jupyter-widgets/controls"
          }
        },
        "5da07eb120a949329f9915e5c5f2cc0e": {
          "model_module": "@jupyter-widgets/base",
          "model_name": "LayoutModel",
          "model_module_version": "1.2.0",
          "state": {
            "_view_name": "LayoutView",
            "grid_template_rows": null,
            "right": null,
            "justify_content": null,
            "_view_module": "@jupyter-widgets/base",
            "overflow": null,
            "_model_module_version": "1.2.0",
            "_view_count": null,
            "flex_flow": null,
            "width": null,
            "min_width": null,
            "border": null,
            "align_items": null,
            "bottom": null,
            "_model_module": "@jupyter-widgets/base",
            "top": null,
            "grid_column": null,
            "overflow_y": null,
            "overflow_x": null,
            "grid_auto_flow": null,
            "grid_area": null,
            "grid_template_columns": null,
            "flex": null,
            "_model_name": "LayoutModel",
            "justify_items": null,
            "grid_row": null,
            "max_height": null,
            "align_content": null,
            "visibility": null,
            "align_self": null,
            "height": null,
            "min_height": null,
            "padding": null,
            "grid_auto_rows": null,
            "grid_gap": null,
            "max_width": null,
            "order": null,
            "_view_module_version": "1.2.0",
            "grid_template_areas": null,
            "object_position": null,
            "object_fit": null,
            "grid_auto_columns": null,
            "margin": null,
            "display": null,
            "left": null
          }
        },
        "d2b5a3fdee094be8aa5af08de0ae965e": {
          "model_module": "@jupyter-widgets/controls",
          "model_name": "DescriptionStyleModel",
          "model_module_version": "1.5.0",
          "state": {
            "_view_name": "StyleView",
            "_model_name": "DescriptionStyleModel",
            "description_width": "",
            "_view_module": "@jupyter-widgets/base",
            "_model_module_version": "1.5.0",
            "_view_count": null,
            "_view_module_version": "1.2.0",
            "_model_module": "@jupyter-widgets/controls"
          }
        },
        "e3c61af4f29c458e845054ec62129329": {
          "model_module": "@jupyter-widgets/base",
          "model_name": "LayoutModel",
          "model_module_version": "1.2.0",
          "state": {
            "_view_name": "LayoutView",
            "grid_template_rows": null,
            "right": null,
            "justify_content": null,
            "_view_module": "@jupyter-widgets/base",
            "overflow": null,
            "_model_module_version": "1.2.0",
            "_view_count": null,
            "flex_flow": null,
            "width": null,
            "min_width": null,
            "border": null,
            "align_items": null,
            "bottom": null,
            "_model_module": "@jupyter-widgets/base",
            "top": null,
            "grid_column": null,
            "overflow_y": null,
            "overflow_x": null,
            "grid_auto_flow": null,
            "grid_area": null,
            "grid_template_columns": null,
            "flex": null,
            "_model_name": "LayoutModel",
            "justify_items": null,
            "grid_row": null,
            "max_height": null,
            "align_content": null,
            "visibility": null,
            "align_self": null,
            "height": null,
            "min_height": null,
            "padding": null,
            "grid_auto_rows": null,
            "grid_gap": null,
            "max_width": null,
            "order": null,
            "_view_module_version": "1.2.0",
            "grid_template_areas": null,
            "object_position": null,
            "object_fit": null,
            "grid_auto_columns": null,
            "margin": null,
            "display": null,
            "left": null
          }
        }
      }
    }
  },
  "cells": [
    {
      "cell_type": "code",
      "metadata": {
        "id": "Mn9Ql5iA6OhU"
      },
      "source": [
        "import numpy as np \n",
        "import pandas as pd \n",
        "import matplotlib.font_manager as fm\n",
        "import matplotlib.pyplot as plt\n",
        "from matplotlib import pyplot \n",
        "import seaborn as sns \n",
        "\n",
        "import re \n",
        "from collections import Counter\n",
        "from wordcloud import WordCloud \n",
        "\n",
        "from sklearn.model_selection import train_test_split \n",
        "\n",
        "#plt.rcParams[\"font.family\"]=\"bn\" \n",
        "#plt.rcParams['font.family'] = ['sans-serif']\n",
        "#plt.rcParams['font.sans-serif'] = ['SimHei']\n",
        "import warnings \n",
        "warnings.filterwarnings('ignore')"
      ],
      "execution_count": 5,
      "outputs": []
    },
    {
      "cell_type": "markdown",
      "metadata": {
        "id": "Mat2JUq7IBeX"
      },
      "source": [
        "# 1. Reading Dataset "
      ]
    },
    {
      "cell_type": "code",
      "metadata": {
        "id": "Rq4Y3a-X6QAE"
      },
      "source": [
        "train = pd.read_csv(\"/content/drive/MyDrive/technometrics/train.csv\")  \n",
        "test = pd.read_csv(\"/content/drive/MyDrive/technometrics/test.csv\")  "
      ],
      "execution_count": 6,
      "outputs": []
    },
    {
      "cell_type": "markdown",
      "metadata": {
        "id": "ZzTQmcUSEO20"
      },
      "source": [
        "# 2. Overview of the dataset"
      ]
    },
    {
      "cell_type": "code",
      "metadata": {
        "colab": {
          "base_uri": "https://localhost:8080/",
          "height": 206
        },
        "id": "HA8sxkbw6QH-",
        "outputId": "4ce64e04-0f07-4727-b941-85be886c5a50"
      },
      "source": [
        "train.head()"
      ],
      "execution_count": 7,
      "outputs": [
        {
          "output_type": "execute_result",
          "data": {
            "text/html": [
              "<div>\n",
              "<style scoped>\n",
              "    .dataframe tbody tr th:only-of-type {\n",
              "        vertical-align: middle;\n",
              "    }\n",
              "\n",
              "    .dataframe tbody tr th {\n",
              "        vertical-align: top;\n",
              "    }\n",
              "\n",
              "    .dataframe thead th {\n",
              "        text-align: right;\n",
              "    }\n",
              "</style>\n",
              "<table border=\"1\" class=\"dataframe\">\n",
              "  <thead>\n",
              "    <tr style=\"text-align: right;\">\n",
              "      <th></th>\n",
              "      <th>category</th>\n",
              "      <th>text</th>\n",
              "      <th>cleanText</th>\n",
              "    </tr>\n",
              "  </thead>\n",
              "  <tbody>\n",
              "    <tr>\n",
              "      <th>0</th>\n",
              "      <td>economy</td>\n",
              "      <td>বাংলাদেশে সফররত বিশ্ব বাণিজ্য সংস্থা (ডব্লিউট...</td>\n",
              "      <td>বাংলাদেশে    সফররত    বিশ্ব    বাণিজ্য    সং...</td>\n",
              "    </tr>\n",
              "    <tr>\n",
              "      <th>1</th>\n",
              "      <td>sports</td>\n",
              "      <td>ইউরোপিয়ান ফুটবলে আজ ঝড় বয়ে যাচ্ছে। একদিকে সংবা...</td>\n",
              "      <td>ইউরোপিয়ান    ফুটবলে    বয়ে    একদিকে    সংবা...</td>\n",
              "    </tr>\n",
              "    <tr>\n",
              "      <th>2</th>\n",
              "      <td>international</td>\n",
              "      <td>বিজেপির নেতৃত্বে ভারতের উত্তর প্রদেশ থেকে শুরু...</td>\n",
              "      <td>বিজেপির    নেতৃত্বে    ভারতের    উত্তর    প্...</td>\n",
              "    </tr>\n",
              "    <tr>\n",
              "      <th>3</th>\n",
              "      <td>state</td>\n",
              "      <td>নারায়ণগঞ্জের সোনারগাঁ উপজেলার একটি সরকারি প্র...</td>\n",
              "      <td>নারায়ণগঞ্জের    সোনারগাঁ    উপজেলার    সরকা...</td>\n",
              "    </tr>\n",
              "    <tr>\n",
              "      <th>4</th>\n",
              "      <td>sports</td>\n",
              "      <td>‘ছাই থেকে ছাই, ধুলো থেকে ধুলো...’ আধ্যাত্মিক ক...</td>\n",
              "      <td>ছাই    ছাই    ধুলো    ধুলো    আধ্যাত্মিক    ...</td>\n",
              "    </tr>\n",
              "  </tbody>\n",
              "</table>\n",
              "</div>"
            ],
            "text/plain": [
              "        category  ...                                          cleanText\n",
              "0        economy  ...    বাংলাদেশে    সফররত    বিশ্ব    বাণিজ্য    সং...\n",
              "1         sports  ...    ইউরোপিয়ান    ফুটবলে    বয়ে    একদিকে    সংবা...\n",
              "2  international  ...    বিজেপির    নেতৃত্বে    ভারতের    উত্তর    প্...\n",
              "3          state  ...    নারায়ণগঞ্জের    সোনারগাঁ    উপজেলার    সরকা...\n",
              "4         sports  ...    ছাই    ছাই    ধুলো    ধুলো    আধ্যাত্মিক    ...\n",
              "\n",
              "[5 rows x 3 columns]"
            ]
          },
          "metadata": {},
          "execution_count": 7
        }
      ]
    },
    {
      "cell_type": "code",
      "metadata": {
        "colab": {
          "base_uri": "https://localhost:8080/",
          "height": 206
        },
        "id": "bxf-iVq86QKr",
        "outputId": "75544241-2995-413a-987e-81b917987b1c"
      },
      "source": [
        "test.head() "
      ],
      "execution_count": 8,
      "outputs": [
        {
          "output_type": "execute_result",
          "data": {
            "text/html": [
              "<div>\n",
              "<style scoped>\n",
              "    .dataframe tbody tr th:only-of-type {\n",
              "        vertical-align: middle;\n",
              "    }\n",
              "\n",
              "    .dataframe tbody tr th {\n",
              "        vertical-align: top;\n",
              "    }\n",
              "\n",
              "    .dataframe thead th {\n",
              "        text-align: right;\n",
              "    }\n",
              "</style>\n",
              "<table border=\"1\" class=\"dataframe\">\n",
              "  <thead>\n",
              "    <tr style=\"text-align: right;\">\n",
              "      <th></th>\n",
              "      <th>category</th>\n",
              "      <th>text</th>\n",
              "      <th>cleanText</th>\n",
              "    </tr>\n",
              "  </thead>\n",
              "  <tbody>\n",
              "    <tr>\n",
              "      <th>0</th>\n",
              "      <td>education</td>\n",
              "      <td>অধ্যায়-২প্রিয় পরীক্ষার্থী, আজ তথ্য ও যোগাযোগ প...</td>\n",
              "      <td>অধ্যায়    প্রিয়    পরীক্ষার্থী    তথ্য    যো...</td>\n",
              "    </tr>\n",
              "    <tr>\n",
              "      <th>1</th>\n",
              "      <td>sports</td>\n",
              "      <td>স্পিন, স্পিন, স্পিন। লর্ডসে ইয়াসির শাহ্‌র লেগ ...</td>\n",
              "      <td>স্পিন    স্পিন    স্পিন    লর্ডসে    ইয়াসির ...</td>\n",
              "    </tr>\n",
              "    <tr>\n",
              "      <th>2</th>\n",
              "      <td>international</td>\n",
              "      <td>সিরিয়ার উত্তর-পশ্চিমাঞ্চলে গতকাল রোববার বিমান...</td>\n",
              "      <td>সিরিয়ার    উত্তর    পশ্চিমাঞ্চলে    গতকাল  ...</td>\n",
              "    </tr>\n",
              "    <tr>\n",
              "      <th>3</th>\n",
              "      <td>international</td>\n",
              "      <td>দক্ষিণ আফ্রিকার কেপটাউন বিশ্ববিদ্যালয়ের (ইউসিট...</td>\n",
              "      <td>দক্ষিণ    আফ্রিকার    কেপটাউন    বিশ্ববিদ্যা...</td>\n",
              "    </tr>\n",
              "    <tr>\n",
              "      <th>4</th>\n",
              "      <td>technology</td>\n",
              "      <td>সহজে ডিজিটাল আর্থিক সেবা দিতে অ্যাপ ও ডিজিটাল ...</td>\n",
              "      <td>সহজে    ডিজিটাল    আর্থিক    সেবা    অ্যাপ  ...</td>\n",
              "    </tr>\n",
              "  </tbody>\n",
              "</table>\n",
              "</div>"
            ],
            "text/plain": [
              "        category  ...                                          cleanText\n",
              "0      education  ...    অধ্যায়    প্রিয়    পরীক্ষার্থী    তথ্য    যো...\n",
              "1         sports  ...    স্পিন    স্পিন    স্পিন    লর্ডসে    ইয়াসির ...\n",
              "2  international  ...    সিরিয়ার    উত্তর    পশ্চিমাঞ্চলে    গতকাল  ...\n",
              "3  international  ...    দক্ষিণ    আফ্রিকার    কেপটাউন    বিশ্ববিদ্যা...\n",
              "4     technology  ...    সহজে    ডিজিটাল    আর্থিক    সেবা    অ্যাপ  ...\n",
              "\n",
              "[5 rows x 3 columns]"
            ]
          },
          "metadata": {},
          "execution_count": 8
        }
      ]
    },
    {
      "cell_type": "markdown",
      "metadata": {
        "id": "20cPBfUhEXn_"
      },
      "source": [
        "# 3. Data Preprocessing "
      ]
    },
    {
      "cell_type": "code",
      "metadata": {
        "id": "gaQO5BChIsmJ"
      },
      "source": [
        "# Selecting only necessary columns(I am not going to select cleanText because I will clean)\n",
        "train = train.loc[:,['text', 'category']]\n",
        "test = test.loc[:, ['text', 'category']] "
      ],
      "execution_count": 9,
      "outputs": []
    },
    {
      "cell_type": "code",
      "metadata": {
        "colab": {
          "base_uri": "https://localhost:8080/"
        },
        "id": "VJTSaZ7A6QNZ",
        "outputId": "d5061720-c72f-4212-fc9d-7909ef709981"
      },
      "source": [
        "print(\"Shape of train is :\", train.shape)\n",
        "print(\"Shape of test is :\", test.shape) "
      ],
      "execution_count": 10,
      "outputs": [
        {
          "output_type": "stream",
          "name": "stdout",
          "text": [
            "Shape of train is : (98883, 2)\n",
            "Shape of test is : (98884, 2)\n"
          ]
        }
      ]
    },
    {
      "cell_type": "code",
      "metadata": {
        "colab": {
          "base_uri": "https://localhost:8080/"
        },
        "id": "drGbYkohEaql",
        "outputId": "6a2012c3-6e1f-4ec6-efbd-71eb27845791"
      },
      "source": [
        "print(\"Checking number of null value for train data :\", train.isnull().sum())\n",
        "print(\"Checking number of null value for test data :\", test.isnull().sum()) "
      ],
      "execution_count": 11,
      "outputs": [
        {
          "output_type": "stream",
          "name": "stdout",
          "text": [
            "Checking number of null value for train data : text        0\n",
            "category    0\n",
            "dtype: int64\n",
            "Checking number of null value for test data : text        0\n",
            "category    0\n",
            "dtype: int64\n"
          ]
        }
      ]
    },
    {
      "cell_type": "code",
      "metadata": {
        "colab": {
          "base_uri": "https://localhost:8080/"
        },
        "id": "oD5pivDzEatm",
        "outputId": "cb768e86-bd4c-4000-e348-7c874c532c62"
      },
      "source": [
        "print(\"Checking number of duploicated data for train dataset :\", train.duplicated().sum())\n",
        "print(\"Checking number of duplicated data for test dataset :\", test.duplicated().sum()) "
      ],
      "execution_count": 12,
      "outputs": [
        {
          "output_type": "stream",
          "name": "stdout",
          "text": [
            "Checking number of duploicated data for train dataset : 457\n",
            "Checking number of duplicated data for test dataset : 498\n"
          ]
        }
      ]
    },
    {
      "cell_type": "code",
      "metadata": {
        "id": "YLyglXv6FY5M"
      },
      "source": [
        "# Dropping duplicated data from both train and test dataset \n",
        "train.drop_duplicates(inplace=True) \n",
        "test.drop_duplicates(inplace=True) "
      ],
      "execution_count": 13,
      "outputs": []
    },
    {
      "cell_type": "markdown",
      "metadata": {
        "id": "G31Hjs_kvkAM"
      },
      "source": [
        "# Sample of the Dataset"
      ]
    },
    {
      "cell_type": "markdown",
      "metadata": {
        "id": "TBcnOZ09w7Mk"
      },
      "source": [
        "##### Due to GPU shortage I am going to use sample of the train and test dataset. "
      ]
    },
    {
      "cell_type": "code",
      "metadata": {
        "id": "OoRfHkHRFY8h",
        "colab": {
          "base_uri": "https://localhost:8080/"
        },
        "outputId": "9d181fe0-0a99-482c-c9ec-6d7a939cca2a"
      },
      "source": [
        "train, unnecessary = train_test_split(train, test_size=.7, stratify=train['category']) \n",
        "test, unnecessary = train_test_split(test, test_size=.7, stratify=test['category']) \n",
        "print(\"Shape of train is :{} \\nShape of test is :{}\".format(train.shape, test.shape)) "
      ],
      "execution_count": 14,
      "outputs": [
        {
          "output_type": "stream",
          "name": "stdout",
          "text": [
            "Shape of train is :(29527, 2) \n",
            "Shape of test is :(29515, 2)\n"
          ]
        }
      ]
    },
    {
      "cell_type": "code",
      "metadata": {
        "id": "FifW4pALvgVp"
      },
      "source": [
        ""
      ],
      "execution_count": 14,
      "outputs": []
    },
    {
      "cell_type": "markdown",
      "metadata": {
        "id": "tfhy61KuGAuv"
      },
      "source": [
        "# 4. Dataset Cleaning"
      ]
    },
    {
      "cell_type": "markdown",
      "metadata": {
        "id": "tOjo7tYcqeTL"
      },
      "source": [
        "### 4.1 Some Statistics for cleaning"
      ]
    },
    {
      "cell_type": "code",
      "metadata": {
        "colab": {
          "base_uri": "https://localhost:8080/"
        },
        "id": "EG-VF_x3GwW8",
        "outputId": "06ddb7d9-60ce-4156-b8fb-0c939e802421"
      },
      "source": [
        "# Average word in train and test content\n",
        "train_word_average = np.mean(train['text'].apply(lambda x: len(x.split())))\n",
        "test_word_average = np.mean(test['text'].apply(lambda x: len(x.split())))\n",
        "print(\"Average word in train is {} Average word in test is {}\".format(train_word_average, test_word_average))\n",
        "\n",
        "# Minimum word in train and test content \n",
        "train_word_minimum = np.min(train['text'].apply(lambda x: len(x.split())))\n",
        "test_word_minimum = np.min(test['text'].apply(lambda x: len(x.split())))\n",
        "print(\"Minimum word in train is {} Minimum word in test is {}\".format(train_word_minimum, test_word_minimum))\n",
        "\n",
        "\n",
        "# Maximum word in train and test content\n",
        "train_word_maximum = np.max(train['text'].apply(lambda x: len(x.split())))\n",
        "test_word_maximum = np.max(test['text'].apply(lambda x: len(x.split())))\n",
        "print(\"Maximum word in train is {} Maximum word in test is {}\".format(train_word_maximum, test_word_maximum))\n"
      ],
      "execution_count": 15,
      "outputs": [
        {
          "output_type": "stream",
          "name": "stdout",
          "text": [
            "Average word in train is 263.7533782639618 Average word in test is 261.5027274267322\n",
            "Minimum word in train is 1 Minimum word in test is 2\n",
            "Maximum word in train is 3987 Maximum word in test is 5263\n"
          ]
        }
      ]
    },
    {
      "cell_type": "markdown",
      "metadata": {
        "id": "zMKBp6YSqmLb"
      },
      "source": [
        "### 4.2 Taking rows > 100 words and <500 words"
      ]
    },
    {
      "cell_type": "code",
      "metadata": {
        "colab": {
          "base_uri": "https://localhost:8080/"
        },
        "id": "SxMS00EFGuDr",
        "outputId": "e1bfcb61-7963-49f6-ea0e-82eb7897dd6e"
      },
      "source": [
        "# Taking those rows where have > 100 words \n",
        "train = train[train['text'].apply(lambda x: len(x.split()) > 100 )].reset_index(drop=True) \n",
        "test = test[test['text'].apply(lambda x:  len(x.split()) > 100 )].reset_index(drop=True) \n",
        "\n",
        "\n",
        "# Taking those rows where have < 500 words \n",
        "train = train[train['text'].apply(lambda x: len(x.split()) < 500)].reset_index(drop=True) \n",
        "test = test[test['text'].apply(lambda x: len(x.split()) < 500)].reset_index(drop=True) \n",
        "print(\"Shape of train is {} shape of test is {}\".format(train.shape, test.shape))"
      ],
      "execution_count": 16,
      "outputs": [
        {
          "output_type": "stream",
          "name": "stdout",
          "text": [
            "Shape of train is (21891, 2) shape of test is (21975, 2)\n"
          ]
        }
      ]
    },
    {
      "cell_type": "markdown",
      "metadata": {
        "id": "guYFoiPIqtxb"
      },
      "source": [
        "### 4.3 Removing stopwords"
      ]
    },
    {
      "cell_type": "code",
      "metadata": {
        "colab": {
          "base_uri": "https://localhost:8080/"
        },
        "id": "xEIWscJlGWOH",
        "outputId": "a803064e-8c18-4318-bfc4-f57cc4191228"
      },
      "source": [
        "# Loading bengali stop words file\n",
        "with open('/content/drive/MyDrive/technometrics/stopwords-bn.txt', 'r', encoding='utf-8-sig') as f:\n",
        "    stop_word = f.read()\n",
        "    stop_word = stop_word.replace(\" \", \"\")\n",
        "    stop_word = stop_word.split('\\n')\n",
        "    print(stop_word)"
      ],
      "execution_count": 17,
      "outputs": [
        {
          "output_type": "stream",
          "name": "stdout",
          "text": [
            "['অতএব', 'অথচ', 'অথবা', 'অনুযায়ী', 'অনেক', 'অনেকে', 'অনেকেই', 'অন্তত', 'অন্য', 'অবধি', 'অবশ্য', 'অর্থাত', 'আই', 'আগামী', 'আগে', 'আগেই', 'আছে', 'আজ', 'আদ্যভাগে', 'আপনার', 'আপনি', 'আবার', 'আমরা', 'আমাকে', 'আমাদের', 'আমার', 'আমি', 'আর', 'আরও', 'ই', 'ইত্যাদি', 'ইহা', 'উচিত', 'উত্তর', 'উনি', 'উপর', 'উপরে', 'এ', 'এঁদের', 'এঁরা', 'এই', 'একই', 'একটি', 'একবার', 'একে', 'এক্', 'এখন', 'এখনও', 'এখানে', 'এখানেই', 'এটা', 'এটাই', 'এটি', 'এত', 'এতটাই', 'এতে', 'এদের', 'এব', 'এবং', 'এবার', 'এমন', 'এমনকী', 'এমনি', 'এর', 'এরা', 'এল', 'এস', 'এসে', 'ঐ', 'ও', 'ওঁদের', 'ওঁর', 'ওঁরা', 'ওই', 'ওকে', 'ওখানে', 'ওদের', 'ওর', 'ওরা', 'কখনও', 'কত', 'কবে', 'কমনে', 'কয়েক', 'কয়েকটি', 'করছে', 'করছেন', 'করতে', 'করবে', 'করবেন', 'করলে', 'করলেন', 'করা', 'করাই', 'করায়', 'করার', 'করি', 'করিতে', 'করিয়া', 'করিয়ে', 'করে', 'করেই', 'করেছিলেন', 'করেছে', 'করেছেন', 'করেন', 'কাউকে', 'কাছ', 'কাছে', 'কাজ', 'কাজে', 'কারও', 'কারণ', 'কি', 'কিংবা', 'কিছু', 'কিছুই', 'কিন্তু', 'কী', 'কে', 'কেউ', 'কেউই', 'কেখা', 'কেন', 'কোটি', 'কোন', 'কোনও', 'কোনো', 'ক্ষেত্রে', 'কয়েক', 'খুব', 'গিয়ে', 'গিয়েছে', 'গিয়ে', 'গুলি', 'গেছে', 'গেল', 'গেলে', 'গোটা', 'চলে', 'চান', 'চায়', 'চার', 'চালু', 'চেয়ে', 'চেষ্টা', 'ছাড়া', 'ছাড়াও', 'ছিল', 'ছিলেন', 'জন', 'জনকে', 'জনের', 'জন্য', 'জন্যওজে', 'জানতে', 'জানা', 'জানানো', 'জানায়', 'জানিয়ে', 'জানিয়েছে', 'জে', 'জ্নজন', 'টি', 'ঠিক', 'তখন', 'তত', 'তথা', 'তবু', 'তবে', 'তা', 'তাঁকে', 'তাঁদের', 'তাঁর', 'তাঁরা', 'তাঁাহারা', 'তাই', 'তাও', 'তাকে', 'তাতে', 'তাদের', 'তার', 'তারপর', 'তারা', 'তারৈ', 'তাহলে', 'তাহা', 'তাহাতে', 'তাহার', 'তিনঐ', 'তিনি', 'তিনিও', 'তুমি', 'তুলে', 'তেমন', 'তো', 'তোমার', 'থাকবে', 'থাকবেন', 'থাকা', 'থাকায়', 'থাকে', 'থাকেন', 'থেকে', 'থেকেই', 'থেকেও', 'দিকে', 'দিতে', 'দিন', 'দিয়ে', 'দিয়েছে', 'দিয়েছেন', 'দিলেন', 'দু', 'দুই', 'দুটি', 'দুটো', 'দেওয়া', 'দেওয়ার', 'দেওয়া', 'দেখতে', 'দেখা', 'দেখে', 'দেন', 'দেয়', 'দ্বারা', 'ধরা', 'ধরে', 'ধামার', 'নতুন', 'নয়', 'না', 'নাই', 'নাকি', 'নাগাদ', 'নানা', 'নিজে', 'নিজেই', 'নিজেদের', 'নিজের', 'নিতে', 'নিয়ে', 'নিয়ে', 'নেই', 'নেওয়া', 'নেওয়ার', 'নেওয়া', 'নয়', 'পক্ষে', 'পর', 'পরে', 'পরেই', 'পরেও', 'পর্যন্ত', 'পাওয়া', 'পাচ', 'পারি', 'পারে', 'পারেন', 'পি', 'পেয়ে', 'পেয়্র্', 'প্রতি', 'প্রথম', 'প্রভৃতি', 'প্রযন্ত', 'প্রাথমিক', 'প্রায়', 'প্রায়', 'ফলে', 'ফিরে', 'ফের', 'বক্তব্য', 'বদলে', 'বন', 'বরং', 'বলতে', 'বলল', 'বললেন', 'বলা', 'বলে', 'বলেছেন', 'বলেন', 'বসে', 'বহু', 'বা', 'বাদে', 'বার', 'বি', 'বিনা', 'বিভিন্ন', 'বিশেষ', 'বিষয়টি', 'বেশ', 'বেশি', 'ব্যবহার', 'ব্যাপারে', 'ভাবে', 'ভাবেই', 'মতো', 'মতোই', 'মধ্যভাগে', 'মধ্যে', 'মধ্যেই', 'মধ্যেও', 'মনে', 'মাত্র', 'মাধ্যমে', 'মোট', 'মোটেই', 'যখন', 'যত', 'যতটা', 'যথেষ্ট', 'যদি', 'যদিও', 'যা', 'যাঁর', 'যাঁরা', 'যাওয়া', 'যাওয়ার', 'যাওয়া', 'যাকে', 'যাচ্ছে', 'যাতে', 'যাদের', 'যান', 'যাবে', 'যায়', 'যার', 'যারা', 'যিনি', 'যে', 'যেখানে', 'যেতে', 'যেন', 'যেমন', 'র', 'রকম', 'রয়েছে', 'রাখা', 'রেখে', 'লক্ষ', 'শুধু', 'শুরু', 'সঙ্গে', 'সঙ্গেও', 'সব', 'সবার', 'সমস্ত', 'সম্প্রতি', 'সহ', 'সহিত', 'সাধারণ', 'সামনে', 'সি', 'সুতরাং', 'সে', 'সেই', 'সেখান', 'সেখানে', 'সেটা', 'সেটাই', 'সেটাও', 'সেটি', 'স্পষ্ট', 'স্বয়ং', 'হইতে', 'হইবে', 'হইয়া', 'হওয়া', 'হওয়ায়', 'হওয়ার', 'হচ্ছে', 'হত', 'হতে', 'হতেই', 'হন', 'হবে', 'হবেন', 'হয়', 'হয়তো', 'হয়নি', 'হয়ে', 'হয়েই', 'হয়েছিল', 'হয়েছে', 'হয়েছেন', 'হল', 'হলে', 'হলেই', 'হলেও', 'হলো', 'হাজার', 'হিসাবে', 'হৈলে', 'হোক', 'হয়']\n"
          ]
        }
      ]
    },
    {
      "cell_type": "markdown",
      "metadata": {
        "id": "jhVZba4Kq19g"
      },
      "source": [
        "### 4.4 Unnecessary Character Cleaning "
      ]
    },
    {
      "cell_type": "code",
      "metadata": {
        "id": "4z1Trx8nGDUZ"
      },
      "source": [
        "def clean_text(text):\n",
        "    row = str(text)\n",
        "    row = row.replace('\\n', ' ')\n",
        "    row = row.replace('\\t', ' ')\n",
        "    row = row.replace('\\\\', \"\")\n",
        "    row = re.sub('[!\"#$%&\\'()*+,-./:;<=>?@[\\\\]^_`{|}~]', '', row)\n",
        "    row = re.sub(' +', ' ', row)\n",
        "    row = row.replace(\"।\", \"\")\n",
        "    row = re.sub('[১২৩৪৫৬৭৮৯০]', '', row)\n",
        "    row = re.sub('[1234567890]', '', row) \n",
        "    row = row.replace('’', '')\n",
        "    row = row.replace('‘', '')\n",
        "    \n",
        "    # remove stopwords\n",
        "    # Removing stop words\n",
        "    row = row.split()\n",
        "    row = [w for w in row if not w in stop_word]\n",
        "    row = \" \".join(row)\n",
        "    return row"
      ],
      "execution_count": 18,
      "outputs": []
    },
    {
      "cell_type": "code",
      "metadata": {
        "colab": {
          "base_uri": "https://localhost:8080/"
        },
        "id": "EK71WIs2GDXX",
        "outputId": "2f8e8279-b1b6-4004-f1db-1ec8b465d5b3"
      },
      "source": [
        "train['text'] = train['text'].apply(lambda x: clean_text(x)) \n",
        "test['text'] = test['text'].apply(lambda x: clean_text(x)) \n",
        "print(\"Shape of train is {} shape of test is {}\".format(train.shape, test.shape))"
      ],
      "execution_count": 19,
      "outputs": [
        {
          "output_type": "stream",
          "name": "stdout",
          "text": [
            "Shape of train is (21891, 2) shape of test is (21975, 2)\n"
          ]
        }
      ]
    },
    {
      "cell_type": "code",
      "metadata": {
        "id": "-Z6SN1Ow7gtL",
        "colab": {
          "base_uri": "https://localhost:8080/"
        },
        "outputId": "91c6ef8b-6725-4a55-fb70-8607bd380678"
      },
      "source": [
        "# Minimum, Average, Maximum words after cleaning the both train test dataset\n",
        "# Minimum word \n",
        "train_word_minimum = np.min(train['text'].apply(lambda x: len(x.split()))) \n",
        "test_word_minimum = np.min(test['text'].apply(lambda x: len(x.split()))) \n",
        "print(\"Minimum word in trian is {} Minimum word in test is {}\".format(train_word_minimum, test_word_minimum))\n",
        "\n",
        "# Average word \n",
        "train_word_average = np.mean(train['text'].apply(lambda x: len(x.split())))\n",
        "test_word_average = np.mean(test['text'].apply(lambda x: len(x.split())))\n",
        "print(\"Average word in train is {} Average word in test is {}\".format(train_word_average, test_word_average))\n",
        "\n",
        "# Maximum word \n",
        "train_word_maximum = np.max(train['text'].apply(lambda x: len(x.split()))) \n",
        "test_word_maximum = np.max(test['text'].apply(lambda x: len(x.split()))) \n",
        "print(\"Maximum word in trian is {} Maximum word in test is {}\".format(train_word_maximum, test_word_maximum))\n"
      ],
      "execution_count": 20,
      "outputs": [
        {
          "output_type": "stream",
          "name": "stdout",
          "text": [
            "Minimum word in trian is 44 Minimum word in test is 51\n",
            "Average word in train is 178.66237266456534 Average word in test is 178.13342434584754\n",
            "Maximum word in trian is 484 Maximum word in test is 489\n"
          ]
        }
      ]
    },
    {
      "cell_type": "markdown",
      "metadata": {
        "id": "Zx7chSGjryWe"
      },
      "source": [
        "# 5 Shuffle train and test dataset and Resetting Index"
      ]
    },
    {
      "cell_type": "code",
      "metadata": {
        "id": "xRtzo48Jpdzc"
      },
      "source": [
        "# Shuffle and Resetting index for both train and test \n",
        "train.sample(frac=1).reset_index(drop=True, inplace=True) \n",
        "test.sample(frac=1).reset_index(drop=True, inplace=True)  "
      ],
      "execution_count": 21,
      "outputs": []
    },
    {
      "cell_type": "code",
      "metadata": {
        "id": "nGnWNNv9VWgC"
      },
      "source": [
        "# Saving sample dataset for future use \n",
        "train.to_csv(\"/content/drive/MyDrive/technometrics/sample dataset/train.csv\", index=False)  \n",
        "test.to_csv(\"/content/drive/MyDrive/technometrics/sample dataset/test.csv\", index=False) "
      ],
      "execution_count": 22,
      "outputs": []
    },
    {
      "cell_type": "markdown",
      "metadata": {
        "id": "XzcTcQRjE9x3"
      },
      "source": [
        "# 6 EDA(Exploratory Data Analysis)"
      ]
    },
    {
      "cell_type": "code",
      "metadata": {
        "id": "dk3pY6UdkaHt",
        "colab": {
          "base_uri": "https://localhost:8080/"
        },
        "outputId": "a17eea24-bf95-4425-bf21-0df7f6517f28"
      },
      "source": [
        "train = pd.read_csv(\"/content/drive/MyDrive/technometrics/sample dataset/train.csv\") \n",
        "test = pd.read_csv(\"/content/drive/MyDrive/technometrics/sample dataset/test.csv\")\n",
        "print(\"Shape of train is :{} \\nShape of test is :{}\".format(train.shape, test.shape)) "
      ],
      "execution_count": 23,
      "outputs": [
        {
          "output_type": "stream",
          "name": "stdout",
          "text": [
            "Shape of train is :(21891, 2) \n",
            "Shape of test is :(21975, 2)\n"
          ]
        }
      ]
    },
    {
      "cell_type": "code",
      "metadata": {
        "colab": {
          "base_uri": "https://localhost:8080/"
        },
        "id": "bOx5aVst5WuI",
        "outputId": "40a2bf4e-2e28-4a55-c49e-d7669ba34ca2"
      },
      "source": [
        "# Visualizing Some Text from train dataset \n",
        "for i in range(5): \n",
        "  print(train['category'][i])\n",
        "  print(train['text'][i]) "
      ],
      "execution_count": 24,
      "outputs": [
        {
          "output_type": "stream",
          "name": "stdout",
          "text": [
            "international\n",
            "শখ শরীরে ট্যাটু আঁকা বারাক ওবামা রানি এলিজাবেথের ট্যাটু আঁকিয়েছেন একের এক রেকর্ড গড়ে গিনেসে বুকে নাম তুলেছেন রেকর্ডের ফেলেছেন দাঁতও পুরো মুখে স্ট্র জ্বলন্ত মোমবাতি ধরবেন বলেই বছর বয়সী ব্যক্তির নাম হর প্রকাশ ঋষি বাড়ি ভারতের নয়া দিল্লিতেযৌবন রেকর্ডের পেছনে ছুটতে হর প্রকাশ ঋষি নিজেকে গিনেস ঋষি পরিচয় দাবি টির রেকর্ড গড়েছেন সালে নয়া দিল্লির সিনেমা জন্ম হর প্রকাশ ঋষির পতাকাসহ শরীরে ট্যাটু বানিয়েছেন লক্ষ্য ট্যাটুকে রেকর্ড বুকে তুলবেন সালে বন্ধুকে একটানা ঘণ্টা স্কুটার চালিয়ে রেকর্ড গড়ে গিনেসে বুকে নাম তোলেন এরপর নাম রেকর্ড বুকে তোলার একের এক অদ্ভুত কীর্তি গড়ে চলেছেন নয়া দিল্লি পিৎজা ডেলিভারি সানফ্রান্সিসকোতে এক বোতল টমেটো কেচাপ খেয়ে রেকর্ড গড়েছিলেন মিনিটের কম সময়ে খেয়ে ফেলেছিলেনরেকর্ড গড়ার হর প্রকাশ ঋষির স্ত্রীও কম সালে স্ত্রী বিমলা বিশ্বের সবচেয়ে ছোট উইল লিখে গিনেস রেকর্ডসে নাম তোলেন উইলে লেখা তিনটি শব্দ অল টু সনরয়টার্স টিভিকে হর প্রকাশ ঋষি কোল্ড ড্রিংকসের স্ট্র একসঙ্গে মুখে নেওয়ার বিশ্বরেকর্ড রেকর্ড গড়ার মুখে জায়গা দরকার দাঁত ফেলেছি স্ট্র মুখে রেকর্ড গড়তে পারিএখন অদ্ভুত এক নেশা চেপেছে পেশায় অটো স্পেয়ার পার্টস প্রস্তুতকারক হর প্রকাশ ঋষির মাথায় সারা শরীরে পতাকার ট্যাটু বানিয়েছেন ইচ্ছা পতাকা ছাড়াও শরীরে ভারতের প্রধানমন্ত্রী নরেন্দ্র মোদি মার্কিন প্রেসিডেন্ট বারাক ওবামা রানি এলিজাবেথ ভারতের স্বাধীনতা আন্দোলনের মহান নেতা মহাত্মা গান্ধীর ট্যাটুও\n",
            "international\n",
            "ফ্রান্সের রাজধানী প্যারিসের রম্য ম্যাগাজিন শার্লি হেবদোর কার্যালয়ে হামলাকারী সন্ত্রাসী ভাতৃদ্বয় সাইদ কোশি শরিফ কোশি নিরাপত্তা বাহিনীর অভিযানে নিহত হয়েছেএছাড়া প্যারিসের সুপারশপে ঢুকে লোকজনকে জিম্মি অপর সন্ত্রাসী ধরণের অভিযানে নিহত হয়েছে নিরাপত্তা বাহিনীর গুলিতে নিহত হওয়ার আমেদি হাতে জিম্মি লোকজনের মধ্য কমপক্ষে চারজনকে হত্যা পুলিশ নিশ্চিত খবর বিবিসি এএফপিরপুলিশ বলেছে শুক্রবার সাইদ কোশি ভাই শরিফ কোশি প্যারিসের অদূরের শহর দামার্তাঁঅঁগুলতে প্রিন্টিং ব্যবসাপ্রতিষ্ঠানে ঢুকে এক ব্যক্তিকে জিম্মি এরপরই পুরো এলাকা ঘিরে ফেলা সন্ধ্যা নামার ভারি অস্ত্র একযোগে অভিযান চালানো অভিযানে অংশ এক কর্মকর্তা এএফপিকে লাগাতার ভারি গুলিবর্ষণে দুইজনই নিহত হয়েছেঅন্যদিকে প্যারিসের ইহুদি সুপারশপে ঢুকে আমেদি কৌলিবেলি নামের সন্ত্রাসী কয়েকজনকে জিম্মি মধ্য চারজনকে হত্যা তাকেও হত্যা কমান্ডো বাহিনী পুলিশ বলেছে সমন্বিত অভিযান চালিয়ে জিম্মিদের সবাইকে নিরাপদে বের আনা হয়েছেপ্যারিসের দক্ষিণে শহরতলি মঁরুজ এলাকায় গতকাল এক বন্দুকধারীর গুলিতে এক নারী পুলিশ কর্মকর্তা নিহত গুরুতর আহত আরেকজন হামলার বন্দুকধারী পালিয়ে যায় আজকের জিম্মি নাটকের ঘটনায় ফ্রান্স কর্তৃপক্ষ ধারণা নারী কর্মকর্তাকে হত্যাকারী বন্দুকধারীই আমেদি কৌলিবেলি গত বুধবার সাপ্তাহিক রম্য পত্রিকা শার্লি হেবদোতে হামলাকারী শরিফ কোশির পরিচয় সালে ফ্রান্সে কারাগার ভাঙার সময় শরিফের আমেদিকে গেছেইসলাম ধর্ম মহানবী সকে ব্যঙ্গ বিশ্বব্যাপী সমালোচিত শার্লি হেবদোর কার্যালয়ে গত বুধবারের জঙ্গি হামলায় নিহত পত্রিকাটির প্রধান সম্পাদকসহ আট সাংবাদিক পুলিশের সদস্য দুজন আহত ফ্রান্সের মাটিতে দশকের হামলাকে সবচেয়ে ভয়াবহ উল্লেখ\n",
            "entertainment\n",
            "জানুয়ারি মাসে বিয়ে বলিউড অভিনেত্রী অসিন বিয়ের অভিনয় সংসারেই সময় দেবেন তারকা এসব কথা অসিন বিয়ের জানিয়ে দিয়েছিলেন গণমাধ্যম অসিনকে ছাড়তে চাইছে তো অবসরের ঘোষণা দেওয়ার পরও ছবিতে চুক্তিবদ্ধ হওয়ার খবর এখনো প্রকাশ ভারতীয় গণমাধ্যম জন্যই গুঞ্জনের অবসান ঘটিয়ে অসিন অবসরের ঘোষণা ইনস্টাগ্রামের মাধ্যমেসেখানে পোস্টে অসিন লিখেছেন আপাতত কোনো চুক্তিবদ্ধ হচ্ছেন হাতে যেসব জমে সেসব বিয়ের শেষ ফেলেছেনতবে অসিনের অবসর সাময়িক স্থায়ী গজনি অভিনেত্রী পোস্টে করেননিঅসিনের স্বামী রাহুল শর্মা মুঠোফোন নির্মাণকারী প্রতিষ্ঠান মাইক্রোম্যাক্সের সহপ্রতিষ্ঠাতা বলিউড তারকা অক্ষয় কুমারের দুজনের পরিচয় পরিচয় পরিণয় এরপর বিয়ে সালে মালায়ালাম ছবি দিয়ে চলচ্চিত্রে যাত্রা অসিন আমির খানের বিপরীতে গজনি ছবিটি দিয়ে সালে বলিউডে অভিষেক ঘটে হিন্দুস্তান টাইমস\n",
            "education\n",
            "শিশুর শেখার ক্ষমতা এক শিশু বিষয় দ্রুত রপ্ত শিশু রয়েছে ধরতে একটু সময় লাগে শিশুদের শেখার ওপর বিষয় প্রভাব ফেলে ধরনের গবেষণা হয়েছে যুক্তরাজ্যের ইউনিভার্সিটি অব ওয়ারউইকের এক গবেষণায় হয়েছে যেসব শিশু কিসমিস খেতে আগ্রহী মনোযোগ দেয়ার ক্ষমতা পড়াশোনায় ভালো যুক্তরাজ্যের এক গবেষণায় হয়েছে শিশুর পড়াশোনার ওপর সবচেয়ে প্রভাব বিস্তার জিনগত বৈশিষ্ট্য বিষয়টি প্রমাণের গবেষকরা যুক্তরাজ্যের ছয় হাজারের যমজের পড়াশোনার তথ্য সংগ্রহ বেশিরভাগ ক্ষেত্রেই পেয়েছেন যমজ ভাইবোনদের ফলাফল অনেকটাই এক অর্থাৎ জিনগত বৈশিষ্ট্য দ্বারাই অনেকটা নির্ধারিত হয়েছে একাডেমিক ফলাফল একাডেমিক ফলাফলের ওপর জিনগত বৈশিষ্ট্যের প্রভাবের সিদ্ধান্ত জানাতে গবেষকরা স্কুল পর্যায় হাই স্কুল অতিক্রম ছয় যমজের একাডেমিক ফলাফল সংগ্রহ যাচাই পরিসংখ্যানে যায় তৃতীয়াংশ যমজ ভাইবোনদের ফলাফল কাছাকাছি পর্যায়ের যমজদের ফলাফলে বৈপরীত্য এমনটা ক্ষেত্রেই পেয়েছেন যমজদের একজন ক্লাশের সেরা শিক্ষার্থী অন্যজন রয়েছে তালিকার একদম শেষ বেশিরভাগ জমদের ফলাফল কাছাকাছি হওয়ার কারণেই জিনগত কারণে হয়েছে শিশুদের ওপর জিনগত পরিবেশগত বিষয়গুলোর প্রভাব যাচাই করতেই গবেষণা মজার বিষয় যমজদের চেহারায় মিল তুলনামূলকভাবে ফলাফলেও অনেকটা সাদৃশ্য যমজদের চেহারার শতভাগ জিন অন্যদিকে যমজদের চেহারা এক জিনের শতকরা ভাগ মিল এসব ফলাফলে মিল পাননি গবেষকরাবিবিসি ইত্তেফাকমোস্তাফিজ\n",
            "economy\n",
            "নিম্নমানের খাদ্যপণ্যের সাতটির লাইসেন্স বাতিল টির লাইসেন্স স্থগিত জাতীয় মান নিয়ন্ত্রণকারী সংস্থা বিএসটিআই বুধবার বিএসটিআইয়ের এক সংবাদ বিজ্ঞপ্তিতে কথা মান উত্তীর্ণ হওয়ায় নিম্নমানের এসব পণ্য বাজার জব্দ ধ্বংস নিরাপদ খাদ্য কর্তৃপক্ষ ভোক্তা অধিকার সংরক্ষণ অধিদপ্তরকে গত মে নির্দেশ দিয়েছেন হাইকোর্ট আদালতের নির্দেশের পরও এসব পণ্য দেদারসে বিক্রি যায় যেগুলোর লাইসেন্স বাতিল হয়েছে আল সাফি ড্রিংকিং ওয়াটার শাহারী অ্যান্ড ব্রাদার্সের নারজান ড্রিংকিং ওয়াটার মর্ন ডিউ পিওর ড্রিংকিং ওয়াটার ডিউ ড্রিংকিং ওয়াটার শান্তা ফুড প্রডাক্টসের টেস্টি তানি তাসকিয়ার সফট ড্রিংক পাউডার জাহাঙ্গীর ফুড প্রডাক্টসের প্রিয়া ব্র্যান্ডের সফট ড্রিংক পাউডার বনলতা ব্র্যান্ডের ঘি ​​লাইসেন্স স্থগিত হওয়া পণ্য সরিষার তেলে সিটি অয়েল মিলগাজীপুর তীর ব্রান্ডের সরিষার তেল জিবি ব্রান্ডের সরিষার তেল পুষ্টি ব্রান্ডের সরিষার তেল রূপচাঁদা ব্রান্ডের সরিষার তেল এসিআই ব্রান্ডের আয়োডিনযুক্ত লবণ মোল্লা সল্টের আয়োডিনযুক্ত লবণ প্রাণ ব্রান্ডের হলুদের গুড়া ড্যানিশের হলুদের গুড়া ফ্রেশ ব্রান্ডের হলুদের গুড়া আররা ব্রান্ডের ড্রিংকিং ওয়াটার ডানকান ব্রান্ডের ড্রিংকিং ওয়াটার দিঘী ব্রান্ডের ড্রিংকিং ওয়াটার প্রাণ ব্রান্ডের লাচ্ছা সেমাই প্রাণ ব্রান্ডের কারী পাউডার ড্যানিশের কারী পাউডার এসিআই পিওর ধনিয়া গুড়া ডুডলস ব্রান্ডের নুডলস সান ব্রান্ডের চিপস ইত্তেফাকজেডএইচ\n"
          ]
        }
      ]
    },
    {
      "cell_type": "code",
      "metadata": {
        "id": "8hsNBSXg5zK5",
        "colab": {
          "base_uri": "https://localhost:8080/"
        },
        "outputId": "ab655d77-e824-4ea2-c869-29c5c506b34b"
      },
      "source": [
        "# Visualizing Some Text from test dataset \n",
        "for i in range(5): \n",
        "  print(test['category'][i]) \n",
        "  print(test['text'][i]) "
      ],
      "execution_count": 25,
      "outputs": [
        {
          "output_type": "stream",
          "name": "stdout",
          "text": [
            "sports\n",
            "পিটার বিকাসাংজুয়ালা ভুল ফেলেছেন বড্ড ভুল ভুলের খেসারত বড় ভেবেছিল বিকাসাংজুয়ালা একটু ভিন্ন কায়দায় গোল উদযাপন চেয়েছিলেন খেসারত জীবন অভিনব পন্থায় গোল উদযাপন চোটাক্রান্ত ফুটবলারই মৃত্যুঘটনাটি ঘটেছে গত মঙ্গলবার ভারতের মিজোরাম প্রিমিয়ার লিগে বিকাসাংজুয়ালা খেলেন বেথেলহাম ভেংথালাংয়ে চানমারি ওয়েস্টের বিপক্ষে ম্যাচের মিনিটে দারুণ এক গোলে দলকে সমতায় ফিরিয়ে ছুটলেন গোল উদযাপন উদযাপনটা অনেকটা জার্মান তারকা মিরোস্লাভ ক্লোসার ডিগবাজিটা ঠিকঠাক দ্বিতীয় ডিগবাজির সময় ভূমিতে পা পড়ল মাথা মারাত্মক আঘাত পেলেন মেরুদণ্ডে দ্রুতই হাসপাতালে মারা গেলেন বছর বয়সী মিডফিল্ডার মারা চোখজোড়া দান গেছেন তরুণ ফুটবলারমিজোরাম রাজ্যের একজন ফুটবলকর্তা পিটার খুবই প্রতিভাবান খেলোয়াড় স্বপ্ন দেখত জাতীয় লিগ খেলবে মৃত্যুতে শোকাহাত ভেবেছিলাম সেরে উঠবে সূত্র এএফপি\n",
            "education\n",
            "অধ্যায়প্রিয় শিক্ষার্থী বাংলাদেশ বিশ্বপরিচয়ের অধ্যায় সঠিক উত্তরটি লেখো প্রশ্ন প্রতিটি প্রশ্নের মান প্রশ্ন সঠিক উত্তরটি উত্তরপত্রে লেখো জনগণের শাসন বোঝোক রাজতন্ত্র খ সমাজতন্ত্রগ গণতন্ত্র ঘ পরিবারতন্ত্রউত্তর গ গণতন্ত্র গণতন্ত্র কাদের মত অনুসরণ সিদ্ধান্ত হয়ক অধিকাংশের মতানুসারেখ জ্ঞানীদের মতানুসারেগ বয়স্কদের মতানুসারেঘ নারীদের মতানুসারেউত্তর ক অধিকাংশের মতানুসারে গণতান্ত্রিক সিদ্ধান্তে সবাই খুশি কেনক জ্ঞানীদের মত বলেখ অধিকাংশের মত বলেগ বয়স্কদের মত বলেঘ নারীদের মত বলেউত্তর খ অধিকাংশের মত বাংলাদেশ রাষ্ট্রক রাজতান্ত্রিক খ স্বৈরতান্ত্রিকগ গণতান্ত্রিক ঘ সমাজতান্ত্রিকউত্তর গ গণতান্ত্রিক বাংলাদেশে প্রতিষ্ঠার মানুষ দীর্ঘদিন সংগ্রাম করেছেক পরিবারতন্ত্র খ স্বৈরতন্ত্রগ গণতন্ত্র ঘ রাজতন্ত্রউত্তর গ গণতন্ত্র দেশটি কীভাবে উত্তম গণতান্ত্রিক রাষ্ট্রে পরিণত হবেক বিদ্যালয়ে গণতান্ত্রিক আচরণ করলেখ পরিবারে গণতান্ত্রিক আচরণ করলেগ সবাই গণতান্ত্রিক আচরণ করলেঘ সংসদে গণতান্ত্রিক আচরণ করলেউত্তর গ সবাই গণতান্ত্রিক আচরণ কার নেতৃত্বে দলের হয়ক রাজনৈতিক নেতার খ দলের প্রতিষ্ঠাতারগ দলনেতার ঘ সমাজপতিরউত্তর গ দলনেতার গণতন্ত্র মানুষের প্রকাশের সুযোগ দেয়ক মত খ আবেগগ মূল্যবোধ ঘ ব্যক্তিগত চাহিদাউত্তর ক মত যেকোনো সিদ্ধান্তটি গ্রহণ করবক দলনেতার মত খ সমাজপতির মতগ অধিকাংশের মত ঘ দুএকজনের মতউত্তর গ অধিকাংশের মত যেকোনো সিদ্ধান্ত বাস্তবায়নের কোনটি প্রয়োজনক পরমতসহিষ্ণুতা খ সহযোগিতাগ সহমর্মিতা ঘ ঐকমত্যউত্তর ঘ ঐকমত্য শ্রেণিনেতা নির্বাচনের সময় ধরনের মনোভাব দেখাবক স্বৈরতান্ত্রিক খ সমাজতান্ত্রিকগ একনায়কতান্ত্রিক ঘ গণতান্ত্রিকউত্তর ঘ গণতান্ত্রিকপরবর্তী অংশ ছাপা আগামীকালসিদ্দিকুর রহমান সিনিয়র শিক্ষকপ্রগতি মডেল স্কুল এন্ড কলেজ ঢাকা\n",
            "technology\n",
            "পেনড্রাইভ ছোট কাজের এক প্রযুক্তি পণ্য তথ্য আদান–প্রদান বড় ফাইল স্থানান্তর ছোট পণ্যটি লাগে বাজারে ব্র্যান্ডের দামের পেনড্রাইভ পাওয়া যায় এসবের ট্রানসেন্ড এডেটা অ্যাপাসার টুইনমসের চাহিদা বেশিঅ্যাপাসারমডেল এএইচতথ্য ধারণক্ষমতা গিগাবাইটদাম টাকামডেল এএইচতথ্য ধারণক্ষমতা গিগাবাইটদাম টাকামডেল এএইচবিতথ্য ধারণক্ষমতা গিগাবাইটদাম টাকাট্রানসেন্ডমডেল ভিতথ্য ধারণক্ষমতা গিগাবাইটদাম টাকামডেল ভিডব্লিউতথ্য ধারণক্ষমতা গিগাবাইটদাম টাকামডেল ভিতথ্য ধারণক্ষমতা গিগাবাইটদাম টাকাএডেটামডেল ইউভিতথ্য ধারণক্ষমতা গিগাবাইটদাম টাকামডেল ইউভিতথ্য ধারণক্ষমতা গিগাবাইটদাম টাকামডেল ইউভিতথ্য ধারণক্ষমতা গিগাবাইটদাম টাকাটুইনমসতথ্য ধারণক্ষমতা গিগাবাইটদাম টাকাস্মার্ট সময় প্রতিবেদক\n",
            "state\n",
            "স্থানীয় সরকারমন্ত্রী সৈয়দ আশরাফুল ইসলাম জানিয়েছেন শর্তপূরণ সাপেক্ষে দিনাজপুর ময়মনসিংহকে সিটি করপোরেশনে উন্নীত সরকার বিবেচনা সিটি করপোরেশন গঠনের শর্ত পৌর এলাকার জনসংখ্যা ন্যূনতম লাখ বর্গকিলোমিটারে জনসংখ্যার ঘনত্ব তিন বছরে স্থানীয় আয়ের উৎস টাকা আয়তন ন্যূনতম বর্গকিলোমিটার হবেআজ সোমবার বিকেল সাড়ে চারটায় স্পিকার শিরীন শারমিন চৌধুরীর সভাপতিত্বে সংসদের অধিবেশন প্রশ্নোত্তর টেবিলে উত্থাপিত পিনু খানের প্রশ্নের জবাবে স্থানীয় সরকারমন্ত্রী এসব কথা বলেনএম আবদুল লতিফের প্রশ্নের জবাবে মন্ত্রী ঢাকা দক্ষিণ সিটির সরকারি বেসরকারি কাঁচাবাজারকে ফরমালিন ভেজালমুক্ত নির্দেশনা তিন মাসের বাকি বাজারগুলোতে নির্দেশনা তিন মাসের ধাপে ঢাকা সিটির কাঁচাবাজারকে ফরমালিনমুক্ত ঘোষণা ফরমালিন শনাক্ত বুথ স্থাপন পৌরসভাগুলোর হাটবাজারকে ফরমালিনমুক্ত প্রয়োজনীয় যন্ত্রপাতি কেনার স্থানীয় সরকার বিভাগ নির্দেশনা হয়েছেছানোয়ার হোসেনের প্রশ্নের জবাবে স্থানীয় সরকারমন্ত্রী রাজধানীর পথচারীদের চলাচলের ফুটপাত ফুট ওভারব্রিজ উন্মুক্ত মাঝেমধ্যে হকার বেআইনিভাবে ফুটপাত দখল ব্যবসা পরিচালনা সিটি করপোরেশন ভ্রাম্যমাণ আদালতের উচ্ছেদ করেনজরুল ইসলামের প্রশ্নের জবাবে মন্ত্রী বিশ্বব্যাংকের অর্থায়নে ঢাকা ওয়াটার অ্যান্ড স্যানিটেশন প্রজেক্টের আওতায় ঢাকা মহানগরের জলাবদ্ধতা দূর প্রকল্প গ্রহণ আওতায় কল্যাণপুর খাল দ্বিগুণ খাল আবদুল্লাহপুর খাল বাউনিয়া খাল মহাখালী খাল শাহজাদপুর খাল সুতিভোলা খাল জিরানি খাল খিলগাঁও খাল বাসাবো খাল শাহজাহানপুর খালের খননকাজ বাস্তবায়ন বেগুনবাড়ী খাল বাইশটেকি খাল কুর্মিটোলা খাল মান্ডা খাল খননের সম্ভাব্যতা যাচাই\n",
            "entertainment\n",
            "নিয়মিত বৈঠকি মেজাজে শাস্ত্রীয় সংগীত শুনতে সুখবর শাস্ত্রীয় সংগীতের আরেকটি আয়োজন আগামীকাল সন্ধ্যা সাতটায় প্রতিশ্রুতিশীল তরুণ শিল্পী মীর নাকিবুল ইসলাম ধানমন্ডির ইএমকে সেন্টারে তবলা পরিবেশন করবেনপ্রায় বছর তবলা শিখছেন নাকিব শুরুটা হয়েছিল ছায়ানট ছায়ানটের নিয়ম অনুযায়ী দশ বছর বয়স হওয়ার ভর্তি হতো সাড়ে সাত বছরের নাকিব তবলা বাজালেন পন্ডিত মদন গোপাল দাশ মুগ্ধ হয়ে গেলেন শেখা ছয় বছর তবলা শেখেন নাকিবফারুখাবাদ ঘরানার শিল্পী মীর নাকিবুল ইসলাম এরপর বর্তমান গুরু অশোক পালের শেখা বছর শিখছি নিজ হাতে গড়ে তুলছেন কখন ভুল বাজালাম কোথায় ভালো করছি পারতাম সেগুলো সযত্নে ধরিয়ে দেনপণ্ডিত সুরেশ তাওয়ালকার পণ্ডিত গোপাল মিশ্রের শিল্পীর তবলা শেখার সৌভাগ্য হয়েছেনাকিব তবলায় পাখোয়াজ অঙ্গের বাজনার সমন্বয়ও তবলার পাশাপাশি কলকাতায় পাখোয়াজ শিখছেন তাপস দাশের কাছেআগামীকালের অনুষ্ঠানে নাকিব ভাগে তবলা বাজাবেন ভাগে পরম্পরাগত ব্যাকরণসিদ্ধ তবলা বাজাবেন দ্বিতীয় পর্বে পরীক্ষামূলকভাবে কম্পোজিশন সময় হারমোনিয়ামে তামনিয়া ইসলাম এস্রাজে অসিত বিশ্বাসশাস্ত্রীয় সংগীতের অনুষ্ঠান উপভোগ টাকা দর্শনীর বিনিময়ে টিকেট মিলবে ইএমকে সেন্টারেই\n"
          ]
        }
      ]
    },
    {
      "cell_type": "code",
      "metadata": {
        "colab": {
          "base_uri": "https://localhost:8080/"
        },
        "id": "Io4jTTuqFCgl",
        "outputId": "4d997bdf-37cf-4c4c-9382-2357e39e0353"
      },
      "source": [
        "train['category'].value_counts()"
      ],
      "execution_count": 27,
      "outputs": [
        {
          "output_type": "execute_result",
          "data": {
            "text/plain": [
              "international    3682\n",
              "sports           3538\n",
              "entertainment    3533\n",
              "state            3309\n",
              "economy          2749\n",
              "education        2656\n",
              "technology       2424\n",
              "Name: category, dtype: int64"
            ]
          },
          "metadata": {},
          "execution_count": 27
        }
      ]
    },
    {
      "cell_type": "code",
      "metadata": {
        "colab": {
          "base_uri": "https://localhost:8080/"
        },
        "id": "Rnj7Vbwe9jS-",
        "outputId": "b458b978-10da-4385-95a3-73200e92646e"
      },
      "source": [
        "test['category'].value_counts() "
      ],
      "execution_count": 28,
      "outputs": [
        {
          "output_type": "execute_result",
          "data": {
            "text/plain": [
              "sports           3615\n",
              "entertainment    3594\n",
              "international    3590\n",
              "state            3283\n",
              "economy          2816\n",
              "education        2686\n",
              "technology       2391\n",
              "Name: category, dtype: int64"
            ]
          },
          "metadata": {},
          "execution_count": 28
        }
      ]
    },
    {
      "cell_type": "markdown",
      "metadata": {
        "id": "hAG7JGbEKH2_"
      },
      "source": [
        "### 6.1 Balance, Imbalance Check "
      ]
    },
    {
      "cell_type": "code",
      "metadata": {
        "colab": {
          "base_uri": "https://localhost:8080/",
          "height": 507
        },
        "id": "XCSTiL4YFCji",
        "outputId": "2c76f0a1-dfc8-408c-aa2a-ede4939776df"
      },
      "source": [
        "plt.figure(figsize=(12, 7)) \n",
        "\n",
        "# v_c = train['category'].value_counts()\n",
        "# sns.barplot(v_c.index[1:], v_c.values[1:]) \n",
        "train['category'].value_counts().plot(kind='bar') "
      ],
      "execution_count": 29,
      "outputs": [
        {
          "output_type": "execute_result",
          "data": {
            "text/plain": [
              "<matplotlib.axes._subplots.AxesSubplot at 0x7f9db98c8850>"
            ]
          },
          "metadata": {},
          "execution_count": 29
        },
        {
          "output_type": "display_data",
          "data": {
            "image/png": "[encoded data removed]",
            "text/plain": [
              "<Figure size 864x504 with 1 Axes>"
            ]
          },
          "metadata": {
            "needs_background": "light"
          }
        }
      ]
    },
    {
      "cell_type": "code",
      "metadata": {
        "colab": {
          "base_uri": "https://localhost:8080/",
          "height": 507
        },
        "id": "l_udTSQ2bRWv",
        "outputId": "8ff09e62-ce4f-49fa-97ff-58c471c0e046"
      },
      "source": [
        "plt.figure(figsize=(12, 7)) \n",
        "test['category'].value_counts().plot(kind='bar') "
      ],
      "execution_count": 30,
      "outputs": [
        {
          "output_type": "execute_result",
          "data": {
            "text/plain": [
              "<matplotlib.axes._subplots.AxesSubplot at 0x7f9db9902b10>"
            ]
          },
          "metadata": {},
          "execution_count": 30
        },
        {
          "output_type": "display_data",
          "data": {
            "image/png": "[encoded data removed]",
            "text/plain": [
              "<Figure size 864x504 with 1 Axes>"
            ]
          },
          "metadata": {
            "needs_background": "light"
          }
        }
      ]
    },
    {
      "cell_type": "markdown",
      "metadata": {
        "id": "neO1lOH_Kpw7"
      },
      "source": [
        "### 6.2 Most Common Words"
      ]
    },
    {
      "cell_type": "code",
      "metadata": {
        "colab": {
          "base_uri": "https://localhost:8080/"
        },
        "id": "Y9h5fl48_sPL",
        "outputId": "eb8408ea-5193-4cec-fd64-fa52474836f7"
      },
      "source": [
        "pip install python-bidi"
      ],
      "execution_count": 34,
      "outputs": [
        {
          "output_type": "stream",
          "name": "stdout",
          "text": [
            "Collecting python-bidi\n",
            "  Downloading python_bidi-0.4.2-py2.py3-none-any.whl (30 kB)\n",
            "Requirement already satisfied: six in /usr/local/lib/python3.7/dist-packages (from python-bidi) (1.15.0)\n",
            "Installing collected packages: python-bidi\n",
            "Successfully installed python-bidi-0.4.2\n"
          ]
        }
      ]
    },
    {
      "cell_type": "code",
      "metadata": {
        "id": "3-t0y5kTAakZ"
      },
      "source": [
        "from bidi.algorithm import get_display"
      ],
      "execution_count": 36,
      "outputs": []
    },
    {
      "cell_type": "code",
      "metadata": {
        "colab": {
          "base_uri": "https://localhost:8080/",
          "height": 935
        },
        "id": "ssl1Ae1fFCmg",
        "outputId": "1dfa7222-262d-484e-dacf-604c7393c59a"
      },
      "source": [
        "prop = fm.FontProperties(fname='kalpurush.ttf') \n",
        "\n",
        "# For train dataset \n",
        "results = Counter(\" \".join(train['text'].values.tolist()).split(\" \")).items()\n",
        "results_sorted = sorted(results, key = lambda x: x[1], reverse=True)  \n",
        "\n",
        "x = [] \n",
        "y = [] \n",
        "for t in range(0, 20): \n",
        "  #print(results_sorted[t])\n",
        "  x.append(results_sorted[t][0])\n",
        "  y.append(results_sorted[t][1])\n",
        "\n",
        "#prop = fm.FontProperties(fname='kalpurush.ttf')\n",
        "#plt.figure(figsize=(8, 16))\n",
        "\n",
        "plt.figure(figsize=(8, 16))\n",
        "sns.barplot(x=y, y=x)"
      ],
      "execution_count": 41,
      "outputs": [
        {
          "output_type": "execute_result",
          "data": {
            "text/plain": [
              "<matplotlib.axes._subplots.AxesSubplot at 0x7f9db71f7fd0>"
            ]
          },
          "metadata": {},
          "execution_count": 41
        },
        {
          "output_type": "display_data",
          "data": {
            "image/png": "[encoded data removed]",
            "text/plain": [
              "<Figure size 576x1152 with 1 Axes>"
            ]
          },
          "metadata": {
            "needs_background": "light"
          }
        }
      ]
    },
    {
      "cell_type": "code",
      "metadata": {
        "id": "X1BOTFbWLDFO",
        "colab": {
          "base_uri": "https://localhost:8080/",
          "height": 935
        },
        "outputId": "c0082a92-3a35-4563-cac1-dd5a621c75d3"
      },
      "source": [
        "# For test dataset \n",
        "results = Counter(\" \".join(test['text'].values.tolist()).split(\" \")).items()\n",
        "results_sorted = sorted(results, key = lambda x: x[1], reverse=True)  \n",
        "\n",
        "x = [] \n",
        "y = [] \n",
        "for t in range(0, 20): \n",
        "  #print(results_sorted[t])\n",
        "  x.append(results_sorted[t][0])\n",
        "  y.append(results_sorted[t][1])\n",
        "\n",
        "plt.figure(figsize=(8, 16))\n",
        "sns.barplot(x=y, y=x)"
      ],
      "execution_count": null,
      "outputs": [
        {
          "output_type": "execute_result",
          "data": {
            "text/plain": [
              "<matplotlib.axes._subplots.AxesSubplot at 0x7f7dda91fad0>"
            ]
          },
          "metadata": {},
          "execution_count": 26
        },
        {
          "output_type": "display_data",
          "data": {
            "image/png": "[encoded data removed]",
            "text/plain": [
              "<Figure size 576x1152 with 1 Axes>"
            ]
          },
          "metadata": {
            "needs_background": "light"
          }
        }
      ]
    },
    {
      "cell_type": "markdown",
      "metadata": {
        "id": "yueM1r02lzG4"
      },
      "source": [
        "### 6.3 Word Cloud "
      ]
    },
    {
      "cell_type": "code",
      "metadata": {
        "id": "jBHcND-vt1Lt",
        "colab": {
          "base_uri": "https://localhost:8080/",
          "height": 254
        },
        "outputId": "a0c53bf9-78c0-4488-e862-f09fe9ccd454"
      },
      "source": [
        "prop = fm.FontProperties(fname='kalpurush.ttf') \n",
        "\n",
        "# First row from train dataset \n",
        "train_text = train['text'][0]\n",
        "\n",
        "# defining word cloud \n",
        "wordcloud = WordCloud(font_path=\"/content/drive/MyDrive/technometrics/kalpurush.ttf\").generate(train_text) \n",
        "\n",
        "# visualizing word cloud \n",
        "plt.figure(figsize=(8, 6))\n",
        "plt.imshow(wordcloud, interpolation='bilinear')\n",
        "plt.axis('off') \n",
        "plt.show() "
      ],
      "execution_count": 39,
      "outputs": [
        {
          "output_type": "display_data",
          "data": {
            "image/png": "[encoded data removed]",
            "text/plain": [
              "<Figure size 576x432 with 1 Axes>"
            ]
          },
          "metadata": {
            "needs_background": "light"
          }
        }
      ]
    },
    {
      "cell_type": "code",
      "metadata": {
        "id": "O4_DWzb_i_OJ",
        "colab": {
          "base_uri": "https://localhost:8080/",
          "height": 254
        },
        "outputId": "d8bdafcd-6d12-44c2-fcac-471f8697f236"
      },
      "source": [
        "# First row from train dataset \n",
        "test_text = test['text'][0]\n",
        "\n",
        "# defining word cloud \n",
        "wordcloud = WordCloud(font_path=\"/content/drive/MyDrive/technometrics/kalpurush.ttf\").generate(test_text) \n",
        "\n",
        "# visualizing word cloud \n",
        "plt.figure(figsize=(8, 6))\n",
        "plt.imshow(wordcloud, interpolation='bilinear')\n",
        "plt.axis('off') \n",
        "plt.show() "
      ],
      "execution_count": 40,
      "outputs": [
        {
          "output_type": "display_data",
          "data": {
            "image/png": "[encoded data removed]",
            "text/plain": [
              "<Figure size 576x432 with 1 Axes>"
            ]
          },
          "metadata": {
            "needs_background": "light"
          }
        }
      ]
    },
    {
      "cell_type": "markdown",
      "metadata": {
        "id": "yLFosaNZt12_"
      },
      "source": [
        "# 7. Text Classification Using Machine Learning"
      ]
    },
    {
      "cell_type": "markdown",
      "metadata": {
        "id": "by4Y8k7vWDDl"
      },
      "source": [
        "### 7.1 Using Bag-of-Words with CountVectorizer"
      ]
    },
    {
      "cell_type": "code",
      "metadata": {
        "id": "CAoRSi_Mt1Pz"
      },
      "source": [
        "import numpy as np \n",
        "import pandas as pd \n",
        "import matplotlib.pyplot as plt \n",
        "import seaborn as sns \n",
        "\n",
        "from sklearn.preprocessing import LabelEncoder\n",
        "from sklearn.feature_extraction.text import CountVectorizer \n",
        "from sklearn.model_selection import train_test_split\n",
        "from sklearn.naive_bayes import MultinomialNB \n",
        "from sklearn.metrics import accuracy_score, confusion_matrix, classification_report"
      ],
      "execution_count": null,
      "outputs": []
    },
    {
      "cell_type": "code",
      "metadata": {
        "colab": {
          "base_uri": "https://localhost:8080/",
          "height": 224
        },
        "id": "ZJWysRKHGNFl",
        "outputId": "0a057679-7aac-4592-976c-9d0ddf0e2866"
      },
      "source": [
        "# Reading Preprocessed train and test dataset \n",
        "train = pd.read_csv(\"/content/drive/MyDrive/technometrics/sample dataset/train.csv\") \n",
        "test = pd.read_csv(\"/content/drive/MyDrive/technometrics/sample dataset/test.csv\")\n",
        "\n",
        "# Taking sample of the train and test dataset \n",
        "train, unnecessary_train = train_test_split(train, test_size=.7, stratify=train['category']) \n",
        "test, unnecessary_test = train_test_split(test, test_size=.7, stratify=test['category']) \n",
        "\n",
        "# Joining train and test dataset \n",
        "data = pd.concat([train, test], axis=0, ignore_index=True) \n",
        "\n",
        "# Again dividing data into train and test \n",
        "#train, test = train_test_split(data, test_size=.05, stratify=data['category']) \n",
        "#print(\"Shape of train :{} \\nShape of test :{}\".format(train.shape, test.shape)) \n",
        "\n",
        "# Shuffle and Resetting index for both train and test \n",
        "#train = train.sample(frac=1).reset_index(drop=True) \n",
        "#test = test.sample(frac=1).reset_index(drop=True) \n",
        "data = data.sample(frac=1).reset_index(drop=True) \n",
        "\n",
        "print(\"Shape of data is :{}\".format(data.shape)) \n",
        "data.head()"
      ],
      "execution_count": null,
      "outputs": [
        {
          "output_type": "stream",
          "name": "stdout",
          "text": [
            "Shape of data is :(13115, 2)\n"
          ]
        },
        {
          "output_type": "execute_result",
          "data": {
            "text/html": [
              "<div>\n",
              "<style scoped>\n",
              "    .dataframe tbody tr th:only-of-type {\n",
              "        vertical-align: middle;\n",
              "    }\n",
              "\n",
              "    .dataframe tbody tr th {\n",
              "        vertical-align: top;\n",
              "    }\n",
              "\n",
              "    .dataframe thead th {\n",
              "        text-align: right;\n",
              "    }\n",
              "</style>\n",
              "<table border=\"1\" class=\"dataframe\">\n",
              "  <thead>\n",
              "    <tr style=\"text-align: right;\">\n",
              "      <th></th>\n",
              "      <th>text</th>\n",
              "      <th>category</th>\n",
              "    </tr>\n",
              "  </thead>\n",
              "  <tbody>\n",
              "    <tr>\n",
              "      <th>0</th>\n",
              "      <td>আগামীকাল শুক্রবার সাপ্তাহিক বন্ধের দেশের বাণিজ...</td>\n",
              "      <td>economy</td>\n",
              "    </tr>\n",
              "    <tr>\n",
              "      <th>1</th>\n",
              "      <td>বাড়ি নির্মাণে টাকা ঋণ দেবে রাষ্ট্রীয় সংস্থা বা...</td>\n",
              "      <td>economy</td>\n",
              "    </tr>\n",
              "    <tr>\n",
              "      <th>2</th>\n",
              "      <td>লয়ে যাও আমায় শিরোনামে কুষ্টিয়ার ছেঁউড়িয়ায় লালন...</td>\n",
              "      <td>entertainment</td>\n",
              "    </tr>\n",
              "    <tr>\n",
              "      <th>3</th>\n",
              "      <td>মার্কিন গোয়েন্দাদের নিরপরাধ ব্রিটিশ নাগরিকদের ...</td>\n",
              "      <td>international</td>\n",
              "    </tr>\n",
              "    <tr>\n",
              "      <th>4</th>\n",
              "      <td>ঈদুল আজহার ছুটির বাজার জমে উঠতে ঈদুল আজহার কেজ...</td>\n",
              "      <td>economy</td>\n",
              "    </tr>\n",
              "  </tbody>\n",
              "</table>\n",
              "</div>"
            ],
            "text/plain": [
              "                                                text       category\n",
              "0  আগামীকাল শুক্রবার সাপ্তাহিক বন্ধের দেশের বাণিজ...        economy\n",
              "1  বাড়ি নির্মাণে টাকা ঋণ দেবে রাষ্ট্রীয় সংস্থা বা...        economy\n",
              "2  লয়ে যাও আমায় শিরোনামে কুষ্টিয়ার ছেঁউড়িয়ায় লালন...  entertainment\n",
              "3  মার্কিন গোয়েন্দাদের নিরপরাধ ব্রিটিশ নাগরিকদের ...  international\n",
              "4  ঈদুল আজহার ছুটির বাজার জমে উঠতে ঈদুল আজহার কেজ...        economy"
            ]
          },
          "metadata": {},
          "execution_count": 2
        }
      ]
    },
    {
      "cell_type": "code",
      "metadata": {
        "id": "cCARv1qQalmJ"
      },
      "source": [
        "X = data['text'] \n",
        "y = data['category'] "
      ],
      "execution_count": null,
      "outputs": []
    },
    {
      "cell_type": "code",
      "metadata": {
        "id": "QqLVnbcxvM0R"
      },
      "source": [
        "le = LabelEncoder() \n",
        "y = le.fit_transform(y) "
      ],
      "execution_count": null,
      "outputs": []
    },
    {
      "cell_type": "code",
      "metadata": {
        "id": "jvaANAp4alpy",
        "colab": {
          "base_uri": "https://localhost:8080/"
        },
        "outputId": "f8c278b3-94f4-44e5-b390-55d3b6b1f9fc"
      },
      "source": [
        "count_vectorizer = CountVectorizer() \n",
        "X = count_vectorizer.fit_transform(X).toarray() \n",
        "X.shape "
      ],
      "execution_count": null,
      "outputs": [
        {
          "output_type": "execute_result",
          "data": {
            "text/plain": [
              "(13115, 27243)"
            ]
          },
          "metadata": {},
          "execution_count": 5
        }
      ]
    },
    {
      "cell_type": "code",
      "metadata": {
        "id": "BpkZwc4Salsx",
        "colab": {
          "base_uri": "https://localhost:8080/"
        },
        "outputId": "a4a7877f-410a-405f-ef99-3aef5f47326c"
      },
      "source": [
        "train_x, x_valid, train_y, y_valid = train_test_split(X, y, test_size=.05, stratify=y) \n",
        "print(\"Shape of x_train: {} \\nShape of x_test: {} \\nShape of y_train: {} \\nShape of y_test: {}\".format(train_x.shape, x_valid.shape, train_y.shape, y_valid.shape))\n",
        "\n",
        "x_train, x_test, y_train, y_test = train_test_split(train_x, train_y, test_size=.05, stratify=train_y)\n",
        "print(\"Shape of x_train is :{} \\nShape of x_test is :{} \\nShape of y_train is :{} \\nShape of y_test is :{}\".format(x_train.shape, x_test.shape, y_train.shape, y_test.shape))"
      ],
      "execution_count": null,
      "outputs": [
        {
          "output_type": "stream",
          "name": "stdout",
          "text": [
            "Shape of x_train: (12459, 27243) \n",
            "Shape of x_test: (656, 27243) \n",
            "Shape of y_train: (12459,) \n",
            "Shape of y_test: (656,)\n",
            "Shape of x_train is :(11836, 27243) \n",
            "Shape of x_test is :(623, 27243) \n",
            "Shape of y_train is :(11836,) \n",
            "Shape of y_test is :(623,)\n"
          ]
        }
      ]
    },
    {
      "cell_type": "code",
      "metadata": {
        "id": "1aekkjqDalvu",
        "colab": {
          "base_uri": "https://localhost:8080/"
        },
        "outputId": "bcc70ef6-76cc-44d2-f4ea-214eb0fe75fc"
      },
      "source": [
        "model_mnb = MultinomialNB() \n",
        "model_mnb.fit(x_train, y_train) "
      ],
      "execution_count": null,
      "outputs": [
        {
          "output_type": "execute_result",
          "data": {
            "text/plain": [
              "MultinomialNB(alpha=1.0, class_prior=None, fit_prior=True)"
            ]
          },
          "metadata": {},
          "execution_count": 7
        }
      ]
    },
    {
      "cell_type": "code",
      "metadata": {
        "id": "RWKg9x9RsqgF"
      },
      "source": [
        "y_pred = model_mnb.predict(x_valid) "
      ],
      "execution_count": null,
      "outputs": []
    },
    {
      "cell_type": "code",
      "metadata": {
        "id": "6Fki8a7Qsqio",
        "colab": {
          "base_uri": "https://localhost:8080/"
        },
        "outputId": "5eef9c54-400b-4991-bc99-a13180b00e53"
      },
      "source": [
        "ac = accuracy_score(y_valid, y_pred)\n",
        "print(\"Accuracy Score is: {}\".format(ac))"
      ],
      "execution_count": null,
      "outputs": [
        {
          "output_type": "stream",
          "name": "stdout",
          "text": [
            "Accuracy Score is: 0.8475609756097561\n"
          ]
        }
      ]
    },
    {
      "cell_type": "code",
      "metadata": {
        "id": "-pl88GrMxWzL",
        "colab": {
          "base_uri": "https://localhost:8080/"
        },
        "outputId": "7002182e-4d03-494c-9f88-bc6a3e0ddaeb"
      },
      "source": [
        "# Classification Report  \n",
        "print(classification_report(y_valid, y_pred)) "
      ],
      "execution_count": null,
      "outputs": [
        {
          "output_type": "stream",
          "name": "stdout",
          "text": [
            "              precision    recall  f1-score   support\n",
            "\n",
            "           0       0.86      0.80      0.83        84\n",
            "           1       0.98      0.57      0.72        80\n",
            "           2       0.86      0.95      0.90       105\n",
            "           3       0.83      0.84      0.84       108\n",
            "           4       0.92      0.90      0.91       107\n",
            "           5       0.76      0.91      0.83        99\n",
            "           6       0.80      0.90      0.85        73\n",
            "\n",
            "    accuracy                           0.85       656\n",
            "   macro avg       0.86      0.84      0.84       656\n",
            "weighted avg       0.86      0.85      0.84       656\n",
            "\n"
          ]
        }
      ]
    },
    {
      "cell_type": "code",
      "metadata": {
        "id": "Nlm2I7P5tGGU",
        "colab": {
          "base_uri": "https://localhost:8080/",
          "height": 596
        },
        "outputId": "e69f4a71-bee6-4bd8-a928-7ae000a2cbe5"
      },
      "source": [
        "# Confusion Matrix \n",
        "plt.figure(figsize=(15, 10))\n",
        "sns.heatmap(confusion_matrix(y_valid, y_pred), annot=True)\n",
        "plt.show() "
      ],
      "execution_count": null,
      "outputs": [
        {
          "output_type": "display_data",
          "data": {
            "image/png": "[encoded data removed]",
            "text/plain": [
              "<Figure size 1080x720 with 2 Axes>"
            ]
          },
          "metadata": {
            "needs_background": "light"
          }
        }
      ]
    },
    {
      "cell_type": "code",
      "metadata": {
        "id": "mAr4rHVCtLrO"
      },
      "source": [
        "# Model testing with test dataset \n",
        "def text_data_preprocessing_and_model_predicting(x_test, y_test, model_mnb): \n",
        "  X = x_test \n",
        "  y = y_test   \n",
        "  \n",
        "  # Predicting with model \n",
        "  y_pred = model_mnb.predict(X)\n",
        "  ac_test = accuracy_score(y, y_pred) \n",
        "  print(\"Accuracy score of test dataset is :{}\".format(ac_test)) "
      ],
      "execution_count": null,
      "outputs": []
    },
    {
      "cell_type": "code",
      "metadata": {
        "id": "pVSlAzxCuCSv",
        "colab": {
          "base_uri": "https://localhost:8080/"
        },
        "outputId": "338396fe-78e7-491c-99bf-410ad0b08d7a"
      },
      "source": [
        "# calling the function \n",
        "text_data_preprocessing_and_model_predicting(x_test, y_test, model_mnb)"
      ],
      "execution_count": null,
      "outputs": [
        {
          "output_type": "stream",
          "name": "stdout",
          "text": [
            "Accuracy score of test dataset is :0.841091492776886\n"
          ]
        }
      ]
    },
    {
      "cell_type": "code",
      "metadata": {
        "id": "3hyAqpfQyUMO"
      },
      "source": [
        ""
      ],
      "execution_count": null,
      "outputs": []
    },
    {
      "cell_type": "markdown",
      "metadata": {
        "id": "T4vPRCDwyu6Y"
      },
      "source": [
        "# 7.2 Using Pipeline and Multimodels/Multialgorithms"
      ]
    },
    {
      "cell_type": "code",
      "metadata": {
        "id": "dN2XJ8m37dPJ"
      },
      "source": [
        "import numpy as np \n",
        "import pandas as pd \n",
        "\n",
        "from sklearn.preprocessing import LabelEncoder\n",
        "from sklearn.feature_extraction.text import CountVectorizer \n",
        "from sklearn.model_selection import train_test_split\n",
        "from sklearn.feature_extraction.text import TfidfTransformer\n",
        "from sklearn.naive_bayes import MultinomialNB \n",
        "from sklearn.pipeline import Pipeline\n",
        "from sklearn.linear_model import SGDClassifier\n",
        "from sklearn.model_selection import GridSearchCV"
      ],
      "execution_count": null,
      "outputs": []
    },
    {
      "cell_type": "code",
      "metadata": {
        "colab": {
          "base_uri": "https://localhost:8080/",
          "height": 224
        },
        "id": "5MU5P5_nTwF6",
        "outputId": "05a897d7-e5d7-48f7-ccdf-e5cc6337bac3"
      },
      "source": [
        "train = pd.read_csv(\"/content/drive/MyDrive/technometrics/sample dataset/train.csv\") \n",
        "test = pd.read_csv(\"/content/drive/MyDrive/technometrics/sample dataset/test.csv\")\n",
        "\n",
        "# Taking sample of the train and test dataset \n",
        "train, unnecessary_train = train_test_split(train, test_size=.7, stratify=train['category']) \n",
        "test, unnecessary_test = train_test_split(test, test_size=.7, stratify=test['category']) \n",
        "\n",
        "# Joining train and test dataset \n",
        "data = pd.concat([train, test], axis=0, ignore_index=True) \n",
        "\n",
        "# resetting index\n",
        "data = data.sample(frac=1).reset_index(drop=True) \n",
        "\n",
        "print(\"Shape of data is :{}\".format(data.shape)) \n",
        "data.head()"
      ],
      "execution_count": null,
      "outputs": [
        {
          "output_type": "stream",
          "name": "stdout",
          "text": [
            "Shape of data is :(13115, 2)\n"
          ]
        },
        {
          "output_type": "execute_result",
          "data": {
            "text/html": [
              "<div>\n",
              "<style scoped>\n",
              "    .dataframe tbody tr th:only-of-type {\n",
              "        vertical-align: middle;\n",
              "    }\n",
              "\n",
              "    .dataframe tbody tr th {\n",
              "        vertical-align: top;\n",
              "    }\n",
              "\n",
              "    .dataframe thead th {\n",
              "        text-align: right;\n",
              "    }\n",
              "</style>\n",
              "<table border=\"1\" class=\"dataframe\">\n",
              "  <thead>\n",
              "    <tr style=\"text-align: right;\">\n",
              "      <th></th>\n",
              "      <th>text</th>\n",
              "      <th>category</th>\n",
              "    </tr>\n",
              "  </thead>\n",
              "  <tbody>\n",
              "    <tr>\n",
              "      <th>0</th>\n",
              "      <td>চিকিৎসা এখনো শেষ হয়নি অসুস্থ বছরের বৃদ্ধ বাবা ...</td>\n",
              "      <td>state</td>\n",
              "    </tr>\n",
              "    <tr>\n",
              "      <th>1</th>\n",
              "      <td>চট্টগ্রাম কলেজে ছাত্রলীগের পক্ষের গোলাগুলি সং...</td>\n",
              "      <td>state</td>\n",
              "    </tr>\n",
              "    <tr>\n",
              "      <th>2</th>\n",
              "      <td>উপকূলীয় অঞ্চলের আট পৌরসভার অবকাঠামো উন্নয়নে লা...</td>\n",
              "      <td>economy</td>\n",
              "    </tr>\n",
              "    <tr>\n",
              "      <th>3</th>\n",
              "      <td>দর্শকেরা রীতিমতো দম বন্ধ শেষ ভারতের রানের জয়ে ...</td>\n",
              "      <td>sports</td>\n",
              "    </tr>\n",
              "    <tr>\n",
              "      <th>4</th>\n",
              "      <td>আইপিএলে দিয়ে দুবার ডাক মারলেন বিরাট কোহলি প্রথ...</td>\n",
              "      <td>sports</td>\n",
              "    </tr>\n",
              "  </tbody>\n",
              "</table>\n",
              "</div>"
            ],
            "text/plain": [
              "                                                text category\n",
              "0  চিকিৎসা এখনো শেষ হয়নি অসুস্থ বছরের বৃদ্ধ বাবা ...    state\n",
              "1  চট্টগ্রাম কলেজে ছাত্রলীগের পক্ষের গোলাগুলি সং...    state\n",
              "2  উপকূলীয় অঞ্চলের আট পৌরসভার অবকাঠামো উন্নয়নে লা...  economy\n",
              "3  দর্শকেরা রীতিমতো দম বন্ধ শেষ ভারতের রানের জয়ে ...   sports\n",
              "4  আইপিএলে দিয়ে দুবার ডাক মারলেন বিরাট কোহলি প্রথ...   sports"
            ]
          },
          "metadata": {},
          "execution_count": 9
        }
      ]
    },
    {
      "cell_type": "code",
      "metadata": {
        "id": "RaeSg77Ry4po"
      },
      "source": [
        "# Feature and label data \n",
        "X = data['text'] \n",
        "y = data['category'] "
      ],
      "execution_count": null,
      "outputs": []
    },
    {
      "cell_type": "code",
      "metadata": {
        "id": "s7cBjH5oy4sx"
      },
      "source": [
        "# Label Encoder\n",
        "le = LabelEncoder() \n",
        "y = le.fit_transform(y) "
      ],
      "execution_count": null,
      "outputs": []
    },
    {
      "cell_type": "code",
      "metadata": {
        "id": "E2fENGKoy4v2",
        "colab": {
          "base_uri": "https://localhost:8080/"
        },
        "outputId": "9ca3e178-7610-40d2-8477-7e1ce1e8eac5"
      },
      "source": [
        "# Dividing dataset \n",
        "x_train, x_test, y_train, y_test = train_test_split(X, y, test_size=.1, stratify=y)\n",
        "print(\"Shape of x_train is :{} \\nShape of x_test is :{} \\nShape of y_train is :{} \\nShape of y_test is :{}\".format(x_train.shape, x_test.shape, y_train.shape, y_test.shape)) \n"
      ],
      "execution_count": null,
      "outputs": [
        {
          "output_type": "stream",
          "name": "stdout",
          "text": [
            "Shape of x_train is :(11803,) \n",
            "Shape of x_test is :(1312,) \n",
            "Shape of y_train is :(11803,) \n",
            "Shape of y_test is :(1312,)\n"
          ]
        }
      ]
    },
    {
      "cell_type": "code",
      "metadata": {
        "id": "8_rCMBwby42-",
        "colab": {
          "base_uri": "https://localhost:8080/"
        },
        "outputId": "7bd41fa7-21e1-4061-b719-e1c0d1b0bdc9"
      },
      "source": [
        "# Count vectorizer \n",
        "count_vectorizer = CountVectorizer() \n",
        "X_train_count = count_vectorizer.fit_transform(X).toarray() \n",
        "X_train_count.shape "
      ],
      "execution_count": null,
      "outputs": [
        {
          "output_type": "execute_result",
          "data": {
            "text/plain": [
              "(13115, 28042)"
            ]
          },
          "metadata": {},
          "execution_count": 16
        }
      ]
    },
    {
      "cell_type": "code",
      "metadata": {
        "id": "FaeYX5Umy46W",
        "colab": {
          "base_uri": "https://localhost:8080/"
        },
        "outputId": "9f01697c-5543-401a-c0c6-2a930f86ea6e"
      },
      "source": [
        "# TfidfVectorizer \n",
        "tfidf_transformer = TfidfTransformer() \n",
        "X_train_tfidf = tfidf_transformer.fit_transform(X_train_count) \n",
        "X_train_tfidf.shape "
      ],
      "execution_count": null,
      "outputs": [
        {
          "output_type": "execute_result",
          "data": {
            "text/plain": [
              "(13115, 28042)"
            ]
          },
          "metadata": {},
          "execution_count": 17
        }
      ]
    },
    {
      "cell_type": "code",
      "metadata": {
        "id": "Dof_LDGAy49g",
        "colab": {
          "base_uri": "https://localhost:8080/"
        },
        "outputId": "b32feb87-c446-4aab-d6aa-379c4f408354"
      },
      "source": [
        "# MultinomialNB \n",
        "mnb = MultinomialNB()\n",
        "mnb.fit(X_train_tfidf, y) "
      ],
      "execution_count": null,
      "outputs": [
        {
          "output_type": "execute_result",
          "data": {
            "text/plain": [
              "MultinomialNB(alpha=1.0, class_prior=None, fit_prior=True)"
            ]
          },
          "metadata": {},
          "execution_count": 20
        }
      ]
    },
    {
      "cell_type": "code",
      "metadata": {
        "id": "BQhoeeHwy5BK"
      },
      "source": [
        "# All of the above algorithms in 1 pipeline using MultinomialNB\n",
        "text_pipeline = Pipeline([('vect', CountVectorizer()), ('tfidf', TfidfTransformer()), ('clf', MultinomialNB())])\n",
        "text_pipeline = text_pipeline.fit(x_train, y_train) "
      ],
      "execution_count": null,
      "outputs": []
    },
    {
      "cell_type": "code",
      "metadata": {
        "id": "zCBjVsWLy5D7",
        "colab": {
          "base_uri": "https://localhost:8080/"
        },
        "outputId": "30ea10d0-699c-41d4-fd1b-aa2d5603b350"
      },
      "source": [
        "# Testing with test dataset \n",
        "def predict_with_test_data_mnb(x_test, y_test, text_pipeline): \n",
        "\n",
        "    y_predict = text_pipeline.predict(x_test) \n",
        "    acc = np.mean(y_test == y_predict)\n",
        "    print(\"The accuracy of the test dataset is :{}\".format(acc)) \n",
        "\n",
        "predict_with_test_data_mnb(x_test, y_test, text_pipeline) "
      ],
      "execution_count": null,
      "outputs": [
        {
          "output_type": "stream",
          "name": "stdout",
          "text": [
            "The accuracy of the test dataset is :0.7942073170731707\n"
          ]
        }
      ]
    },
    {
      "cell_type": "code",
      "metadata": {
        "id": "q3TleM6zy5Gi",
        "colab": {
          "base_uri": "https://localhost:8080/"
        },
        "outputId": "84dcad66-04f7-42b1-964c-50cef3eb0f80"
      },
      "source": [
        "# All of the above algorithms in 1 pipeline using SGDClassifier\n",
        "text_pipeline2 = Pipeline([('vect', CountVectorizer()), ('tfidf', TfidfTransformer()), ('clf-svm', SGDClassifier(loss='hinge', penalty='l2',alpha=1e-3, max_iter=5, random_state=42))])\n",
        "text_pipeline2 = text_pipeline2.fit(x_train, y_train)  "
      ],
      "execution_count": null,
      "outputs": [
        {
          "output_type": "stream",
          "name": "stderr",
          "text": [
            "/usr/local/lib/python3.7/dist-packages/sklearn/linear_model/_stochastic_gradient.py:557: ConvergenceWarning: Maximum number of iteration reached before convergence. Consider increasing max_iter to improve the fit.\n",
            "  ConvergenceWarning)\n"
          ]
        }
      ]
    },
    {
      "cell_type": "code",
      "metadata": {
        "id": "ifoDywpbCwax",
        "colab": {
          "base_uri": "https://localhost:8080/"
        },
        "outputId": "54a89371-1877-4f56-89da-01111509ae01"
      },
      "source": [
        "def predict_with_test_data_svm(x_test, y_test, text_pipeline2):  \n",
        "\n",
        "    y_predict = text_pipeline2.predict(x_test) \n",
        "    acc = np.mean(y_test == y_predict)  \n",
        "    print(\"The accuracy of the test dataset is :{}\".format(acc)) \n",
        "\n",
        "predict_with_test_data_svm(x_test, y_test, text_pipeline2) "
      ],
      "execution_count": null,
      "outputs": [
        {
          "output_type": "stream",
          "name": "stdout",
          "text": [
            "The accuracy of the test dataset is :0.8551829268292683\n"
          ]
        }
      ]
    },
    {
      "cell_type": "code",
      "metadata": {
        "id": "0P3UpNlKF-aY"
      },
      "source": [
        "# Using GridSearchCV for 1st pipeline \n",
        "parameters = {'vect__ngram_range': [(1, 1), (1, 2)], 'tfidf__use_idf': (True, False), 'clf__alpha': (1e-2, 1e-3)}\n",
        "\n",
        "gscv = GridSearchCV(text_pipeline, parameters, n_jobs=-1) \n",
        "gscv = gscv.fit(x_train, y_train) "
      ],
      "execution_count": null,
      "outputs": []
    },
    {
      "cell_type": "code",
      "metadata": {
        "id": "IUey13KwO84N",
        "colab": {
          "base_uri": "https://localhost:8080/"
        },
        "outputId": "5fd3a4e9-b2c2-4108-8be0-d3059a1b1fdb"
      },
      "source": [
        "gscv.best_score_"
      ],
      "execution_count": null,
      "outputs": [
        {
          "output_type": "execute_result",
          "data": {
            "text/plain": [
              "0.8941792475179291"
            ]
          },
          "metadata": {},
          "execution_count": 26
        }
      ]
    },
    {
      "cell_type": "code",
      "metadata": {
        "id": "4J0hIMbNPtVM",
        "colab": {
          "base_uri": "https://localhost:8080/"
        },
        "outputId": "a967b718-439b-4616-abd7-d503e4d6a59e"
      },
      "source": [
        "gscv.best_params_"
      ],
      "execution_count": null,
      "outputs": [
        {
          "output_type": "execute_result",
          "data": {
            "text/plain": [
              "{'clf__alpha': 0.01, 'tfidf__use_idf': True, 'vect__ngram_range': (1, 2)}"
            ]
          },
          "metadata": {},
          "execution_count": 27
        }
      ]
    },
    {
      "cell_type": "code",
      "metadata": {
        "id": "RkjedZXeP3y0"
      },
      "source": [
        ""
      ],
      "execution_count": null,
      "outputs": []
    },
    {
      "cell_type": "code",
      "metadata": {
        "id": "E7UB3tXCP35r",
        "colab": {
          "base_uri": "https://localhost:8080/"
        },
        "outputId": "c1f41277-a047-462a-9103-f86249926995"
      },
      "source": [
        "# Using GridSearchCV for 2nd pipeline \n",
        "parameters = {'vect__ngram_range': [(1, 1), (1, 2)], 'tfidf__use_idf': (True, False),'clf-svm__alpha': (1e-2, 1e-3)}\n",
        "\n",
        "gscv2 = GridSearchCV(text_pipeline2, parameters, n_jobs=-1) \n",
        "gscv2 = gscv2.fit(x_train, y_train) "
      ],
      "execution_count": null,
      "outputs": [
        {
          "output_type": "stream",
          "name": "stderr",
          "text": [
            "/usr/local/lib/python3.7/dist-packages/sklearn/linear_model/_stochastic_gradient.py:557: ConvergenceWarning: Maximum number of iteration reached before convergence. Consider increasing max_iter to improve the fit.\n",
            "  ConvergenceWarning)\n"
          ]
        }
      ]
    },
    {
      "cell_type": "code",
      "metadata": {
        "id": "UOLWHH38P926",
        "colab": {
          "base_uri": "https://localhost:8080/"
        },
        "outputId": "65be2ee0-b390-4cd7-bcd9-4f96d947a3ed"
      },
      "source": [
        "gscv2.best_score_"
      ],
      "execution_count": null,
      "outputs": [
        {
          "output_type": "execute_result",
          "data": {
            "text/plain": [
              "0.8748629207675576"
            ]
          },
          "metadata": {},
          "execution_count": 29
        }
      ]
    },
    {
      "cell_type": "code",
      "metadata": {
        "id": "BrLSZ8HoP96L",
        "colab": {
          "base_uri": "https://localhost:8080/"
        },
        "outputId": "09d39baf-90bf-4be6-8913-1c2f3ce39ae2"
      },
      "source": [
        "gscv2.best_params_ "
      ],
      "execution_count": null,
      "outputs": [
        {
          "output_type": "execute_result",
          "data": {
            "text/plain": [
              "{'clf-svm__alpha': 0.001, 'tfidf__use_idf': True, 'vect__ngram_range': (1, 2)}"
            ]
          },
          "metadata": {},
          "execution_count": 30
        }
      ]
    },
    {
      "cell_type": "code",
      "metadata": {
        "id": "0qQEUsQrQgEd"
      },
      "source": [
        ""
      ],
      "execution_count": null,
      "outputs": []
    },
    {
      "cell_type": "markdown",
      "metadata": {
        "id": "i6D5uZRyamgC"
      },
      "source": [
        "# 8 Text Classification Using GRU of Deep Learning"
      ]
    },
    {
      "cell_type": "code",
      "metadata": {
        "id": "D8nqSaYEatpl"
      },
      "source": [
        "import numpy as np \n",
        "import pandas as pd \n",
        "import matplotlib.pyplot as plt \n",
        "\n",
        "from sklearn.model_selection import train_test_split\n",
        "from sklearn.preprocessing import LabelEncoder\n",
        "from sklearn.preprocessing import OneHotEncoder \n",
        "\n",
        "from tensorflow.keras.preprocessing.text import Tokenizer\n",
        "from tensorflow.keras.preprocessing.sequence import pad_sequences\n",
        "from tensorflow.keras.models import Model\n",
        "from tensorflow.keras.layers import Input, Embedding, Bidirectional, GRU, GlobalAveragePooling1D, LayerNormalization, Dense, Dropout \n",
        "from keras.utils.vis_utils import plot_model\n",
        "from tensorflow.keras.callbacks import ModelCheckpoint, ReduceLROnPlateau, EarlyStopping\n",
        "from tensorflow.keras.models import load_model\n"
      ],
      "execution_count": 119,
      "outputs": []
    },
    {
      "cell_type": "code",
      "metadata": {
        "colab": {
          "base_uri": "https://localhost:8080/",
          "height": 224
        },
        "id": "FJlvG8azdQv8",
        "outputId": "d53afff5-ba2d-49c6-b9cc-236b212e8e93"
      },
      "source": [
        "train = pd.read_csv(\"/content/drive/MyDrive/technometrics/sample dataset/train.csv\") \n",
        "test = pd.read_csv(\"/content/drive/MyDrive/technometrics/sample dataset/test.csv\")\n",
        "\n",
        "# Taking sample of the train and test dataset \n",
        "train, unnecessary_train = train_test_split(train, test_size=.7, stratify=train['category']) \n",
        "test, unnecessary_test = train_test_split(test, test_size=.7, stratify=test['category']) \n",
        "\n",
        "# Joining train and test dataset \n",
        "data = pd.concat([train, test], axis=0, ignore_index=True) \n",
        "\n",
        "# resetting index\n",
        "data = data.sample(frac=1).reset_index(drop=True) \n",
        "\n",
        "print(\"Shape of data is :{}\".format(data.shape)) \n",
        "data.head() "
      ],
      "execution_count": 120,
      "outputs": [
        {
          "output_type": "stream",
          "name": "stdout",
          "text": [
            "Shape of data is :(13115, 2)\n"
          ]
        },
        {
          "output_type": "execute_result",
          "data": {
            "text/html": [
              "<div>\n",
              "<style scoped>\n",
              "    .dataframe tbody tr th:only-of-type {\n",
              "        vertical-align: middle;\n",
              "    }\n",
              "\n",
              "    .dataframe tbody tr th {\n",
              "        vertical-align: top;\n",
              "    }\n",
              "\n",
              "    .dataframe thead th {\n",
              "        text-align: right;\n",
              "    }\n",
              "</style>\n",
              "<table border=\"1\" class=\"dataframe\">\n",
              "  <thead>\n",
              "    <tr style=\"text-align: right;\">\n",
              "      <th></th>\n",
              "      <th>text</th>\n",
              "      <th>category</th>\n",
              "    </tr>\n",
              "  </thead>\n",
              "  <tbody>\n",
              "    <tr>\n",
              "      <th>0</th>\n",
              "      <td>মালয়েশিয়ায় শুটিং হঠাৎ​ অসুস্থ হয়ে দেশে ফিরে​ছি...</td>\n",
              "      <td>entertainment</td>\n",
              "    </tr>\n",
              "    <tr>\n",
              "      <th>1</th>\n",
              "      <td>বাংলাদেশ বছর চীনকে ছাড়িয়ে বিশ্বের সর্বোচ্চ তুল...</td>\n",
              "      <td>economy</td>\n",
              "    </tr>\n",
              "    <tr>\n",
              "      <th>2</th>\n",
              "      <td>যুক্তরাষ্ট্রের পররাষ্ট্রমন্ত্রী কেরি ইউরোপীয় ই...</td>\n",
              "      <td>international</td>\n",
              "    </tr>\n",
              "    <tr>\n",
              "      <th>3</th>\n",
              "      <td>পাকিস্তানি সেনাবাহিনীর অভিযান শুরুর সপ্তাহ ওয়া...</td>\n",
              "      <td>international</td>\n",
              "    </tr>\n",
              "    <tr>\n",
              "      <th>4</th>\n",
              "      <td>ফার্স্ট অ্যান্ড ফিউরিয়াস সিরিজের সপ্তম ছবি ফিউ...</td>\n",
              "      <td>entertainment</td>\n",
              "    </tr>\n",
              "  </tbody>\n",
              "</table>\n",
              "</div>"
            ],
            "text/plain": [
              "                                                text       category\n",
              "0  মালয়েশিয়ায় শুটিং হঠাৎ​ অসুস্থ হয়ে দেশে ফিরে​ছি...  entertainment\n",
              "1  বাংলাদেশ বছর চীনকে ছাড়িয়ে বিশ্বের সর্বোচ্চ তুল...        economy\n",
              "2  যুক্তরাষ্ট্রের পররাষ্ট্রমন্ত্রী কেরি ইউরোপীয় ই...  international\n",
              "3  পাকিস্তানি সেনাবাহিনীর অভিযান শুরুর সপ্তাহ ওয়া...  international\n",
              "4  ফার্স্ট অ্যান্ড ফিউরিয়াস সিরিজের সপ্তম ছবি ফিউ...  entertainment"
            ]
          },
          "metadata": {},
          "execution_count": 120
        }
      ]
    },
    {
      "cell_type": "code",
      "metadata": {
        "id": "jNnjuYzp0B2P"
      },
      "source": [
        "# Feature and label data\n",
        "X = data['text'] \n",
        "y = data['category']  \n"
      ],
      "execution_count": 121,
      "outputs": []
    },
    {
      "cell_type": "code",
      "metadata": {
        "id": "5cK1vup4mwBt"
      },
      "source": [
        "# encoding \n",
        "le = LabelEncoder() \n",
        "y = le.fit_transform(y) "
      ],
      "execution_count": 122,
      "outputs": []
    },
    {
      "cell_type": "code",
      "metadata": {
        "id": "sbV_AvDApXHy",
        "colab": {
          "base_uri": "https://localhost:8080/"
        },
        "outputId": "f6c39756-58da-46b5-fee7-1c6b8d455144"
      },
      "source": [
        "# One Hot Encoding \n",
        "ohe = OneHotEncoder(sparse=False) \n",
        "y = y.reshape(y.shape[0], 1) \n",
        "y = ohe.fit_transform(y) \n",
        "y.shape"
      ],
      "execution_count": 123,
      "outputs": [
        {
          "output_type": "execute_result",
          "data": {
            "text/plain": [
              "(13115, 7)"
            ]
          },
          "metadata": {},
          "execution_count": 123
        }
      ]
    },
    {
      "cell_type": "code",
      "metadata": {
        "id": "sU65jKeO0B5q",
        "colab": {
          "base_uri": "https://localhost:8080/"
        },
        "outputId": "841f3740-f32f-4a25-8234-aa87d66304f8"
      },
      "source": [
        "# Dividing dataset \n",
        "train_x, x_valid, train_y, y_valid = train_test_split(X, y, test_size=.05, random_state=42, stratify=y)\n",
        "x_train, x_test, y_train, y_test = train_test_split(train_x, train_y, test_size=0.1, stratify=train_y) \n",
        "print(\"Shape of x_train is :{} \\nShape of x_valid is :{} \\nShape of x_test is :{} \\nShape of y_train is :{} \\nShape of y_valid is :{}\\nShaep of y_test is :{}\".format(x_train.shape, x_valid.shape, x_test.shape, y_train.shape, y_valid.shape, y_test.shape)) \n"
      ],
      "execution_count": 124,
      "outputs": [
        {
          "output_type": "stream",
          "name": "stdout",
          "text": [
            "Shape of x_train is :(11213,) \n",
            "Shape of x_valid is :(656,) \n",
            "Shape of x_test is :(1246,) \n",
            "Shape of y_train is :(11213, 7) \n",
            "Shape of y_valid is :(656, 7)\n",
            "Shaep of y_test is :(1246, 7)\n"
          ]
        }
      ]
    },
    {
      "cell_type": "code",
      "metadata": {
        "id": "zkdB0Pu4_YEl"
      },
      "source": [
        "# some variables \n",
        "embed_size = 300\n",
        "max_features = 80000 \n",
        "max_len = 250"
      ],
      "execution_count": 125,
      "outputs": []
    },
    {
      "cell_type": "code",
      "metadata": {
        "id": "lDxBZlpn_0bm"
      },
      "source": [
        "# Taking full text for tokenizer \n",
        "full_text = list(x_train) + list(x_valid) + list(x_test) \n",
        "\n",
        "tokenizer = Tokenizer(num_words=max_features)\n",
        "tokenizer.fit_on_texts(full_text)"
      ],
      "execution_count": 126,
      "outputs": []
    },
    {
      "cell_type": "code",
      "metadata": {
        "id": "SpVwz76-_YIV"
      },
      "source": [
        "# Tokenizing\n",
        "x_train = tokenizer.texts_to_sequences(x_train)\n",
        "x_valid = tokenizer.texts_to_sequences(x_valid)\n",
        "x_test = tokenizer.texts_to_sequences(x_test) \n",
        "\n",
        "# Pad sequences \n",
        "x_train = pad_sequences(x_train, maxlen=max_len, padding='post')\n",
        "x_valid = pad_sequences(x_valid, maxlen=max_len, padding='post')\n",
        "x_test = pad_sequences(x_test, maxlen=max_len, padding='post')"
      ],
      "execution_count": 127,
      "outputs": []
    },
    {
      "cell_type": "code",
      "metadata": {
        "id": "KFhf0_RN0B_d"
      },
      "source": [
        "# Model Building \n",
        "input = Input(shape=(max_len,))\n",
        "x = Embedding(max_features, embed_size)(input)\n",
        "x = Bidirectional(GRU(32, return_sequences=True))(x)\n",
        "x = GlobalAveragePooling1D()(x)\n",
        "x = LayerNormalization()(x)\n",
        "x = Dropout(.4)(x)\n",
        "x = Dense(16, activation='relu')(x)\n",
        "x = Dropout(0.5)(x)\n",
        "x = Dense(7, activation='sigmoid')(x)\n",
        "\n",
        "model = Model(inputs=input, outputs=x)"
      ],
      "execution_count": 128,
      "outputs": []
    },
    {
      "cell_type": "code",
      "metadata": {
        "id": "XdcIu6I8atsz",
        "colab": {
          "base_uri": "https://localhost:8080/"
        },
        "outputId": "4ab887f9-4533-4af8-a293-090d9986f5e2"
      },
      "source": [
        "# summary of the model \n",
        "model.summary() "
      ],
      "execution_count": 129,
      "outputs": [
        {
          "output_type": "stream",
          "name": "stdout",
          "text": [
            "Model: \"model_2\"\n",
            "_________________________________________________________________\n",
            "Layer (type)                 Output Shape              Param #   \n",
            "=================================================================\n",
            "input_4 (InputLayer)         [(None, 250)]             0         \n",
            "_________________________________________________________________\n",
            "embedding_4 (Embedding)      (None, 250, 300)          24000000  \n",
            "_________________________________________________________________\n",
            "bidirectional_5 (Bidirection (None, 250, 64)           64128     \n",
            "_________________________________________________________________\n",
            "global_average_pooling1d_3 ( (None, 64)                0         \n",
            "_________________________________________________________________\n",
            "layer_normalization_2 (Layer (None, 64)                128       \n",
            "_________________________________________________________________\n",
            "dropout_6 (Dropout)          (None, 64)                0         \n",
            "_________________________________________________________________\n",
            "dense_6 (Dense)              (None, 16)                1040      \n",
            "_________________________________________________________________\n",
            "dropout_7 (Dropout)          (None, 16)                0         \n",
            "_________________________________________________________________\n",
            "dense_7 (Dense)              (None, 7)                 119       \n",
            "=================================================================\n",
            "Total params: 24,065,415\n",
            "Trainable params: 24,065,415\n",
            "Non-trainable params: 0\n",
            "_________________________________________________________________\n"
          ]
        }
      ]
    },
    {
      "cell_type": "code",
      "metadata": {
        "id": "WdWqqWWY0JBi",
        "colab": {
          "base_uri": "https://localhost:8080/",
          "height": 976
        },
        "outputId": "f01f03a4-f8e5-45f7-a449-2d77762fd302"
      },
      "source": [
        "#plotting model \n",
        "plot_model(model, show_shapes=True, to_file = '/content/drive/MyDrive/technometrics/Bengali_text_classification.png')"
      ],
      "execution_count": 130,
      "outputs": [
        {
          "output_type": "execute_result",
          "data": {
            "image/png": "[encoded data removed]",
            "text/plain": [
              "<IPython.core.display.Image object>"
            ]
          },
          "metadata": {},
          "execution_count": 130
        }
      ]
    },
    {
      "cell_type": "code",
      "metadata": {
        "id": "WdZC-BXp0JEd"
      },
      "source": [
        "# Compile Model \n",
        "model.compile(loss='categorical_crossentropy', \n",
        "              optimizer='adam', \n",
        "              metrics=['accuracy'])"
      ],
      "execution_count": 131,
      "outputs": []
    },
    {
      "cell_type": "code",
      "metadata": {
        "id": "b9FlWAWT0OQK"
      },
      "source": [
        "# Define ModelCheckpoint, ReduceLROnPlateau, EarlyStopping\n",
        "checkpoints = ModelCheckpoint('/content/drive/MyDrive/technometrics/weight.hdf5',\n",
        "                               monitor='val_loss',\n",
        "                               mode='max', \n",
        "                               verbose=True,\n",
        "                               save_best_only=True) \n",
        "\n",
        "reduce_lr = ReduceLROnPlateau(monitor='val_loss',\n",
        "                              factor=0.1, \n",
        "                              patience=2, \n",
        "                              verbose=1, \n",
        "                              min_lr=0.000001) \n",
        "\n",
        "early_stop = EarlyStopping(monitor='val_loss', \n",
        "                           patience=3) "
      ],
      "execution_count": 132,
      "outputs": []
    },
    {
      "cell_type": "code",
      "metadata": {
        "id": "6ssdmo3K0OTg",
        "colab": {
          "base_uri": "https://localhost:8080/"
        },
        "outputId": "cc77079f-1d81-4c84-80fa-740b9376ec77"
      },
      "source": [
        "# Model Training \n",
        "history = model.fit(x_train, y_train, \n",
        "                    batch_size=512,\n",
        "                    epochs=20,\n",
        "                    validation_data=(x_valid, y_valid),\n",
        "                    callbacks = [checkpoints, reduce_lr, early_stop]) "
      ],
      "execution_count": 133,
      "outputs": [
        {
          "output_type": "stream",
          "name": "stdout",
          "text": [
            "Epoch 1/20\n",
            "22/22 [==============================] - 8s 211ms/step - loss: 1.8464 - accuracy: 0.2337 - val_loss: 1.4658 - val_accuracy: 0.6159\n",
            "\n",
            "Epoch 00001: val_loss improved from -inf to 1.46579, saving model to /content/drive/MyDrive/technometrics/weight.hdf5\n",
            "Epoch 2/20\n",
            "22/22 [==============================] - 4s 172ms/step - loss: 1.3104 - accuracy: 0.4768 - val_loss: 0.8438 - val_accuracy: 0.7820\n",
            "\n",
            "Epoch 00002: val_loss did not improve from 1.46579\n",
            "Epoch 3/20\n",
            "22/22 [==============================] - 4s 168ms/step - loss: 0.9065 - accuracy: 0.6642 - val_loss: 0.5270 - val_accuracy: 0.9009\n",
            "\n",
            "Epoch 00003: val_loss did not improve from 1.46579\n",
            "Epoch 4/20\n",
            "22/22 [==============================] - 4s 171ms/step - loss: 0.6371 - accuracy: 0.7715 - val_loss: 0.3703 - val_accuracy: 0.9131\n",
            "\n",
            "Epoch 00004: val_loss did not improve from 1.46579\n",
            "Epoch 5/20\n",
            "22/22 [==============================] - 4s 172ms/step - loss: 0.4797 - accuracy: 0.8314 - val_loss: 0.3308 - val_accuracy: 0.9177\n",
            "\n",
            "Epoch 00005: val_loss did not improve from 1.46579\n",
            "Epoch 6/20\n",
            "22/22 [==============================] - 4s 170ms/step - loss: 0.3952 - accuracy: 0.8533 - val_loss: 0.3482 - val_accuracy: 0.9162\n",
            "\n",
            "Epoch 00006: val_loss did not improve from 1.46579\n",
            "Epoch 7/20\n",
            "22/22 [==============================] - 4s 172ms/step - loss: 0.3224 - accuracy: 0.8810 - val_loss: 0.3459 - val_accuracy: 0.9146\n",
            "\n",
            "Epoch 00007: val_loss did not improve from 1.46579\n",
            "\n",
            "Epoch 00007: ReduceLROnPlateau reducing learning rate to 0.00010000000474974513.\n",
            "Epoch 8/20\n",
            "22/22 [==============================] - 4s 172ms/step - loss: 0.3045 - accuracy: 0.8822 - val_loss: 0.3555 - val_accuracy: 0.9162\n",
            "\n",
            "Epoch 00008: val_loss did not improve from 1.46579\n"
          ]
        }
      ]
    },
    {
      "cell_type": "code",
      "metadata": {
        "id": "g6-c91CV0OXE",
        "colab": {
          "base_uri": "https://localhost:8080/"
        },
        "outputId": "0a27dc4e-3268-4e33-ae36-83d979770fb6"
      },
      "source": [
        "# Model Evaluation \n",
        "print(\"Loss of the model is {}\".format(model.evaluate(x_valid, y_valid)[0]) )\n",
        "print(\"Accuracy of the model is {}%\".format(model.evaluate(x_valid, y_valid)[1]*100 ))"
      ],
      "execution_count": 134,
      "outputs": [
        {
          "output_type": "stream",
          "name": "stdout",
          "text": [
            "21/21 [==============================] - 1s 40ms/step - loss: 0.3555 - accuracy: 0.9162\n",
            "Loss of the model is 0.3554506003856659\n",
            "21/21 [==============================] - 1s 40ms/step - loss: 0.3555 - accuracy: 0.9162\n",
            "Accuracy of the model is 91.61585569381714%\n"
          ]
        }
      ]
    },
    {
      "cell_type": "code",
      "metadata": {
        "id": "amz6UjId2UnT",
        "colab": {
          "base_uri": "https://localhost:8080/",
          "height": 562
        },
        "outputId": "3ef48f86-8ef0-470a-dfc1-b6ad3fe64535"
      },
      "source": [
        "# Accuracy and Loss Graph of Train and Valid datset \n",
        "accuracy = history.history['accuracy']\n",
        "val_accuracy = history.history['val_accuracy']\n",
        "print(len(accuracy))\n",
        "\n",
        "loss = history.history['loss']\n",
        "val_loss = history.history['val_loss']\n",
        "\n",
        "epochs = range(len(val_accuracy))\n",
        "plt.plot(epochs, accuracy, 'go', label='Training accuracy')\n",
        "plt.plot(epochs, val_accuracy, 'b', label='Validation accuracy')\n",
        "plt.title('Training and validation accuracy')\n",
        "plt.legend()\n",
        "plt.figure() \n",
        "plt.plot(epochs, loss, 'go', label='Training loss')\n",
        "plt.plot(epochs, val_loss, 'g', label='validation loss')\n",
        "plt.title('training and validation loss')\n",
        "plt.legend()\n",
        "plt.show()"
      ],
      "execution_count": 135,
      "outputs": [
        {
          "output_type": "stream",
          "name": "stdout",
          "text": [
            "8\n"
          ]
        },
        {
          "output_type": "display_data",
          "data": {
            "image/png": "[encoded data removed]",
            "text/plain": [
              "<Figure size 432x288 with 1 Axes>"
            ]
          },
          "metadata": {
            "needs_background": "light"
          }
        },
        {
          "output_type": "display_data",
          "data": {
            "image/png": "[encoded data removed]",
            "text/plain": [
              "<Figure size 432x288 with 1 Axes>"
            ]
          },
          "metadata": {
            "needs_background": "light"
          }
        }
      ]
    },
    {
      "cell_type": "code",
      "metadata": {
        "id": "LxfSlQAP2UrW"
      },
      "source": [
        "# Model Saving and Loading \n",
        "model.save('/content/drive/MyDrive/technometrics/Bangla_MultiClass_text_Classification_GRU.h5') \n",
        "\n",
        "# Loading full model \n",
        "model_loaded = load_model('/content/drive/MyDrive/technometrics/Bangla_MultiClass_text_Classification_GRU.h5')"
      ],
      "execution_count": 136,
      "outputs": []
    },
    {
      "cell_type": "code",
      "metadata": {
        "id": "w9AjjsCq3j3_",
        "colab": {
          "base_uri": "https://localhost:8080/"
        },
        "outputId": "4024b8da-dd4c-4ad6-b62a-a7daf8a8dbe8"
      },
      "source": [
        "# Predicting with test dataset \n",
        "def predict_with_test_dataset(x_test, y_test, model_loaded): \n",
        "  y_pred = model_loaded.predict(x_test) \n",
        "  y_pred = np.rint(y_pred) \n",
        "  #print(y_pred)\n",
        "  return y_pred \n",
        "\n",
        "y_pred = predict_with_test_dataset(x_test, y_test, model_loaded) \n",
        "y_pred "
      ],
      "execution_count": 137,
      "outputs": [
        {
          "output_type": "execute_result",
          "data": {
            "text/plain": [
              "array([[0., 0., 0., ..., 0., 1., 0.],\n",
              "       [0., 0., 0., ..., 0., 1., 0.],\n",
              "       [0., 1., 0., ..., 0., 1., 0.],\n",
              "       ...,\n",
              "       [0., 1., 1., ..., 0., 0., 0.],\n",
              "       [0., 1., 0., ..., 1., 0., 0.],\n",
              "       [0., 1., 0., ..., 0., 1., 0.]], dtype=float32)"
            ]
          },
          "metadata": {},
          "execution_count": 137
        }
      ]
    },
    {
      "cell_type": "code",
      "metadata": {
        "colab": {
          "base_uri": "https://localhost:8080/"
        },
        "id": "6J6tAqH69QFS",
        "outputId": "74fbc556-82d7-4052-c880-56114ee44e27"
      },
      "source": [
        "y_test"
      ],
      "execution_count": 138,
      "outputs": [
        {
          "output_type": "execute_result",
          "data": {
            "text/plain": [
              "array([[0., 0., 0., ..., 0., 1., 0.],\n",
              "       [0., 0., 0., ..., 0., 1., 0.],\n",
              "       [0., 0., 0., ..., 0., 1., 0.],\n",
              "       ...,\n",
              "       [0., 0., 1., ..., 0., 0., 0.],\n",
              "       [0., 0., 0., ..., 1., 0., 0.],\n",
              "       [0., 0., 0., ..., 0., 1., 0.]])"
            ]
          },
          "metadata": {},
          "execution_count": 138
        }
      ]
    },
    {
      "cell_type": "code",
      "metadata": {
        "id": "BvY3Uapf9bYz"
      },
      "source": [
        "# Reverse of one hot encoding \n",
        "y_pred = ohe.inverse_transform(y_pred) \n",
        "y_pred = y_pred.flatten() \n",
        "y_test = ohe.inverse_transform(y_test) \n",
        "y_test = y_test.flatten() "
      ],
      "execution_count": 139,
      "outputs": []
    },
    {
      "cell_type": "code",
      "metadata": {
        "colab": {
          "base_uri": "https://localhost:8080/"
        },
        "id": "-XktB4zT9bcK",
        "outputId": "c1be55d8-fde5-4e08-a1f2-deb2e5e44b6d"
      },
      "source": [
        "y_test"
      ],
      "execution_count": 140,
      "outputs": [
        {
          "output_type": "execute_result",
          "data": {
            "text/plain": [
              "array([5, 5, 5, ..., 2, 4, 5])"
            ]
          },
          "metadata": {},
          "execution_count": 140
        }
      ]
    },
    {
      "cell_type": "code",
      "metadata": {
        "colab": {
          "base_uri": "https://localhost:8080/"
        },
        "id": "R6SOkBm_CD8E",
        "outputId": "790f9596-9ec7-4496-ff3a-bce904188997"
      },
      "source": [
        "y_pred "
      ],
      "execution_count": 141,
      "outputs": [
        {
          "output_type": "execute_result",
          "data": {
            "text/plain": [
              "array([5, 5, 1, ..., 1, 1, 1])"
            ]
          },
          "metadata": {},
          "execution_count": 141
        }
      ]
    },
    {
      "cell_type": "code",
      "metadata": {
        "id": "R_ayiZ-p3j71",
        "colab": {
          "base_uri": "https://localhost:8080/"
        },
        "outputId": "3821fd11-c9f3-4f20-c959-de5268296bbb"
      },
      "source": [
        "# Classification Report \n",
        "print(classification_report(y_test, y_pred))"
      ],
      "execution_count": 142,
      "outputs": [
        {
          "output_type": "stream",
          "name": "stdout",
          "text": [
            "              precision    recall  f1-score   support\n",
            "\n",
            "           0       0.79      0.94      0.86       159\n",
            "           1       0.18      0.96      0.30       151\n",
            "           2       0.80      0.02      0.04       201\n",
            "           3       0.15      0.02      0.03       206\n",
            "           4       1.00      0.01      0.03       203\n",
            "           5       0.96      0.45      0.61       188\n",
            "           6       0.97      0.75      0.85       138\n",
            "\n",
            "    accuracy                           0.40      1246\n",
            "   macro avg       0.69      0.45      0.39      1246\n",
            "weighted avg       0.69      0.40      0.35      1246\n",
            "\n"
          ]
        }
      ]
    },
    {
      "cell_type": "code",
      "metadata": {
        "id": "wn4HCA414NuF",
        "colab": {
          "base_uri": "https://localhost:8080/",
          "height": 596
        },
        "outputId": "614f7ddb-1d46-45ab-8f83-58010211c08b"
      },
      "source": [
        "# Confusion Matrix\n",
        "plt.figure(figsize=(15, 10))\n",
        "sns.heatmap(confusion_matrix(y_test, y_pred), annot=True)\n",
        "plt.show()"
      ],
      "execution_count": 143,
      "outputs": [
        {
          "output_type": "display_data",
          "data": {
            "image/png": "[encoded data removed]",
            "text/plain": [
              "<Figure size 1080x720 with 2 Axes>"
            ]
          },
          "metadata": {
            "needs_background": "light"
          }
        }
      ]
    },
    {
      "cell_type": "code",
      "metadata": {
        "id": "GUnA_oUX4N1_"
      },
      "source": [
        ""
      ],
      "execution_count": null,
      "outputs": []
    },
    {
      "cell_type": "markdown",
      "metadata": {
        "id": "52vyHKhSaxcm"
      },
      "source": [
        "# 9 Text Classification Using LSTM of Deep Learning"
      ]
    },
    {
      "cell_type": "code",
      "metadata": {
        "id": "dnmV2jSqu2G8"
      },
      "source": [
        "import numpy as np \n",
        "import pandas as pd \n",
        "import matplotlib.pyplot as plt \n",
        "import seaborn as sns \n",
        "\n",
        "from sklearn.preprocessing import LabelEncoder, OneHotEncoder\n",
        "from sklearn.model_selection import StratifiedShuffleSplit, train_test_split\n",
        "from sklearn.metrics import confusion_matrix\n",
        "from sklearn.metrics import classification_report, confusion_matrix\n",
        "\n",
        "from keras.preprocessing.text import Tokenizer\n",
        "from keras.preprocessing.sequence import pad_sequences\n",
        "from keras.models import Sequential\n",
        "from keras.layers import Embedding, LSTM, Bidirectional, Dropout, Dense\n",
        "from keras.callbacks import ModelCheckpoint, ReduceLROnPlateau, LearningRateScheduler, EarlyStopping\n",
        "# from tensorflow.keras.callbacks import , EarlyStopping\n",
        "from keras.models import load_model\n",
        "from keras.utils.vis_utils import plot_model\n",
        "from keras.regularizers import l2"
      ],
      "execution_count": 42,
      "outputs": []
    },
    {
      "cell_type": "code",
      "metadata": {
        "id": "nxdgtG63vRCy",
        "colab": {
          "base_uri": "https://localhost:8080/",
          "height": 224
        },
        "outputId": "0d4a8a03-7ade-4475-e55f-a9e67050aa69"
      },
      "source": [
        "# Reading train and test dataset \n",
        "train = pd.read_csv(\"/content/drive/MyDrive/technometrics/sample dataset/train.csv\") \n",
        "test = pd.read_csv(\"/content/drive/MyDrive/technometrics/sample dataset/test.csv\")\n",
        "\n",
        "# Taking sample of the train and test dataset \n",
        "train, unnecessary_train = train_test_split(train, test_size=.7, stratify=train['category']) \n",
        "test, unnecessary_test = train_test_split(test, test_size=.7, stratify=test['category']) \n",
        "\n",
        "# Joining train and test dataset \n",
        "data = pd.concat([train, test], axis=0, ignore_index=True) \n",
        "\n",
        "# resetting index\n",
        "data = data.sample(frac=1).reset_index(drop=True) \n",
        "\n",
        "print(\"Shape of data is :{}\".format(data.shape)) \n",
        "data.head() "
      ],
      "execution_count": 4,
      "outputs": [
        {
          "output_type": "stream",
          "name": "stdout",
          "text": [
            "Shape of data is :(13115, 2)\n"
          ]
        },
        {
          "output_type": "execute_result",
          "data": {
            "text/html": [
              "<div>\n",
              "<style scoped>\n",
              "    .dataframe tbody tr th:only-of-type {\n",
              "        vertical-align: middle;\n",
              "    }\n",
              "\n",
              "    .dataframe tbody tr th {\n",
              "        vertical-align: top;\n",
              "    }\n",
              "\n",
              "    .dataframe thead th {\n",
              "        text-align: right;\n",
              "    }\n",
              "</style>\n",
              "<table border=\"1\" class=\"dataframe\">\n",
              "  <thead>\n",
              "    <tr style=\"text-align: right;\">\n",
              "      <th></th>\n",
              "      <th>text</th>\n",
              "      <th>category</th>\n",
              "    </tr>\n",
              "  </thead>\n",
              "  <tbody>\n",
              "    <tr>\n",
              "      <th>0</th>\n",
              "      <td>নভেম্বর পর্দা পড়ে কলকাতার আন্তর্জাতিক চলচ্চিত্...</td>\n",
              "      <td>entertainment</td>\n",
              "    </tr>\n",
              "    <tr>\n",
              "      <th>1</th>\n",
              "      <td>সিরাজগঞ্জের কাজীপুরের মেঘাই এলাকায় যমুনা নদীর...</td>\n",
              "      <td>state</td>\n",
              "    </tr>\n",
              "    <tr>\n",
              "      <th>2</th>\n",
              "      <td>কিছুদিন চিত্রনায়িকা পপি চুক্তিবদ্ধ হয়েছিলেন চল...</td>\n",
              "      <td>entertainment</td>\n",
              "    </tr>\n",
              "    <tr>\n",
              "      <th>3</th>\n",
              "      <td>ইসলামের নামে সন্ত্রাস জঙ্গিবাদ আতঙ্ক সৃষ্টি হা...</td>\n",
              "      <td>state</td>\n",
              "    </tr>\n",
              "    <tr>\n",
              "      <th>4</th>\n",
              "      <td>মালয়েশিয়া এয়ারলাইনসের এমএইচ নম্বর ফ্লাইটটি নিখ...</td>\n",
              "      <td>international</td>\n",
              "    </tr>\n",
              "  </tbody>\n",
              "</table>\n",
              "</div>"
            ],
            "text/plain": [
              "                                                text       category\n",
              "0  নভেম্বর পর্দা পড়ে কলকাতার আন্তর্জাতিক চলচ্চিত্...  entertainment\n",
              "1  সিরাজগঞ্জের কাজীপুরের মেঘাই এলাকায় যমুনা নদীর...          state\n",
              "2  কিছুদিন চিত্রনায়িকা পপি চুক্তিবদ্ধ হয়েছিলেন চল...  entertainment\n",
              "3  ইসলামের নামে সন্ত্রাস জঙ্গিবাদ আতঙ্ক সৃষ্টি হা...          state\n",
              "4  মালয়েশিয়া এয়ারলাইনসের এমএইচ নম্বর ফ্লাইটটি নিখ...  international"
            ]
          },
          "metadata": {},
          "execution_count": 4
        }
      ]
    },
    {
      "cell_type": "code",
      "metadata": {
        "id": "qWlL4ui3a4ST"
      },
      "source": [
        "# Feature and label \n",
        "X = data['text'] \n",
        "y = data['category'] "
      ],
      "execution_count": 5,
      "outputs": []
    },
    {
      "cell_type": "code",
      "metadata": {
        "id": "sVCmWyiZa4VP"
      },
      "source": [
        "# Label Encoder\n",
        "le = LabelEncoder()\n",
        "y = le.fit_transform(y) "
      ],
      "execution_count": 6,
      "outputs": []
    },
    {
      "cell_type": "code",
      "metadata": {
        "id": "X2bIPFK6EtK6"
      },
      "source": [
        "# One-hot-encoding \n",
        "ohe = OneHotEncoder(sparse=False) \n",
        "y = y.reshape((y.shape[0], 1)) \n",
        "y = ohe.fit_transform(y)  "
      ],
      "execution_count": 7,
      "outputs": []
    },
    {
      "cell_type": "code",
      "metadata": {
        "id": "lhC0RmYiv-m3",
        "colab": {
          "base_uri": "https://localhost:8080/"
        },
        "outputId": "85eac719-6a63-4766-a254-c96a19ba8a84"
      },
      "source": [
        "# Dividing dataset\n",
        "train_x, x_valid, train_y, y_valid = train_test_split(X, y, test_size=.05, random_state=42, stratify=y)\n",
        "x_train, x_test, y_train, y_test = train_test_split(train_x, train_y, test_size=0.1, stratify=train_y) \n",
        "print(\"Shape of x_train is :{} \\nShape of x_valid is :{} \\nShape of x_test is :{} \\nShape of y_train is :{} \\nShape of y_valid is :{}\\nShaep of y_test is :{}\".format(x_train.shape, x_valid.shape, x_test.shape, y_train.shape, y_valid.shape, y_test.shape)) \n"
      ],
      "execution_count": 8,
      "outputs": [
        {
          "output_type": "stream",
          "name": "stdout",
          "text": [
            "Shape of x_train is :(11213,) \n",
            "Shape of x_valid is :(656,) \n",
            "Shape of x_test is :(1246,) \n",
            "Shape of y_train is :(11213, 7) \n",
            "Shape of y_valid is :(656, 7)\n",
            "Shaep of y_test is :(1246, 7)\n"
          ]
        }
      ]
    },
    {
      "cell_type": "code",
      "metadata": {
        "id": "0oKdWRLrymN6"
      },
      "source": [
        "# some variable \n",
        "embed_size = 300\n",
        "max_features = 120000 \n",
        "max_len = 400 "
      ],
      "execution_count": 9,
      "outputs": []
    },
    {
      "cell_type": "code",
      "metadata": {
        "id": "aPX8wQ0PythC"
      },
      "source": [
        "# Taking full feature data \n",
        "full_text = list(x_train) + list(x_valid) + list(x_test) \n",
        "\n",
        "tokenizer = Tokenizer(num_words=max_features)\n",
        "tokenizer.fit_on_texts(full_text) "
      ],
      "execution_count": 10,
      "outputs": []
    },
    {
      "cell_type": "code",
      "metadata": {
        "id": "28mhvdZBy1Gm"
      },
      "source": [
        "# Tokenizing\n",
        "x_train = tokenizer.texts_to_sequences(x_train)\n",
        "x_valid = tokenizer.texts_to_sequences(x_valid)\n",
        "x_test = tokenizer.texts_to_sequences(x_test) \n",
        "\n",
        "# Pad sequences \n",
        "x_train = pad_sequences(x_train, maxlen=max_len, padding='post')\n",
        "x_valid = pad_sequences(x_valid, maxlen=max_len, padding='post')\n",
        "x_test = pad_sequences(x_test, maxlen=max_len, padding='post')"
      ],
      "execution_count": 11,
      "outputs": []
    },
    {
      "cell_type": "code",
      "metadata": {
        "id": "qOXQap7tEtcQ",
        "colab": {
          "base_uri": "https://localhost:8080/"
        },
        "outputId": "27901a19-57d1-414c-9b13-cfc9dc3d0701"
      },
      "source": [
        "# Vocabulary \n",
        "vocab_size = len(tokenizer.word_index) + 1 \n",
        "vocab_size "
      ],
      "execution_count": 12,
      "outputs": [
        {
          "output_type": "execute_result",
          "data": {
            "text/plain": [
              "202677"
            ]
          },
          "metadata": {},
          "execution_count": 12
        }
      ]
    },
    {
      "cell_type": "code",
      "metadata": {
        "id": "asqShkGqEtf7"
      },
      "source": [
        "# Pad Sequence \n",
        "# max_len = 300 \n",
        "# X_pad = pad_sequences(x_token, padding='post', maxlen=max_len) "
      ],
      "execution_count": 13,
      "outputs": []
    },
    {
      "cell_type": "code",
      "metadata": {
        "id": "k07Wlv0REtk6"
      },
      "source": [
        "# Building Model \n",
        "embedding_dim = 32\n",
        "\n",
        "model = Sequential()\n",
        "model.add(Embedding(input_dim=vocab_size, output_dim=embedding_dim, input_length=max_len))\n",
        "model.add(Bidirectional(LSTM(128, return_sequences = True)))\n",
        "model.add(Dropout(0.5))\n",
        "model.add(Bidirectional(LSTM(128))) \n",
        "model.add(Dropout(0.2))\n",
        "model.add(Dense(7, activation='softmax'))"
      ],
      "execution_count": 14,
      "outputs": []
    },
    {
      "cell_type": "code",
      "metadata": {
        "id": "4iMFgwCmJ2V0",
        "colab": {
          "base_uri": "https://localhost:8080/"
        },
        "outputId": "bbb5e093-4876-4ef0-c183-c959200584f3"
      },
      "source": [
        "model.summary() "
      ],
      "execution_count": 15,
      "outputs": [
        {
          "output_type": "stream",
          "name": "stdout",
          "text": [
            "Model: \"sequential\"\n",
            "_________________________________________________________________\n",
            "Layer (type)                 Output Shape              Param #   \n",
            "=================================================================\n",
            "embedding (Embedding)        (None, 400, 32)           6485664   \n",
            "_________________________________________________________________\n",
            "bidirectional (Bidirectional (None, 400, 256)          164864    \n",
            "_________________________________________________________________\n",
            "dropout (Dropout)            (None, 400, 256)          0         \n",
            "_________________________________________________________________\n",
            "bidirectional_1 (Bidirection (None, 256)               394240    \n",
            "_________________________________________________________________\n",
            "dropout_1 (Dropout)          (None, 256)               0         \n",
            "_________________________________________________________________\n",
            "dense (Dense)                (None, 7)                 1799      \n",
            "=================================================================\n",
            "Total params: 7,046,567\n",
            "Trainable params: 7,046,567\n",
            "Non-trainable params: 0\n",
            "_________________________________________________________________\n"
          ]
        }
      ]
    },
    {
      "cell_type": "code",
      "metadata": {
        "id": "F2b1nFJsJ2ZI",
        "colab": {
          "base_uri": "https://localhost:8080/",
          "height": 754
        },
        "outputId": "5de8c39d-7fe7-4a36-f270-c0ee41eddb4c"
      },
      "source": [
        "#Plotting Model\n",
        "plot_model(model, show_shapes=True, to_file = 'Bengali_Sentiment_model.png')"
      ],
      "execution_count": 16,
      "outputs": [
        {
          "output_type": "execute_result",
          "data": {
            "image/png": "[encoded data removed]",
            "text/plain": [
              "<IPython.core.display.Image object>"
            ]
          },
          "metadata": {},
          "execution_count": 16
        }
      ]
    },
    {
      "cell_type": "code",
      "metadata": {
        "id": "fMUueuiaJ2c1"
      },
      "source": [
        "# Compile Model \n",
        "model.compile(optimizer='adam',\n",
        "              loss='categorical_crossentropy',\n",
        "              metrics=['accuracy'])"
      ],
      "execution_count": 17,
      "outputs": []
    },
    {
      "cell_type": "code",
      "metadata": {
        "id": "NGRPbfOcrkkY"
      },
      "source": [
        "# Define ModelCheckpoint, ReduceLROnPlateau, EarlyStopping\n",
        "checkpoints = ModelCheckpoint('/content/drive/MyDrive/technometrics/weight_LSTM.hdf5',\n",
        "                               monitor='val_loss',\n",
        "                               mode='max', \n",
        "                               verbose=True,\n",
        "                               save_best_only=True) \n",
        "\n",
        "reduce_lr = ReduceLROnPlateau(monitor='val_loss',\n",
        "                              factor=0.1, \n",
        "                              patience=2, \n",
        "                              verbose=1, \n",
        "                              min_lr=0.000001) \n",
        "\n",
        "early_stop = EarlyStopping(monitor='val_loss', \n",
        "                           patience=3) "
      ],
      "execution_count": 20,
      "outputs": []
    },
    {
      "cell_type": "code",
      "metadata": {
        "id": "K4QxF3LAKHce",
        "colab": {
          "base_uri": "https://localhost:8080/"
        },
        "outputId": "87f14286-4cf6-41c9-c37f-3cb4204c74a6"
      },
      "source": [
        "history = model.fit(x_train, y_train, \n",
        "                    epochs=30,\n",
        "                    verbose=1, \n",
        "                    validation_data=(x_valid, y_valid),  \n",
        "                    batch_size=256,\n",
        "                    callbacks = [checkpoints, reduce_lr, early_stop]\n",
        "                    )"
      ],
      "execution_count": 21,
      "outputs": [
        {
          "output_type": "stream",
          "name": "stdout",
          "text": [
            "Epoch 1/30\n",
            "44/44 [==============================] - 37s 574ms/step - loss: 1.7295 - accuracy: 0.2738 - val_loss: 1.3763 - val_accuracy: 0.4832\n",
            "\n",
            "Epoch 00001: val_loss improved from -inf to 1.37625, saving model to /content/drive/MyDrive/technometrics/weight_LSTM.hdf5\n",
            "Epoch 2/30\n",
            "44/44 [==============================] - 24s 539ms/step - loss: 0.9440 - accuracy: 0.6264 - val_loss: 0.7736 - val_accuracy: 0.7195\n",
            "\n",
            "Epoch 00002: val_loss did not improve from 1.37625\n",
            "Epoch 3/30\n",
            "44/44 [==============================] - 24s 539ms/step - loss: 0.4135 - accuracy: 0.8528 - val_loss: 0.5168 - val_accuracy: 0.8506\n",
            "\n",
            "Epoch 00003: val_loss did not improve from 1.37625\n",
            "Epoch 4/30\n",
            "44/44 [==============================] - 24s 540ms/step - loss: 0.1609 - accuracy: 0.9567 - val_loss: 0.5664 - val_accuracy: 0.8430\n",
            "\n",
            "Epoch 00004: val_loss did not improve from 1.37625\n",
            "Epoch 5/30\n",
            "44/44 [==============================] - 24s 538ms/step - loss: 0.0798 - accuracy: 0.9823 - val_loss: 0.5659 - val_accuracy: 0.8399\n",
            "\n",
            "Epoch 00005: val_loss did not improve from 1.37625\n",
            "\n",
            "Epoch 00005: ReduceLROnPlateau reducing learning rate to 0.00010000000474974513.\n",
            "Epoch 6/30\n",
            "44/44 [==============================] - 24s 539ms/step - loss: 0.0466 - accuracy: 0.9921 - val_loss: 0.5576 - val_accuracy: 0.8613\n",
            "\n",
            "Epoch 00006: val_loss did not improve from 1.37625\n"
          ]
        }
      ]
    },
    {
      "cell_type": "code",
      "metadata": {
        "id": "KfacvvhAKHg0",
        "colab": {
          "base_uri": "https://localhost:8080/",
          "height": 545
        },
        "outputId": "75c089c3-eb63-4f6d-d496-b450a8ff59fd"
      },
      "source": [
        "# Printing accuracy and loss of train and validation data \n",
        "train_accuracy = history.history['accuracy'] \n",
        "loss = history.history['loss']\n",
        "\n",
        "val_accuracy = history.history['val_accuracy']\n",
        "val_loss = history.history['val_loss']\n",
        "\n",
        "epochs = range(len(val_accuracy))\n",
        "plt.plot(epochs, train_accuracy, 'go', label='Training accuracy')\n",
        "plt.plot(epochs, val_accuracy, 'b', label='Validation accuracy')\n",
        "plt.title('Training and validation accuracy')\n",
        "plt.legend()\n",
        "plt.figure()\n",
        "plt.plot(epochs, loss, 'go', label='Training loss')\n",
        "plt.plot(epochs, val_loss, 'g', label='validation loss')\n",
        "plt.title('training and validation loss')\n",
        "plt.legend()\n",
        "plt.show()"
      ],
      "execution_count": 23,
      "outputs": [
        {
          "output_type": "display_data",
          "data": {
            "image/png": "[encoded data removed]",
            "text/plain": [
              "<Figure size 432x288 with 1 Axes>"
            ]
          },
          "metadata": {
            "needs_background": "light"
          }
        },
        {
          "output_type": "display_data",
          "data": {
            "image/png": "[encoded data removed]",
            "text/plain": [
              "<Figure size 432x288 with 1 Axes>"
            ]
          },
          "metadata": {
            "needs_background": "light"
          }
        }
      ]
    },
    {
      "cell_type": "code",
      "metadata": {
        "id": "UdYih-WhK6yR"
      },
      "source": [
        "# Save model \n",
        "model.save(\"/content/drive/MyDrive/technometrics/Bengali_text_classification_using_LSTM.h5\")\n",
        "\n",
        "# Load Model\n",
        "model_loaded = load_model(\"/content/drive/MyDrive/technometrics/Bengali_text_classification_using_LSTM.h5\") "
      ],
      "execution_count": 24,
      "outputs": []
    },
    {
      "cell_type": "code",
      "metadata": {
        "id": "UWRRcwhKLgT7"
      },
      "source": [
        "# Predict with test data \n",
        "def test_data_preprocessing_and_predict_with_model(X_test, model):  \n",
        "\n",
        "  # Predicting with test dataset \n",
        "  pred_class = model.predict(x_test)  \n",
        "  return pred_class "
      ],
      "execution_count": 38,
      "outputs": []
    },
    {
      "cell_type": "code",
      "metadata": {
        "id": "m9a-FJySLger",
        "colab": {
          "base_uri": "https://localhost:8080/"
        },
        "outputId": "aa74f5fb-02a8-49a9-918f-3d05b1909215"
      },
      "source": [
        "y_pred = test_data_preprocessing_and_predict_with_model(x_test, model_loaded) \n",
        "y_pred = np.rint(y_pred)\n",
        "y_pred "
      ],
      "execution_count": 39,
      "outputs": [
        {
          "output_type": "execute_result",
          "data": {
            "text/plain": [
              "array([[0., 0., 0., ..., 0., 0., 0.],\n",
              "       [0., 0., 1., ..., 0., 0., 0.],\n",
              "       [1., 0., 0., ..., 0., 0., 0.],\n",
              "       ...,\n",
              "       [1., 0., 0., ..., 0., 0., 0.],\n",
              "       [0., 0., 1., ..., 0., 0., 0.],\n",
              "       [1., 0., 0., ..., 0., 0., 0.]], dtype=float32)"
            ]
          },
          "metadata": {},
          "execution_count": 39
        }
      ]
    },
    {
      "cell_type": "code",
      "metadata": {
        "id": "Lqw-cGJnQfV1",
        "colab": {
          "base_uri": "https://localhost:8080/"
        },
        "outputId": "34f113af-2ea1-4a14-90e8-68c7846ca0d6"
      },
      "source": [
        "# Classification Report \n",
        "print(classification_report(y_test, y_pred)) "
      ],
      "execution_count": 40,
      "outputs": [
        {
          "output_type": "stream",
          "name": "stdout",
          "text": [
            "              precision    recall  f1-score   support\n",
            "\n",
            "           0       0.90      0.83      0.87       159\n",
            "           1       0.96      0.83      0.89       151\n",
            "           2       0.90      0.96      0.93       201\n",
            "           3       0.86      0.85      0.86       206\n",
            "           4       0.96      0.99      0.97       203\n",
            "           5       0.79      0.78      0.78       188\n",
            "           6       0.76      0.76      0.76       138\n",
            "\n",
            "   micro avg       0.88      0.87      0.87      1246\n",
            "   macro avg       0.88      0.86      0.87      1246\n",
            "weighted avg       0.88      0.87      0.87      1246\n",
            " samples avg       0.87      0.87      0.87      1246\n",
            "\n"
          ]
        },
        {
          "output_type": "stream",
          "name": "stderr",
          "text": [
            "/usr/local/lib/python3.7/dist-packages/sklearn/metrics/_classification.py:1272: UndefinedMetricWarning: Precision and F-score are ill-defined and being set to 0.0 in samples with no predicted labels. Use `zero_division` parameter to control this behavior.\n",
            "  _warn_prf(average, modifier, msg_start, len(result))\n"
          ]
        }
      ]
    },
    {
      "cell_type": "code",
      "metadata": {
        "id": "wqoj6J5W39uI"
      },
      "source": [
        ""
      ],
      "execution_count": null,
      "outputs": []
    },
    {
      "cell_type": "code",
      "metadata": {
        "id": "1Pz1784d39xP"
      },
      "source": [
        "# Reverse of one hot encoding \n",
        "y_pred = ohe.inverse_transform(y_pred) \n",
        "y_pred = y_pred.flatten()\n",
        "y_test = ohe.inverse_transform(y_test) \n",
        "y_test = y_test.flatten() \n"
      ],
      "execution_count": 72,
      "outputs": []
    },
    {
      "cell_type": "code",
      "metadata": {
        "id": "ODdGGZK-QfZx",
        "colab": {
          "base_uri": "https://localhost:8080/",
          "height": 514
        },
        "outputId": "38860b2f-0790-4df6-d562-290b13219915"
      },
      "source": [
        "# Confusion Matrix \n",
        "plt.figure(figsize=(8,8))\n",
        "sns.heatmap(confusion_matrix(y_test, y_pred), square=True, annot=True, fmt='d', cbar=False)\n",
        "\n",
        "plt.xlabel('True label')\n",
        "plt.ylabel('Predicted data')"
      ],
      "execution_count": 73,
      "outputs": [
        {
          "output_type": "execute_result",
          "data": {
            "text/plain": [
              "Text(56.760000000000005, 0.5, 'Predicted data')"
            ]
          },
          "metadata": {},
          "execution_count": 73
        },
        {
          "output_type": "display_data",
          "data": {
            "image/png": "[encoded data removed]",
            "text/plain": [
              "<Figure size 576x576 with 1 Axes>"
            ]
          },
          "metadata": {
            "needs_background": "light"
          }
        }
      ]
    },
    {
      "cell_type": "code",
      "metadata": {
        "id": "DB8w0j_G1hG2"
      },
      "source": [
        ""
      ],
      "execution_count": null,
      "outputs": []
    },
    {
      "cell_type": "markdown",
      "metadata": {
        "id": "kAD2BwzTa7_0"
      },
      "source": [
        "# 10 Text Classification Using Bengali BERT pretrained Model "
      ]
    },
    {
      "cell_type": "code",
      "metadata": {
        "id": "jSKEh_WJZpl5"
      },
      "source": [
        "pip install transformers"
      ],
      "execution_count": null,
      "outputs": []
    },
    {
      "cell_type": "code",
      "metadata": {
        "id": "C9Wi6SlR8aq6"
      },
      "source": [
        "import numpy as np \n",
        "import pandas as pd \n",
        "\n",
        "from sklearn.preprocessing import LabelEncoder\n",
        "from sklearn.model_selection import StratifiedKFold, train_test_split\n",
        "from sklearn import metrics \n",
        "\n",
        "import re, os \n",
        "from tqdm import tqdm \n",
        "\n",
        "from transformers import BertConfig, BertModel \n",
        "import transformers \n",
        "import torch \n",
        "import torch.nn as nn \n",
        "from transformers import AdamW \n",
        "from transformers import get_linear_schedule_with_warmup "
      ],
      "execution_count": 5,
      "outputs": []
    },
    {
      "cell_type": "markdown",
      "metadata": {
        "id": "O4XzYzZjmi7n"
      },
      "source": [
        "### 10.1 Reading and Preprocessing of the dataset "
      ]
    },
    {
      "cell_type": "code",
      "metadata": {
        "id": "drVdWZHP8LlM",
        "colab": {
          "base_uri": "https://localhost:8080/",
          "height": 224
        },
        "outputId": "08e94dfb-50d8-4ad9-c818-163f26df21f8"
      },
      "source": [
        "# Reading train and test dataset \n",
        "train = pd.read_csv(\"/content/drive/MyDrive/technometrics/sample dataset/train.csv\")\n",
        "test = pd.read_csv(\"/content/drive/MyDrive/technometrics/sample dataset/test.csv\")\n",
        "\n",
        "# joining the train and test dataset \n",
        "train_test = pd.concat([train, test], axis=0, ignore_index=True)\n",
        "\n",
        "# resetting index\n",
        "train_test = train_test.sample(frac=1).reset_index(drop=True)\n",
        "\n",
        "# Label Encoding \n",
        "le = LabelEncoder() \n",
        "train_test['category'] = le.fit_transform(train_test['category'])\n",
        "\n",
        "# Dividing train_test dataset into train and test \n",
        "train, test = train_test_split(train_test, test_size=.2, stratify=train_test['category'])  \n",
        "\n",
        "# resetting index\n",
        "train = train.sample(frac=1).reset_index(drop=True)\n",
        "test = test.sample(frac=1).reset_index(drop=True)\n",
        "\n",
        "# Reading training dataset \n",
        "df = train\n",
        "print(\"Sahep of df is :\", df.shape) \n",
        "df.head() "
      ],
      "execution_count": 12,
      "outputs": [
        {
          "output_type": "stream",
          "name": "stdout",
          "text": [
            "Sahep of df is : (34976, 2)\n"
          ]
        },
        {
          "output_type": "execute_result",
          "data": {
            "text/html": [
              "<div>\n",
              "<style scoped>\n",
              "    .dataframe tbody tr th:only-of-type {\n",
              "        vertical-align: middle;\n",
              "    }\n",
              "\n",
              "    .dataframe tbody tr th {\n",
              "        vertical-align: top;\n",
              "    }\n",
              "\n",
              "    .dataframe thead th {\n",
              "        text-align: right;\n",
              "    }\n",
              "</style>\n",
              "<table border=\"1\" class=\"dataframe\">\n",
              "  <thead>\n",
              "    <tr style=\"text-align: right;\">\n",
              "      <th></th>\n",
              "      <th>text</th>\n",
              "      <th>category</th>\n",
              "    </tr>\n",
              "  </thead>\n",
              "  <tbody>\n",
              "    <tr>\n",
              "      <th>0</th>\n",
              "      <td>বগুড়ার দুপচাঁচিয়ায় পরিত্যক্ত চাতাল গত রোববার স...</td>\n",
              "      <td>5</td>\n",
              "    </tr>\n",
              "    <tr>\n",
              "      <th>1</th>\n",
              "      <td>নারীর নিরাপত্তায় কলকাতার রাস্তায় নেমেছে পুলিশে...</td>\n",
              "      <td>3</td>\n",
              "    </tr>\n",
              "    <tr>\n",
              "      <th>2</th>\n",
              "      <td>রণবীর কাপুরের জন্মদিন বছর দিনটি আলিয়া ভাটের আন...</td>\n",
              "      <td>2</td>\n",
              "    </tr>\n",
              "    <tr>\n",
              "      <th>3</th>\n",
              "      <td>দেশের রপ্তানি প্রক্রিয়াকরণ এলাকাগুলোতে ইপিজেড...</td>\n",
              "      <td>0</td>\n",
              "    </tr>\n",
              "    <tr>\n",
              "      <th>4</th>\n",
              "      <td> মোহাম্মদ আক্তার উজ জামান প্রভাষক রূপনগর মডেল...</td>\n",
              "      <td>1</td>\n",
              "    </tr>\n",
              "  </tbody>\n",
              "</table>\n",
              "</div>"
            ],
            "text/plain": [
              "                                                text  category\n",
              "0  বগুড়ার দুপচাঁচিয়ায় পরিত্যক্ত চাতাল গত রোববার স...         5\n",
              "1  নারীর নিরাপত্তায় কলকাতার রাস্তায় নেমেছে পুলিশে...         3\n",
              "2  রণবীর কাপুরের জন্মদিন বছর দিনটি আলিয়া ভাটের আন...         2\n",
              "3  দেশের রপ্তানি প্রক্রিয়াকরণ এলাকাগুলোতে ইপিজেড...         0\n",
              "4   মোহাম্মদ আক্তার উজ জামান প্রভাষক রূপনগর মডেল...         1"
            ]
          },
          "metadata": {},
          "execution_count": 12
        }
      ]
    },
    {
      "cell_type": "markdown",
      "metadata": {
        "id": "fK_-SNTymb84"
      },
      "source": [
        "### 10.2 Create Folds"
      ]
    },
    {
      "cell_type": "code",
      "metadata": {
        "id": "hmsQD-RG7lsa",
        "colab": {
          "base_uri": "https://localhost:8080/"
        },
        "outputId": "5d09b84a-a95b-4ae8-e1fc-9015c9fbdd5d"
      },
      "source": [
        "df = df.copy() \n",
        "#df = df.dropna().reset_index(drop=True) \n",
        "df[\"kfold\"] = -1\n",
        "\n",
        "df = df.sample(frac=1).reset_index(drop=True)\n",
        "\n",
        "kf = StratifiedKFold(n_splits=5)\n",
        "\n",
        "for fold, (trn_, val_) in enumerate(kf.split(X=df, y=df.category.values)):\n",
        "    print(len(trn_), len(val_))\n",
        "    df.loc[val_, 'kfold'] = fold\n",
        "\n",
        "df.to_csv(\"/content/drive/MyDrive/technometrics/sample dataset/train_folds.csv\", index=False)"
      ],
      "execution_count": null,
      "outputs": [
        {
          "output_type": "stream",
          "name": "stdout",
          "text": [
            "17483 4371\n",
            "17483 4371\n",
            "17483 4371\n",
            "17483 4371\n",
            "17484 4370\n"
          ]
        }
      ]
    },
    {
      "cell_type": "markdown",
      "metadata": {
        "id": "UC_xk9Y-7yhI"
      },
      "source": [
        "### 10.3 Some Global Variable"
      ]
    },
    {
      "cell_type": "code",
      "metadata": {
        "id": "PYN-hCNm7x_A",
        "colab": {
          "base_uri": "https://localhost:8080/",
          "height": 81,
          "referenced_widgets": [
            "e9f9b2ad0be245f09f492fdec2bc19a6",
            "608c41baef0c426d941642e06c1e71fc",
            "e36f75adc61e409895f5d58f8f397d34",
            "2093090bdb7743c5b42f1478cdb0cd96",
            "0e004461f11f430eb618a379436d368c",
            "3cbbb4db9f7d488f9f066b3abc02e9e2",
            "f9b6497a200f4f589c2e3123eac2c64a",
            "a366521c4c3a4d918d9c4f80748a5412",
            "1458d10147f8456bb7bb844377cc6f84",
            "1b979444b1214b72a13bdec6fc2bd2b2",
            "41eb150cf07447438e33f3f7aaaa4c14",
            "8ff44057efad4281b3b32e194cbc6ea1",
            "f55dcd081e7c43e49d10db1194a10559",
            "6add2638a2d94e278aed9d6a0314d7f2",
            "9656436721fb4e1fbc5a3f3238ab49ba",
            "1be9bd863eba42899b79e03f7e1ded78",
            "d670dcd25b7f4437b3ba5da384799e35",
            "396719054f85438099ff161315e9e117",
            "be10c270a9714d53ace3dfbf4056f99c",
            "51294011aba946f7bc3acc990329e52b",
            "c2117d52e9794344b4d100977c66f3f9",
            "9f7a7fc7d9fe42ce97b75fec9b6e7eb1"
          ]
        },
        "outputId": "8e6755c5-f21e-45a6-bf5c-ceb2fb835c41"
      },
      "source": [
        "DEVICE = 'cuda' if torch.cuda.is_available() else 'cpu'\n",
        "MAX_LEN = 64 \n",
        "TRAIN_BATCH_SIZE = 8\n",
        "VALID_BATCH_SIZE = 4\n",
        "EPOCHS = 10\n",
        "BERT_PATH = \"sagorsarker/bangla-bert-base\"\n",
        "MODEL_PATH = \"/content/drive/MyDrive/technometrics/model.bin\"\n",
        "TRAINING_FILE = \"/content/drive/MyDrive/technometrics/sample dataset/train_folds.csv\"\n",
        "TOKENIZER = transformers.BertTokenizer.from_pretrained(\"sagorsarker/bangla-bert-base\")"
      ],
      "execution_count": 20,
      "outputs": [
        {
          "output_type": "display_data",
          "data": {
            "application/vnd.jupyter.widget-view+json": {
              "model_id": "e9f9b2ad0be245f09f492fdec2bc19a6",
              "version_minor": 0,
              "version_major": 2
            },
            "text/plain": [
              "Downloading:   0%|          | 0.00/2.13M [00:00<?, ?B/s]"
            ]
          },
          "metadata": {}
        },
        {
          "output_type": "display_data",
          "data": {
            "application/vnd.jupyter.widget-view+json": {
              "model_id": "8ff44057efad4281b3b32e194cbc6ea1",
              "version_minor": 0,
              "version_major": 2
            },
            "text/plain": [
              "Downloading:   0%|          | 0.00/491 [00:00<?, ?B/s]"
            ]
          },
          "metadata": {}
        }
      ]
    },
    {
      "cell_type": "markdown",
      "metadata": {
        "id": "_lmz_QqI7oPz"
      },
      "source": [
        "### 10.4 Model"
      ]
    },
    {
      "cell_type": "code",
      "metadata": {
        "id": "WizZ-4TW7l1z"
      },
      "source": [
        "class BERTBaseUncased(nn.Module):\n",
        "    def __init__(self):\n",
        "        super(BERTBaseUncased, self).__init__()\n",
        "        self.bert = transformers.BertModel.from_pretrained(BERT_PATH, return_dict=False)\n",
        "        self.bert_drop = nn.Dropout(0.3)\n",
        "        self.out = nn.Linear(768, 7)\n",
        "\n",
        "    def forward(self, ids, mask, token_type_ids):\n",
        "        _, o2 = self.bert(ids, attention_mask=mask, token_type_ids=token_type_ids)\n",
        "        bo = self.bert_drop(o2)\n",
        "        output = self.out(bo)\n",
        "        return output\n"
      ],
      "execution_count": 21,
      "outputs": []
    },
    {
      "cell_type": "code",
      "metadata": {
        "id": "pwFnAzXF7rf8",
        "colab": {
          "base_uri": "https://localhost:8080/",
          "height": 121,
          "referenced_widgets": [
            "45cb970c2a854502a62b164d2f028ba2",
            "1f1011b193004c6d933b4b52408b2d47",
            "9900c1b311bc41ea8a87b61a3d6a2261",
            "f4ebd927e3f44b7f91790146d3412c0b",
            "5876e67a45ec4024a22ab5dc735a9dfe",
            "2056488715e5479abf1f12301f6ef36d",
            "4fb63778eec14ae995812006ee97122f",
            "e54f09d08d8549c49c6e35b08089bd20",
            "5da07eb120a949329f9915e5c5f2cc0e",
            "d2b5a3fdee094be8aa5af08de0ae965e",
            "e3c61af4f29c458e845054ec62129329"
          ]
        },
        "outputId": "4c8cd5db-0519-41d2-a7a2-32d69c81ff5d"
      },
      "source": [
        "model = BERTBaseUncased()"
      ],
      "execution_count": 22,
      "outputs": [
        {
          "output_type": "display_data",
          "data": {
            "application/vnd.jupyter.widget-view+json": {
              "model_id": "45cb970c2a854502a62b164d2f028ba2",
              "version_minor": 0,
              "version_major": 2
            },
            "text/plain": [
              "Downloading:   0%|          | 0.00/630M [00:00<?, ?B/s]"
            ]
          },
          "metadata": {}
        },
        {
          "output_type": "stream",
          "name": "stderr",
          "text": [
            "Some weights of the model checkpoint at sagorsarker/bangla-bert-base were not used when initializing BertModel: ['cls.predictions.transform.LayerNorm.bias', 'cls.predictions.transform.dense.bias', 'cls.predictions.transform.dense.weight', 'cls.seq_relationship.bias', 'cls.predictions.bias', 'cls.seq_relationship.weight', 'cls.predictions.transform.LayerNorm.weight', 'cls.predictions.decoder.weight']\n",
            "- This IS expected if you are initializing BertModel from the checkpoint of a model trained on another task or with another architecture (e.g. initializing a BertForSequenceClassification model from a BertForPreTraining model).\n",
            "- This IS NOT expected if you are initializing BertModel from the checkpoint of a model that you expect to be exactly identical (initializing a BertForSequenceClassification model from a BertForSequenceClassification model).\n"
          ]
        }
      ]
    },
    {
      "cell_type": "markdown",
      "metadata": {
        "id": "XHuvxDSm7jU5"
      },
      "source": [
        "### 10.5 Dataset"
      ]
    },
    {
      "cell_type": "code",
      "metadata": {
        "id": "qdDQhCuT7Dp0"
      },
      "source": [
        "class BERTDataset:\n",
        "    def __init__(self, content, label):\n",
        "        self.review = content\n",
        "        self.target = label \n",
        "        self.tokenizer = TOKENIZER\n",
        "        self.max_len = MAX_LEN\n",
        "\n",
        "    def __len__(self):\n",
        "        return len(self.review)\n",
        "\n",
        "    def __getitem__(self, item):\n",
        "        review = str(self.review[item])\n",
        "        review = \" \".join(review.split())\n",
        "\n",
        "        inputs = self.tokenizer.encode_plus(\n",
        "            review,\n",
        "            None,\n",
        "            add_special_tokens=True,\n",
        "            max_length=self.max_len,\n",
        "            truncation=True,\n",
        "            pad_to_max_length=True,\n",
        "        )\n",
        "\n",
        "        ids = inputs[\"input_ids\"]\n",
        "        mask = inputs[\"attention_mask\"]\n",
        "        token_type_ids = inputs[\"token_type_ids\"]\n",
        "\n",
        "        return {\n",
        "            \"ids\": torch.tensor(ids, dtype=torch.long),\n",
        "            \"mask\": torch.tensor(mask, dtype=torch.long),\n",
        "            \"token_type_ids\": torch.tensor(token_type_ids, dtype=torch.long),\n",
        "            \"targets\": torch.tensor(self.target[item], dtype=torch.long)\n",
        "        } "
      ],
      "execution_count": 23,
      "outputs": []
    },
    {
      "cell_type": "markdown",
      "metadata": {
        "id": "jZThC-Ko7W3R"
      },
      "source": [
        "### 10.6 Early Stopping"
      ]
    },
    {
      "cell_type": "code",
      "metadata": {
        "id": "ClooC4pU7Vfz"
      },
      "source": [
        "class EarlyStopping:\n",
        "    \"\"\"Early stops the training if validation loss doesn't improve after a given patience.\"\"\"\n",
        "    def __init__(self, patience=7, verbose=False, delta=0, path='checkpoint.pt', trace_func=print):\n",
        "        self.patience = patience\n",
        "        self.verbose = verbose\n",
        "        self.counter = 0 \n",
        "        self.best_score = None\n",
        "        self.early_stop = False\n",
        "        self.val_loss_min = np.Inf\n",
        "        self.delta = delta\n",
        "        self.path = path\n",
        "        self.trace_func = trace_func\n",
        "    def __call__(self, val_loss, model):\n",
        "\n",
        "        score = -val_loss\n",
        "\n",
        "        if self.best_score is None:\n",
        "            self.best_score = score\n",
        "            self.save_checkpoint(val_loss, model)\n",
        "        elif score < self.best_score + self.delta:\n",
        "            self.counter += 1\n",
        "            self.trace_func(f'EarlyStopping counter: {self.counter} out of {self.patience}')\n",
        "            if self.counter >= self.patience:\n",
        "                self.early_stop = True\n",
        "        else:\n",
        "            self.best_score = score\n",
        "            self.save_checkpoint(val_loss, model)\n",
        "            self.counter = 0\n",
        "\n",
        "    def save_checkpoint(self, val_loss, model):\n",
        "        '''Saves model when validation loss decrease.'''\n",
        "        if self.verbose:\n",
        "            self.trace_func(f'Validation loss decreased ({self.val_loss_min:.6f} --> {val_loss:.6f}).  Saving model ...')\n",
        "        torch.save(model.state_dict(), self.path)\n",
        "        self.val_loss_min = val_loss"
      ],
      "execution_count": null,
      "outputs": []
    },
    {
      "cell_type": "markdown",
      "metadata": {
        "id": "xsMGk-Aq7LDp"
      },
      "source": [
        "### 10.7 Engine "
      ]
    },
    {
      "cell_type": "code",
      "metadata": {
        "id": "vZP6Qyif7DxH"
      },
      "source": [
        "#def loss_fn(outputs, targets):\n",
        "#    return nn.CrossEntropyLoss(outputs, targets) \n",
        "criterion = nn.CrossEntropyLoss() \n",
        "\n",
        "\n",
        "def train_fn(data_loader, model, optimizer, device, scheduler):\n",
        "    model.train()\n",
        "\n",
        "    for bi, d in tqdm(enumerate(data_loader), total=len(data_loader)):\n",
        "        ids = d[\"ids\"]\n",
        "        token_type_ids = d[\"token_type_ids\"]\n",
        "        mask = d[\"mask\"]\n",
        "        targets = d[\"targets\"]\n",
        "\n",
        "        ids = ids.to(device, dtype=torch.long)\n",
        "        token_type_ids = token_type_ids.to(device, dtype=torch.long)\n",
        "        mask = mask.to(device, dtype=torch.long)\n",
        "        targets = targets.to(device, dtype=torch.long)\n",
        "\n",
        "\n",
        "        optimizer.zero_grad()\n",
        "        outputs = model(ids=ids, mask=mask, token_type_ids=token_type_ids)\n",
        "\n",
        "        loss = criterion(outputs, targets)       #loss_fn(outputs, targets)\n",
        "        loss.backward()\n",
        "        optimizer.step()\n",
        "        scheduler.step()\n",
        "\n",
        "\n",
        "def eval_fn(data_loader, model, device):\n",
        "    model.eval()\n",
        "    fin_targets = []\n",
        "    fin_outputs = []\n",
        "\n",
        "    with torch.no_grad():\n",
        "\n",
        "        for bi, d in tqdm(enumerate(data_loader), total=len(data_loader)):\n",
        "            ids = d[\"ids\"]\n",
        "            token_type_ids = d[\"token_type_ids\"]\n",
        "            mask = d[\"mask\"]\n",
        "            targets = d[\"targets\"]\n",
        "\n",
        "            ids = ids.to(device, dtype=torch.long)\n",
        "            token_type_ids = token_type_ids.to(device, dtype=torch.long)\n",
        "            mask = mask.to(device, dtype=torch.long)\n",
        "            targets = targets.to(device, dtype=torch.long)\n",
        "\n",
        "            outputs = model(ids=ids, mask=mask, token_type_ids=token_type_ids)\n",
        "            fin_targets.extend(targets.cpu().detach().numpy().tolist())\n",
        "            fin_outputs.extend(torch.sigmoid(outputs).cpu().detach().numpy().tolist())\n",
        "\n",
        "    return fin_outputs, fin_targets"
      ],
      "execution_count": 24,
      "outputs": []
    },
    {
      "cell_type": "markdown",
      "metadata": {
        "id": "lcXM1rhF7Fv0"
      },
      "source": [
        "### 10.8 Training the Model "
      ]
    },
    {
      "cell_type": "code",
      "metadata": {
        "id": "X14UxlvDa4-k"
      },
      "source": [
        "def run(fold):\n",
        "    dfx = pd.read_csv(TRAINING_FILE)\n",
        "\n",
        "    df_train = dfx[dfx.kfold != fold].reset_index(drop=True)\n",
        "    df_valid = dfx[dfx.kfold == fold].reset_index(drop=True)\n",
        "\n",
        "    # Loading train dataset \n",
        "    train_dataset = BERTDataset(\n",
        "        content = df_train.text.values,\n",
        "        label = df_train.category.values\n",
        "    )\n",
        "\n",
        "    train_data_loader = torch.utils.data.DataLoader(\n",
        "        train_dataset,\n",
        "        batch_size=TRAIN_BATCH_SIZE, \n",
        "        num_workers=4 \n",
        "    )\n",
        "\n",
        "    # Loading valid dataset \n",
        "    valid_dataset = BERTDataset(\n",
        "        content = df_valid.text.values,\n",
        "        label = df_valid.category.values \n",
        "    )\n",
        "\n",
        "    valid_data_loader = torch.utils.data.DataLoader(\n",
        "        valid_dataset,\n",
        "        batch_size = VALID_BATCH_SIZE,\n",
        "        num_workers = 2\n",
        "    ) \n",
        "\n",
        "    # Define device, model \n",
        "    device = torch.device(DEVICE)\n",
        "    model = BERTBaseUncased()\n",
        "    model.to(device)\n",
        "\n",
        "    # optimizer and hyperparameter tuning \n",
        "    param_optimizer = list(model.named_parameters())\n",
        "    no_decay = [\"bias\", \"LayerNorm.bias\", \"LayerNorm.weight\"]\n",
        "    optimizer_parameters = [\n",
        "        {\n",
        "            \"params\": [\n",
        "                p for n, p in param_optimizer if not any(nd in n for nd in no_decay)\n",
        "            ],\n",
        "            \"weight_decay\": 0.001,\n",
        "        },\n",
        "        {\n",
        "            \"params\": [\n",
        "                p for n, p in param_optimizer if any(nd in n for nd in no_decay)\n",
        "            ],\n",
        "            \"weight_decay\": 0.0,\n",
        "        },\n",
        "    ]\n",
        "\n",
        "    num_train_steps = int(len(df_train) / TRAIN_BATCH_SIZE * EPOCHS)\n",
        "    optimizer = AdamW(optimizer_parameters, lr=3e-5)\n",
        "    scheduler = get_linear_schedule_with_warmup(\n",
        "        optimizer, num_warmup_steps=0, num_training_steps=num_train_steps\n",
        "    )\n",
        "\n",
        "    #es = EarlyStopping(patience=5, mode=\"max\") \n",
        "\n",
        "    best_accuracy = 0\n",
        "    for epoch in range(EPOCHS):\n",
        "      train_fn(train_data_loader, model, optimizer, device, scheduler)\n",
        "      outputs, targets = eval_fn(valid_data_loader, model, device)\n",
        "      \n",
        "      #outputs = np.array(outputs) >= 0.5\n",
        "      #accuracy = metrics.accuracy_score(targets, outputs)\n",
        "      #print(f\"Valid Accuracy Score = {accuracy}\") \n",
        "      #if accuracy > best_accuracy:\n",
        "      torch.save(model.state_dict(), MODEL_PATH)\n",
        "            #best_accuracy = accuracy"
      ],
      "execution_count": null,
      "outputs": []
    },
    {
      "cell_type": "code",
      "metadata": {
        "id": "3wfIH0I4UQLj",
        "colab": {
          "base_uri": "https://localhost:8080/"
        },
        "outputId": "cdc60be4-c51c-495e-fafc-101e9aaae087"
      },
      "source": [
        "for i in range(5): \n",
        "  run(i) "
      ],
      "execution_count": null,
      "outputs": [
        {
          "output_type": "stream",
          "name": "stderr",
          "text": [
            "/usr/local/lib/python3.7/dist-packages/torch/utils/data/dataloader.py:481: UserWarning: This DataLoader will create 4 worker processes in total. Our suggested max number of worker in current system is 2, which is smaller than what this DataLoader is going to create. Please be aware that excessive worker creation might get DataLoader running slow or even freeze, lower the worker number to avoid potential slowness/freeze if necessary.\n",
            "  cpuset_checked))\n",
            "Some weights of the model checkpoint at sagorsarker/bangla-bert-base were not used when initializing BertModel: ['cls.seq_relationship.bias', 'cls.predictions.transform.dense.bias', 'cls.predictions.decoder.weight', 'cls.predictions.transform.LayerNorm.bias', 'cls.predictions.bias', 'cls.predictions.transform.LayerNorm.weight', 'cls.predictions.transform.dense.weight', 'cls.seq_relationship.weight']\n",
            "- This IS expected if you are initializing BertModel from the checkpoint of a model trained on another task or with another architecture (e.g. initializing a BertForSequenceClassification model from a BertForPreTraining model).\n",
            "- This IS NOT expected if you are initializing BertModel from the checkpoint of a model that you expect to be exactly identical (initializing a BertForSequenceClassification model from a BertForSequenceClassification model).\n",
            "/usr/local/lib/python3.7/dist-packages/transformers/tokenization_utils_base.py:2217: FutureWarning: The `pad_to_max_length` argument is deprecated and will be removed in a future version, use `padding=True` or `padding='longest'` to pad to the longest sequence in the batch, or use `padding='max_length'` to pad to a max length. In this case, you can give a specific length with `max_length` (e.g. `max_length=45`) or leave max_length to None to pad to the maximal input size of the model (e.g. 512 for Bert).\n",
            "  FutureWarning,\n",
            "/usr/local/lib/python3.7/dist-packages/transformers/tokenization_utils_base.py:2217: FutureWarning: The `pad_to_max_length` argument is deprecated and will be removed in a future version, use `padding=True` or `padding='longest'` to pad to the longest sequence in the batch, or use `padding='max_length'` to pad to a max length. In this case, you can give a specific length with `max_length` (e.g. `max_length=45`) or leave max_length to None to pad to the maximal input size of the model (e.g. 512 for Bert).\n",
            "  FutureWarning,\n",
            "/usr/local/lib/python3.7/dist-packages/transformers/tokenization_utils_base.py:2217: FutureWarning: The `pad_to_max_length` argument is deprecated and will be removed in a future version, use `padding=True` or `padding='longest'` to pad to the longest sequence in the batch, or use `padding='max_length'` to pad to a max length. In this case, you can give a specific length with `max_length` (e.g. `max_length=45`) or leave max_length to None to pad to the maximal input size of the model (e.g. 512 for Bert).\n",
            "  FutureWarning,\n",
            "/usr/local/lib/python3.7/dist-packages/transformers/tokenization_utils_base.py:2217: FutureWarning: The `pad_to_max_length` argument is deprecated and will be removed in a future version, use `padding=True` or `padding='longest'` to pad to the longest sequence in the batch, or use `padding='max_length'` to pad to a max length. In this case, you can give a specific length with `max_length` (e.g. `max_length=45`) or leave max_length to None to pad to the maximal input size of the model (e.g. 512 for Bert).\n",
            "  FutureWarning,\n",
            "100%|██████████| 2186/2186 [09:43<00:00,  3.75it/s]\n",
            "  0%|          | 0/1093 [00:00<?, ?it/s]/usr/local/lib/python3.7/dist-packages/transformers/tokenization_utils_base.py:2217: FutureWarning: The `pad_to_max_length` argument is deprecated and will be removed in a future version, use `padding=True` or `padding='longest'` to pad to the longest sequence in the batch, or use `padding='max_length'` to pad to a max length. In this case, you can give a specific length with `max_length` (e.g. `max_length=45`) or leave max_length to None to pad to the maximal input size of the model (e.g. 512 for Bert).\n",
            "  FutureWarning,\n",
            "/usr/local/lib/python3.7/dist-packages/transformers/tokenization_utils_base.py:2217: FutureWarning: The `pad_to_max_length` argument is deprecated and will be removed in a future version, use `padding=True` or `padding='longest'` to pad to the longest sequence in the batch, or use `padding='max_length'` to pad to a max length. In this case, you can give a specific length with `max_length` (e.g. `max_length=45`) or leave max_length to None to pad to the maximal input size of the model (e.g. 512 for Bert).\n",
            "  FutureWarning,\n",
            "100%|██████████| 1093/1093 [01:00<00:00, 18.04it/s]\n",
            "/usr/local/lib/python3.7/dist-packages/transformers/tokenization_utils_base.py:2217: FutureWarning: The `pad_to_max_length` argument is deprecated and will be removed in a future version, use `padding=True` or `padding='longest'` to pad to the longest sequence in the batch, or use `padding='max_length'` to pad to a max length. In this case, you can give a specific length with `max_length` (e.g. `max_length=45`) or leave max_length to None to pad to the maximal input size of the model (e.g. 512 for Bert).\n",
            "  FutureWarning,\n",
            "/usr/local/lib/python3.7/dist-packages/transformers/tokenization_utils_base.py:2217: FutureWarning: The `pad_to_max_length` argument is deprecated and will be removed in a future version, use `padding=True` or `padding='longest'` to pad to the longest sequence in the batch, or use `padding='max_length'` to pad to a max length. In this case, you can give a specific length with `max_length` (e.g. `max_length=45`) or leave max_length to None to pad to the maximal input size of the model (e.g. 512 for Bert).\n",
            "  FutureWarning,\n",
            "  0%|          | 0/2186 [00:00<?, ?it/s]/usr/local/lib/python3.7/dist-packages/transformers/tokenization_utils_base.py:2217: FutureWarning: The `pad_to_max_length` argument is deprecated and will be removed in a future version, use `padding=True` or `padding='longest'` to pad to the longest sequence in the batch, or use `padding='max_length'` to pad to a max length. In this case, you can give a specific length with `max_length` (e.g. `max_length=45`) or leave max_length to None to pad to the maximal input size of the model (e.g. 512 for Bert).\n",
            "  FutureWarning,\n",
            "/usr/local/lib/python3.7/dist-packages/transformers/tokenization_utils_base.py:2217: FutureWarning: The `pad_to_max_length` argument is deprecated and will be removed in a future version, use `padding=True` or `padding='longest'` to pad to the longest sequence in the batch, or use `padding='max_length'` to pad to a max length. In this case, you can give a specific length with `max_length` (e.g. `max_length=45`) or leave max_length to None to pad to the maximal input size of the model (e.g. 512 for Bert).\n",
            "  FutureWarning,\n",
            "100%|██████████| 2186/2186 [09:42<00:00,  3.75it/s]\n",
            "  0%|          | 0/1093 [00:00<?, ?it/s]/usr/local/lib/python3.7/dist-packages/transformers/tokenization_utils_base.py:2217: FutureWarning: The `pad_to_max_length` argument is deprecated and will be removed in a future version, use `padding=True` or `padding='longest'` to pad to the longest sequence in the batch, or use `padding='max_length'` to pad to a max length. In this case, you can give a specific length with `max_length` (e.g. `max_length=45`) or leave max_length to None to pad to the maximal input size of the model (e.g. 512 for Bert).\n",
            "  FutureWarning,\n",
            "/usr/local/lib/python3.7/dist-packages/transformers/tokenization_utils_base.py:2217: FutureWarning: The `pad_to_max_length` argument is deprecated and will be removed in a future version, use `padding=True` or `padding='longest'` to pad to the longest sequence in the batch, or use `padding='max_length'` to pad to a max length. In this case, you can give a specific length with `max_length` (e.g. `max_length=45`) or leave max_length to None to pad to the maximal input size of the model (e.g. 512 for Bert).\n",
            "  FutureWarning,\n",
            "100%|██████████| 1093/1093 [01:00<00:00, 18.05it/s]\n",
            "/usr/local/lib/python3.7/dist-packages/transformers/tokenization_utils_base.py:2217: FutureWarning: The `pad_to_max_length` argument is deprecated and will be removed in a future version, use `padding=True` or `padding='longest'` to pad to the longest sequence in the batch, or use `padding='max_length'` to pad to a max length. In this case, you can give a specific length with `max_length` (e.g. `max_length=45`) or leave max_length to None to pad to the maximal input size of the model (e.g. 512 for Bert).\n",
            "  FutureWarning,\n",
            "/usr/local/lib/python3.7/dist-packages/transformers/tokenization_utils_base.py:2217: FutureWarning: The `pad_to_max_length` argument is deprecated and will be removed in a future version, use `padding=True` or `padding='longest'` to pad to the longest sequence in the batch, or use `padding='max_length'` to pad to a max length. In this case, you can give a specific length with `max_length` (e.g. `max_length=45`) or leave max_length to None to pad to the maximal input size of the model (e.g. 512 for Bert).\n",
            "  FutureWarning,\n",
            "  0%|          | 0/2186 [00:00<?, ?it/s]/usr/local/lib/python3.7/dist-packages/transformers/tokenization_utils_base.py:2217: FutureWarning: The `pad_to_max_length` argument is deprecated and will be removed in a future version, use `padding=True` or `padding='longest'` to pad to the longest sequence in the batch, or use `padding='max_length'` to pad to a max length. In this case, you can give a specific length with `max_length` (e.g. `max_length=45`) or leave max_length to None to pad to the maximal input size of the model (e.g. 512 for Bert).\n",
            "  FutureWarning,\n",
            "/usr/local/lib/python3.7/dist-packages/transformers/tokenization_utils_base.py:2217: FutureWarning: The `pad_to_max_length` argument is deprecated and will be removed in a future version, use `padding=True` or `padding='longest'` to pad to the longest sequence in the batch, or use `padding='max_length'` to pad to a max length. In this case, you can give a specific length with `max_length` (e.g. `max_length=45`) or leave max_length to None to pad to the maximal input size of the model (e.g. 512 for Bert).\n",
            "  FutureWarning,\n",
            "100%|██████████| 2186/2186 [09:43<00:00,  3.75it/s]\n",
            "/usr/local/lib/python3.7/dist-packages/transformers/tokenization_utils_base.py:2217: FutureWarning: The `pad_to_max_length` argument is deprecated and will be removed in a future version, use `padding=True` or `padding='longest'` to pad to the longest sequence in the batch, or use `padding='max_length'` to pad to a max length. In this case, you can give a specific length with `max_length` (e.g. `max_length=45`) or leave max_length to None to pad to the maximal input size of the model (e.g. 512 for Bert).\n",
            "  FutureWarning,\n",
            "  0%|          | 0/1093 [00:00<?, ?it/s]/usr/local/lib/python3.7/dist-packages/transformers/tokenization_utils_base.py:2217: FutureWarning: The `pad_to_max_length` argument is deprecated and will be removed in a future version, use `padding=True` or `padding='longest'` to pad to the longest sequence in the batch, or use `padding='max_length'` to pad to a max length. In this case, you can give a specific length with `max_length` (e.g. `max_length=45`) or leave max_length to None to pad to the maximal input size of the model (e.g. 512 for Bert).\n",
            "  FutureWarning,\n",
            "100%|██████████| 1093/1093 [01:00<00:00, 18.14it/s]\n",
            "/usr/local/lib/python3.7/dist-packages/transformers/tokenization_utils_base.py:2217: FutureWarning: The `pad_to_max_length` argument is deprecated and will be removed in a future version, use `padding=True` or `padding='longest'` to pad to the longest sequence in the batch, or use `padding='max_length'` to pad to a max length. In this case, you can give a specific length with `max_length` (e.g. `max_length=45`) or leave max_length to None to pad to the maximal input size of the model (e.g. 512 for Bert).\n",
            "  FutureWarning,\n",
            "  0%|          | 0/2186 [00:00<?, ?it/s]/usr/local/lib/python3.7/dist-packages/transformers/tokenization_utils_base.py:2217: FutureWarning: The `pad_to_max_length` argument is deprecated and will be removed in a future version, use `padding=True` or `padding='longest'` to pad to the longest sequence in the batch, or use `padding='max_length'` to pad to a max length. In this case, you can give a specific length with `max_length` (e.g. `max_length=45`) or leave max_length to None to pad to the maximal input size of the model (e.g. 512 for Bert).\n",
            "  FutureWarning,\n",
            "/usr/local/lib/python3.7/dist-packages/transformers/tokenization_utils_base.py:2217: FutureWarning: The `pad_to_max_length` argument is deprecated and will be removed in a future version, use `padding=True` or `padding='longest'` to pad to the longest sequence in the batch, or use `padding='max_length'` to pad to a max length. In this case, you can give a specific length with `max_length` (e.g. `max_length=45`) or leave max_length to None to pad to the maximal input size of the model (e.g. 512 for Bert).\n",
            "  FutureWarning,\n",
            "/usr/local/lib/python3.7/dist-packages/transformers/tokenization_utils_base.py:2217: FutureWarning: The `pad_to_max_length` argument is deprecated and will be removed in a future version, use `padding=True` or `padding='longest'` to pad to the longest sequence in the batch, or use `padding='max_length'` to pad to a max length. In this case, you can give a specific length with `max_length` (e.g. `max_length=45`) or leave max_length to None to pad to the maximal input size of the model (e.g. 512 for Bert).\n",
            "  FutureWarning,\n",
            "100%|██████████| 2186/2186 [09:42<00:00,  3.75it/s]\n",
            "/usr/local/lib/python3.7/dist-packages/transformers/tokenization_utils_base.py:2217: FutureWarning: The `pad_to_max_length` argument is deprecated and will be removed in a future version, use `padding=True` or `padding='longest'` to pad to the longest sequence in the batch, or use `padding='max_length'` to pad to a max length. In this case, you can give a specific length with `max_length` (e.g. `max_length=45`) or leave max_length to None to pad to the maximal input size of the model (e.g. 512 for Bert).\n",
            "  FutureWarning,\n",
            "  0%|          | 0/1093 [00:00<?, ?it/s]/usr/local/lib/python3.7/dist-packages/transformers/tokenization_utils_base.py:2217: FutureWarning: The `pad_to_max_length` argument is deprecated and will be removed in a future version, use `padding=True` or `padding='longest'` to pad to the longest sequence in the batch, or use `padding='max_length'` to pad to a max length. In this case, you can give a specific length with `max_length` (e.g. `max_length=45`) or leave max_length to None to pad to the maximal input size of the model (e.g. 512 for Bert).\n",
            "  FutureWarning,\n",
            "100%|██████████| 1093/1093 [01:01<00:00, 17.89it/s]\n",
            "/usr/local/lib/python3.7/dist-packages/transformers/tokenization_utils_base.py:2217: FutureWarning: The `pad_to_max_length` argument is deprecated and will be removed in a future version, use `padding=True` or `padding='longest'` to pad to the longest sequence in the batch, or use `padding='max_length'` to pad to a max length. In this case, you can give a specific length with `max_length` (e.g. `max_length=45`) or leave max_length to None to pad to the maximal input size of the model (e.g. 512 for Bert).\n",
            "  FutureWarning,\n",
            "  0%|          | 0/2186 [00:00<?, ?it/s]/usr/local/lib/python3.7/dist-packages/transformers/tokenization_utils_base.py:2217: FutureWarning: The `pad_to_max_length` argument is deprecated and will be removed in a future version, use `padding=True` or `padding='longest'` to pad to the longest sequence in the batch, or use `padding='max_length'` to pad to a max length. In this case, you can give a specific length with `max_length` (e.g. `max_length=45`) or leave max_length to None to pad to the maximal input size of the model (e.g. 512 for Bert).\n",
            "  FutureWarning,\n",
            "/usr/local/lib/python3.7/dist-packages/transformers/tokenization_utils_base.py:2217: FutureWarning: The `pad_to_max_length` argument is deprecated and will be removed in a future version, use `padding=True` or `padding='longest'` to pad to the longest sequence in the batch, or use `padding='max_length'` to pad to a max length. In this case, you can give a specific length with `max_length` (e.g. `max_length=45`) or leave max_length to None to pad to the maximal input size of the model (e.g. 512 for Bert).\n",
            "  FutureWarning,\n",
            "/usr/local/lib/python3.7/dist-packages/transformers/tokenization_utils_base.py:2217: FutureWarning: The `pad_to_max_length` argument is deprecated and will be removed in a future version, use `padding=True` or `padding='longest'` to pad to the longest sequence in the batch, or use `padding='max_length'` to pad to a max length. In this case, you can give a specific length with `max_length` (e.g. `max_length=45`) or leave max_length to None to pad to the maximal input size of the model (e.g. 512 for Bert).\n",
            "  FutureWarning,\n",
            "100%|██████████| 2186/2186 [09:43<00:00,  3.75it/s]\n",
            "  0%|          | 0/1093 [00:00<?, ?it/s]/usr/local/lib/python3.7/dist-packages/transformers/tokenization_utils_base.py:2217: FutureWarning: The `pad_to_max_length` argument is deprecated and will be removed in a future version, use `padding=True` or `padding='longest'` to pad to the longest sequence in the batch, or use `padding='max_length'` to pad to a max length. In this case, you can give a specific length with `max_length` (e.g. `max_length=45`) or leave max_length to None to pad to the maximal input size of the model (e.g. 512 for Bert).\n",
            "  FutureWarning,\n",
            "/usr/local/lib/python3.7/dist-packages/transformers/tokenization_utils_base.py:2217: FutureWarning: The `pad_to_max_length` argument is deprecated and will be removed in a future version, use `padding=True` or `padding='longest'` to pad to the longest sequence in the batch, or use `padding='max_length'` to pad to a max length. In this case, you can give a specific length with `max_length` (e.g. `max_length=45`) or leave max_length to None to pad to the maximal input size of the model (e.g. 512 for Bert).\n",
            "  FutureWarning,\n",
            "100%|██████████| 1093/1093 [01:00<00:00, 18.09it/s]\n",
            "/usr/local/lib/python3.7/dist-packages/transformers/tokenization_utils_base.py:2217: FutureWarning: The `pad_to_max_length` argument is deprecated and will be removed in a future version, use `padding=True` or `padding='longest'` to pad to the longest sequence in the batch, or use `padding='max_length'` to pad to a max length. In this case, you can give a specific length with `max_length` (e.g. `max_length=45`) or leave max_length to None to pad to the maximal input size of the model (e.g. 512 for Bert).\n",
            "  FutureWarning,\n",
            "/usr/local/lib/python3.7/dist-packages/transformers/tokenization_utils_base.py:2217: FutureWarning: The `pad_to_max_length` argument is deprecated and will be removed in a future version, use `padding=True` or `padding='longest'` to pad to the longest sequence in the batch, or use `padding='max_length'` to pad to a max length. In this case, you can give a specific length with `max_length` (e.g. `max_length=45`) or leave max_length to None to pad to the maximal input size of the model (e.g. 512 for Bert).\n",
            "  FutureWarning,\n",
            "/usr/local/lib/python3.7/dist-packages/transformers/tokenization_utils_base.py:2217: FutureWarning: The `pad_to_max_length` argument is deprecated and will be removed in a future version, use `padding=True` or `padding='longest'` to pad to the longest sequence in the batch, or use `padding='max_length'` to pad to a max length. In this case, you can give a specific length with `max_length` (e.g. `max_length=45`) or leave max_length to None to pad to the maximal input size of the model (e.g. 512 for Bert).\n",
            "  FutureWarning,\n",
            "  0%|          | 0/2186 [00:00<?, ?it/s]/usr/local/lib/python3.7/dist-packages/transformers/tokenization_utils_base.py:2217: FutureWarning: The `pad_to_max_length` argument is deprecated and will be removed in a future version, use `padding=True` or `padding='longest'` to pad to the longest sequence in the batch, or use `padding='max_length'` to pad to a max length. In this case, you can give a specific length with `max_length` (e.g. `max_length=45`) or leave max_length to None to pad to the maximal input size of the model (e.g. 512 for Bert).\n",
            "  FutureWarning,\n",
            "100%|██████████| 2186/2186 [09:43<00:00,  3.75it/s]\n",
            "/usr/local/lib/python3.7/dist-packages/transformers/tokenization_utils_base.py:2217: FutureWarning: The `pad_to_max_length` argument is deprecated and will be removed in a future version, use `padding=True` or `padding='longest'` to pad to the longest sequence in the batch, or use `padding='max_length'` to pad to a max length. In this case, you can give a specific length with `max_length` (e.g. `max_length=45`) or leave max_length to None to pad to the maximal input size of the model (e.g. 512 for Bert).\n",
            "  FutureWarning,\n",
            "  0%|          | 0/1093 [00:00<?, ?it/s]/usr/local/lib/python3.7/dist-packages/transformers/tokenization_utils_base.py:2217: FutureWarning: The `pad_to_max_length` argument is deprecated and will be removed in a future version, use `padding=True` or `padding='longest'` to pad to the longest sequence in the batch, or use `padding='max_length'` to pad to a max length. In this case, you can give a specific length with `max_length` (e.g. `max_length=45`) or leave max_length to None to pad to the maximal input size of the model (e.g. 512 for Bert).\n",
            "  FutureWarning,\n",
            "100%|██████████| 1093/1093 [01:00<00:00, 17.93it/s]\n",
            "/usr/local/lib/python3.7/dist-packages/transformers/tokenization_utils_base.py:2217: FutureWarning: The `pad_to_max_length` argument is deprecated and will be removed in a future version, use `padding=True` or `padding='longest'` to pad to the longest sequence in the batch, or use `padding='max_length'` to pad to a max length. In this case, you can give a specific length with `max_length` (e.g. `max_length=45`) or leave max_length to None to pad to the maximal input size of the model (e.g. 512 for Bert).\n",
            "  FutureWarning,\n",
            "/usr/local/lib/python3.7/dist-packages/transformers/tokenization_utils_base.py:2217: FutureWarning: The `pad_to_max_length` argument is deprecated and will be removed in a future version, use `padding=True` or `padding='longest'` to pad to the longest sequence in the batch, or use `padding='max_length'` to pad to a max length. In this case, you can give a specific length with `max_length` (e.g. `max_length=45`) or leave max_length to None to pad to the maximal input size of the model (e.g. 512 for Bert).\n",
            "  FutureWarning,\n",
            "/usr/local/lib/python3.7/dist-packages/transformers/tokenization_utils_base.py:2217: FutureWarning: The `pad_to_max_length` argument is deprecated and will be removed in a future version, use `padding=True` or `padding='longest'` to pad to the longest sequence in the batch, or use `padding='max_length'` to pad to a max length. In this case, you can give a specific length with `max_length` (e.g. `max_length=45`) or leave max_length to None to pad to the maximal input size of the model (e.g. 512 for Bert).\n",
            "  FutureWarning,\n",
            "  0%|          | 0/2186 [00:00<?, ?it/s]/usr/local/lib/python3.7/dist-packages/transformers/tokenization_utils_base.py:2217: FutureWarning: The `pad_to_max_length` argument is deprecated and will be removed in a future version, use `padding=True` or `padding='longest'` to pad to the longest sequence in the batch, or use `padding='max_length'` to pad to a max length. In this case, you can give a specific length with `max_length` (e.g. `max_length=45`) or leave max_length to None to pad to the maximal input size of the model (e.g. 512 for Bert).\n",
            "  FutureWarning,\n",
            "100%|██████████| 2186/2186 [09:43<00:00,  3.74it/s]\n",
            "  0%|          | 0/1093 [00:00<?, ?it/s]/usr/local/lib/python3.7/dist-packages/transformers/tokenization_utils_base.py:2217: FutureWarning: The `pad_to_max_length` argument is deprecated and will be removed in a future version, use `padding=True` or `padding='longest'` to pad to the longest sequence in the batch, or use `padding='max_length'` to pad to a max length. In this case, you can give a specific length with `max_length` (e.g. `max_length=45`) or leave max_length to None to pad to the maximal input size of the model (e.g. 512 for Bert).\n",
            "  FutureWarning,\n",
            "/usr/local/lib/python3.7/dist-packages/transformers/tokenization_utils_base.py:2217: FutureWarning: The `pad_to_max_length` argument is deprecated and will be removed in a future version, use `padding=True` or `padding='longest'` to pad to the longest sequence in the batch, or use `padding='max_length'` to pad to a max length. In this case, you can give a specific length with `max_length` (e.g. `max_length=45`) or leave max_length to None to pad to the maximal input size of the model (e.g. 512 for Bert).\n",
            "  FutureWarning,\n",
            "100%|██████████| 1093/1093 [01:01<00:00, 17.66it/s]\n",
            "/usr/local/lib/python3.7/dist-packages/transformers/tokenization_utils_base.py:2217: FutureWarning: The `pad_to_max_length` argument is deprecated and will be removed in a future version, use `padding=True` or `padding='longest'` to pad to the longest sequence in the batch, or use `padding='max_length'` to pad to a max length. In this case, you can give a specific length with `max_length` (e.g. `max_length=45`) or leave max_length to None to pad to the maximal input size of the model (e.g. 512 for Bert).\n",
            "  FutureWarning,\n",
            "  0%|          | 0/2186 [00:00<?, ?it/s]/usr/local/lib/python3.7/dist-packages/transformers/tokenization_utils_base.py:2217: FutureWarning: The `pad_to_max_length` argument is deprecated and will be removed in a future version, use `padding=True` or `padding='longest'` to pad to the longest sequence in the batch, or use `padding='max_length'` to pad to a max length. In this case, you can give a specific length with `max_length` (e.g. `max_length=45`) or leave max_length to None to pad to the maximal input size of the model (e.g. 512 for Bert).\n",
            "  FutureWarning,\n",
            "/usr/local/lib/python3.7/dist-packages/transformers/tokenization_utils_base.py:2217: FutureWarning: The `pad_to_max_length` argument is deprecated and will be removed in a future version, use `padding=True` or `padding='longest'` to pad to the longest sequence in the batch, or use `padding='max_length'` to pad to a max length. In this case, you can give a specific length with `max_length` (e.g. `max_length=45`) or leave max_length to None to pad to the maximal input size of the model (e.g. 512 for Bert).\n",
            "  FutureWarning,\n",
            "/usr/local/lib/python3.7/dist-packages/transformers/tokenization_utils_base.py:2217: FutureWarning: The `pad_to_max_length` argument is deprecated and will be removed in a future version, use `padding=True` or `padding='longest'` to pad to the longest sequence in the batch, or use `padding='max_length'` to pad to a max length. In this case, you can give a specific length with `max_length` (e.g. `max_length=45`) or leave max_length to None to pad to the maximal input size of the model (e.g. 512 for Bert).\n",
            "  FutureWarning,\n",
            "100%|██████████| 2186/2186 [09:43<00:00,  3.75it/s]\n",
            "/usr/local/lib/python3.7/dist-packages/transformers/tokenization_utils_base.py:2217: FutureWarning: The `pad_to_max_length` argument is deprecated and will be removed in a future version, use `padding=True` or `padding='longest'` to pad to the longest sequence in the batch, or use `padding='max_length'` to pad to a max length. In this case, you can give a specific length with `max_length` (e.g. `max_length=45`) or leave max_length to None to pad to the maximal input size of the model (e.g. 512 for Bert).\n",
            "  FutureWarning,\n",
            "  0%|          | 0/1093 [00:00<?, ?it/s]/usr/local/lib/python3.7/dist-packages/transformers/tokenization_utils_base.py:2217: FutureWarning: The `pad_to_max_length` argument is deprecated and will be removed in a future version, use `padding=True` or `padding='longest'` to pad to the longest sequence in the batch, or use `padding='max_length'` to pad to a max length. In this case, you can give a specific length with `max_length` (e.g. `max_length=45`) or leave max_length to None to pad to the maximal input size of the model (e.g. 512 for Bert).\n",
            "  FutureWarning,\n",
            "100%|██████████| 1093/1093 [01:01<00:00, 17.86it/s]\n",
            "/usr/local/lib/python3.7/dist-packages/transformers/tokenization_utils_base.py:2217: FutureWarning: The `pad_to_max_length` argument is deprecated and will be removed in a future version, use `padding=True` or `padding='longest'` to pad to the longest sequence in the batch, or use `padding='max_length'` to pad to a max length. In this case, you can give a specific length with `max_length` (e.g. `max_length=45`) or leave max_length to None to pad to the maximal input size of the model (e.g. 512 for Bert).\n",
            "  FutureWarning,\n",
            "/usr/local/lib/python3.7/dist-packages/transformers/tokenization_utils_base.py:2217: FutureWarning: The `pad_to_max_length` argument is deprecated and will be removed in a future version, use `padding=True` or `padding='longest'` to pad to the longest sequence in the batch, or use `padding='max_length'` to pad to a max length. In this case, you can give a specific length with `max_length` (e.g. `max_length=45`) or leave max_length to None to pad to the maximal input size of the model (e.g. 512 for Bert).\n",
            "  FutureWarning,\n",
            "  0%|          | 0/2186 [00:00<?, ?it/s]/usr/local/lib/python3.7/dist-packages/transformers/tokenization_utils_base.py:2217: FutureWarning: The `pad_to_max_length` argument is deprecated and will be removed in a future version, use `padding=True` or `padding='longest'` to pad to the longest sequence in the batch, or use `padding='max_length'` to pad to a max length. In this case, you can give a specific length with `max_length` (e.g. `max_length=45`) or leave max_length to None to pad to the maximal input size of the model (e.g. 512 for Bert).\n",
            "  FutureWarning,\n",
            "/usr/local/lib/python3.7/dist-packages/transformers/tokenization_utils_base.py:2217: FutureWarning: The `pad_to_max_length` argument is deprecated and will be removed in a future version, use `padding=True` or `padding='longest'` to pad to the longest sequence in the batch, or use `padding='max_length'` to pad to a max length. In this case, you can give a specific length with `max_length` (e.g. `max_length=45`) or leave max_length to None to pad to the maximal input size of the model (e.g. 512 for Bert).\n",
            "  FutureWarning,\n",
            "100%|██████████| 2186/2186 [09:44<00:00,  3.74it/s]\n",
            "/usr/local/lib/python3.7/dist-packages/transformers/tokenization_utils_base.py:2217: FutureWarning: The `pad_to_max_length` argument is deprecated and will be removed in a future version, use `padding=True` or `padding='longest'` to pad to the longest sequence in the batch, or use `padding='max_length'` to pad to a max length. In this case, you can give a specific length with `max_length` (e.g. `max_length=45`) or leave max_length to None to pad to the maximal input size of the model (e.g. 512 for Bert).\n",
            "  FutureWarning,\n",
            "  0%|          | 0/1093 [00:00<?, ?it/s]/usr/local/lib/python3.7/dist-packages/transformers/tokenization_utils_base.py:2217: FutureWarning: The `pad_to_max_length` argument is deprecated and will be removed in a future version, use `padding=True` or `padding='longest'` to pad to the longest sequence in the batch, or use `padding='max_length'` to pad to a max length. In this case, you can give a specific length with `max_length` (e.g. `max_length=45`) or leave max_length to None to pad to the maximal input size of the model (e.g. 512 for Bert).\n",
            "  FutureWarning,\n",
            "100%|██████████| 1093/1093 [01:01<00:00, 17.74it/s]\n",
            "/usr/local/lib/python3.7/dist-packages/transformers/tokenization_utils_base.py:2217: FutureWarning: The `pad_to_max_length` argument is deprecated and will be removed in a future version, use `padding=True` or `padding='longest'` to pad to the longest sequence in the batch, or use `padding='max_length'` to pad to a max length. In this case, you can give a specific length with `max_length` (e.g. `max_length=45`) or leave max_length to None to pad to the maximal input size of the model (e.g. 512 for Bert).\n",
            "  FutureWarning,\n",
            "  0%|          | 0/2186 [00:00<?, ?it/s]/usr/local/lib/python3.7/dist-packages/transformers/tokenization_utils_base.py:2217: FutureWarning: The `pad_to_max_length` argument is deprecated and will be removed in a future version, use `padding=True` or `padding='longest'` to pad to the longest sequence in the batch, or use `padding='max_length'` to pad to a max length. In this case, you can give a specific length with `max_length` (e.g. `max_length=45`) or leave max_length to None to pad to the maximal input size of the model (e.g. 512 for Bert).\n",
            "  FutureWarning,\n",
            "/usr/local/lib/python3.7/dist-packages/transformers/tokenization_utils_base.py:2217: FutureWarning: The `pad_to_max_length` argument is deprecated and will be removed in a future version, use `padding=True` or `padding='longest'` to pad to the longest sequence in the batch, or use `padding='max_length'` to pad to a max length. In this case, you can give a specific length with `max_length` (e.g. `max_length=45`) or leave max_length to None to pad to the maximal input size of the model (e.g. 512 for Bert).\n",
            "  FutureWarning,\n",
            "/usr/local/lib/python3.7/dist-packages/transformers/tokenization_utils_base.py:2217: FutureWarning: The `pad_to_max_length` argument is deprecated and will be removed in a future version, use `padding=True` or `padding='longest'` to pad to the longest sequence in the batch, or use `padding='max_length'` to pad to a max length. In this case, you can give a specific length with `max_length` (e.g. `max_length=45`) or leave max_length to None to pad to the maximal input size of the model (e.g. 512 for Bert).\n",
            "  FutureWarning,\n",
            "100%|██████████| 2186/2186 [09:43<00:00,  3.74it/s]\n",
            "  0%|          | 0/1093 [00:00<?, ?it/s]/usr/local/lib/python3.7/dist-packages/transformers/tokenization_utils_base.py:2217: FutureWarning: The `pad_to_max_length` argument is deprecated and will be removed in a future version, use `padding=True` or `padding='longest'` to pad to the longest sequence in the batch, or use `padding='max_length'` to pad to a max length. In this case, you can give a specific length with `max_length` (e.g. `max_length=45`) or leave max_length to None to pad to the maximal input size of the model (e.g. 512 for Bert).\n",
            "  FutureWarning,\n",
            "/usr/local/lib/python3.7/dist-packages/transformers/tokenization_utils_base.py:2217: FutureWarning: The `pad_to_max_length` argument is deprecated and will be removed in a future version, use `padding=True` or `padding='longest'` to pad to the longest sequence in the batch, or use `padding='max_length'` to pad to a max length. In this case, you can give a specific length with `max_length` (e.g. `max_length=45`) or leave max_length to None to pad to the maximal input size of the model (e.g. 512 for Bert).\n",
            "  FutureWarning,\n",
            "100%|██████████| 1093/1093 [01:01<00:00, 17.87it/s]\n",
            "/usr/local/lib/python3.7/dist-packages/torch/utils/data/dataloader.py:481: UserWarning: This DataLoader will create 4 worker processes in total. Our suggested max number of worker in current system is 2, which is smaller than what this DataLoader is going to create. Please be aware that excessive worker creation might get DataLoader running slow or even freeze, lower the worker number to avoid potential slowness/freeze if necessary.\n",
            "  cpuset_checked))\n",
            "Some weights of the model checkpoint at sagorsarker/bangla-bert-base were not used when initializing BertModel: ['cls.seq_relationship.bias', 'cls.predictions.transform.dense.bias', 'cls.predictions.decoder.weight', 'cls.predictions.transform.LayerNorm.bias', 'cls.predictions.bias', 'cls.predictions.transform.LayerNorm.weight', 'cls.predictions.transform.dense.weight', 'cls.seq_relationship.weight']\n",
            "- This IS expected if you are initializing BertModel from the checkpoint of a model trained on another task or with another architecture (e.g. initializing a BertForSequenceClassification model from a BertForPreTraining model).\n",
            "- This IS NOT expected if you are initializing BertModel from the checkpoint of a model that you expect to be exactly identical (initializing a BertForSequenceClassification model from a BertForSequenceClassification model).\n",
            "/usr/local/lib/python3.7/dist-packages/transformers/tokenization_utils_base.py:2217: FutureWarning: The `pad_to_max_length` argument is deprecated and will be removed in a future version, use `padding=True` or `padding='longest'` to pad to the longest sequence in the batch, or use `padding='max_length'` to pad to a max length. In this case, you can give a specific length with `max_length` (e.g. `max_length=45`) or leave max_length to None to pad to the maximal input size of the model (e.g. 512 for Bert).\n",
            "  FutureWarning,\n",
            "  0%|          | 0/2186 [00:00<?, ?it/s]/usr/local/lib/python3.7/dist-packages/transformers/tokenization_utils_base.py:2217: FutureWarning: The `pad_to_max_length` argument is deprecated and will be removed in a future version, use `padding=True` or `padding='longest'` to pad to the longest sequence in the batch, or use `padding='max_length'` to pad to a max length. In this case, you can give a specific length with `max_length` (e.g. `max_length=45`) or leave max_length to None to pad to the maximal input size of the model (e.g. 512 for Bert).\n",
            "  FutureWarning,\n",
            "/usr/local/lib/python3.7/dist-packages/transformers/tokenization_utils_base.py:2217: FutureWarning: The `pad_to_max_length` argument is deprecated and will be removed in a future version, use `padding=True` or `padding='longest'` to pad to the longest sequence in the batch, or use `padding='max_length'` to pad to a max length. In this case, you can give a specific length with `max_length` (e.g. `max_length=45`) or leave max_length to None to pad to the maximal input size of the model (e.g. 512 for Bert).\n",
            "  FutureWarning,\n",
            "/usr/local/lib/python3.7/dist-packages/transformers/tokenization_utils_base.py:2217: FutureWarning: The `pad_to_max_length` argument is deprecated and will be removed in a future version, use `padding=True` or `padding='longest'` to pad to the longest sequence in the batch, or use `padding='max_length'` to pad to a max length. In this case, you can give a specific length with `max_length` (e.g. `max_length=45`) or leave max_length to None to pad to the maximal input size of the model (e.g. 512 for Bert).\n",
            "  FutureWarning,\n",
            "100%|██████████| 2186/2186 [09:44<00:00,  3.74it/s]\n",
            "  0%|          | 0/1093 [00:00<?, ?it/s]/usr/local/lib/python3.7/dist-packages/transformers/tokenization_utils_base.py:2217: FutureWarning: The `pad_to_max_length` argument is deprecated and will be removed in a future version, use `padding=True` or `padding='longest'` to pad to the longest sequence in the batch, or use `padding='max_length'` to pad to a max length. In this case, you can give a specific length with `max_length` (e.g. `max_length=45`) or leave max_length to None to pad to the maximal input size of the model (e.g. 512 for Bert).\n",
            "  FutureWarning,\n",
            "/usr/local/lib/python3.7/dist-packages/transformers/tokenization_utils_base.py:2217: FutureWarning: The `pad_to_max_length` argument is deprecated and will be removed in a future version, use `padding=True` or `padding='longest'` to pad to the longest sequence in the batch, or use `padding='max_length'` to pad to a max length. In this case, you can give a specific length with `max_length` (e.g. `max_length=45`) or leave max_length to None to pad to the maximal input size of the model (e.g. 512 for Bert).\n",
            "  FutureWarning,\n",
            "100%|██████████| 1093/1093 [01:02<00:00, 17.43it/s]\n",
            "/usr/local/lib/python3.7/dist-packages/transformers/tokenization_utils_base.py:2217: FutureWarning: The `pad_to_max_length` argument is deprecated and will be removed in a future version, use `padding=True` or `padding='longest'` to pad to the longest sequence in the batch, or use `padding='max_length'` to pad to a max length. In this case, you can give a specific length with `max_length` (e.g. `max_length=45`) or leave max_length to None to pad to the maximal input size of the model (e.g. 512 for Bert).\n",
            "  FutureWarning,\n",
            "/usr/local/lib/python3.7/dist-packages/transformers/tokenization_utils_base.py:2217: FutureWarning: The `pad_to_max_length` argument is deprecated and will be removed in a future version, use `padding=True` or `padding='longest'` to pad to the longest sequence in the batch, or use `padding='max_length'` to pad to a max length. In this case, you can give a specific length with `max_length` (e.g. `max_length=45`) or leave max_length to None to pad to the maximal input size of the model (e.g. 512 for Bert).\n",
            "  FutureWarning,\n",
            "/usr/local/lib/python3.7/dist-packages/transformers/tokenization_utils_base.py:2217: FutureWarning: The `pad_to_max_length` argument is deprecated and will be removed in a future version, use `padding=True` or `padding='longest'` to pad to the longest sequence in the batch, or use `padding='max_length'` to pad to a max length. In this case, you can give a specific length with `max_length` (e.g. `max_length=45`) or leave max_length to None to pad to the maximal input size of the model (e.g. 512 for Bert).\n",
            "  FutureWarning,\n",
            "  0%|          | 0/2186 [00:00<?, ?it/s]/usr/local/lib/python3.7/dist-packages/transformers/tokenization_utils_base.py:2217: FutureWarning: The `pad_to_max_length` argument is deprecated and will be removed in a future version, use `padding=True` or `padding='longest'` to pad to the longest sequence in the batch, or use `padding='max_length'` to pad to a max length. In this case, you can give a specific length with `max_length` (e.g. `max_length=45`) or leave max_length to None to pad to the maximal input size of the model (e.g. 512 for Bert).\n",
            "  FutureWarning,\n",
            "100%|██████████| 2186/2186 [09:42<00:00,  3.75it/s]\n",
            "  0%|          | 0/1093 [00:00<?, ?it/s]/usr/local/lib/python3.7/dist-packages/transformers/tokenization_utils_base.py:2217: FutureWarning: The `pad_to_max_length` argument is deprecated and will be removed in a future version, use `padding=True` or `padding='longest'` to pad to the longest sequence in the batch, or use `padding='max_length'` to pad to a max length. In this case, you can give a specific length with `max_length` (e.g. `max_length=45`) or leave max_length to None to pad to the maximal input size of the model (e.g. 512 for Bert).\n",
            "  FutureWarning,\n",
            "/usr/local/lib/python3.7/dist-packages/transformers/tokenization_utils_base.py:2217: FutureWarning: The `pad_to_max_length` argument is deprecated and will be removed in a future version, use `padding=True` or `padding='longest'` to pad to the longest sequence in the batch, or use `padding='max_length'` to pad to a max length. In this case, you can give a specific length with `max_length` (e.g. `max_length=45`) or leave max_length to None to pad to the maximal input size of the model (e.g. 512 for Bert).\n",
            "  FutureWarning,\n",
            "100%|██████████| 1093/1093 [01:03<00:00, 17.26it/s]\n",
            "/usr/local/lib/python3.7/dist-packages/transformers/tokenization_utils_base.py:2217: FutureWarning: The `pad_to_max_length` argument is deprecated and will be removed in a future version, use `padding=True` or `padding='longest'` to pad to the longest sequence in the batch, or use `padding='max_length'` to pad to a max length. In this case, you can give a specific length with `max_length` (e.g. `max_length=45`) or leave max_length to None to pad to the maximal input size of the model (e.g. 512 for Bert).\n",
            "  FutureWarning,\n",
            "/usr/local/lib/python3.7/dist-packages/transformers/tokenization_utils_base.py:2217: FutureWarning: The `pad_to_max_length` argument is deprecated and will be removed in a future version, use `padding=True` or `padding='longest'` to pad to the longest sequence in the batch, or use `padding='max_length'` to pad to a max length. In this case, you can give a specific length with `max_length` (e.g. `max_length=45`) or leave max_length to None to pad to the maximal input size of the model (e.g. 512 for Bert).\n",
            "  FutureWarning,\n",
            "  0%|          | 0/2186 [00:00<?, ?it/s]/usr/local/lib/python3.7/dist-packages/transformers/tokenization_utils_base.py:2217: FutureWarning: The `pad_to_max_length` argument is deprecated and will be removed in a future version, use `padding=True` or `padding='longest'` to pad to the longest sequence in the batch, or use `padding='max_length'` to pad to a max length. In this case, you can give a specific length with `max_length` (e.g. `max_length=45`) or leave max_length to None to pad to the maximal input size of the model (e.g. 512 for Bert).\n",
            "  FutureWarning,\n",
            "/usr/local/lib/python3.7/dist-packages/transformers/tokenization_utils_base.py:2217: FutureWarning: The `pad_to_max_length` argument is deprecated and will be removed in a future version, use `padding=True` or `padding='longest'` to pad to the longest sequence in the batch, or use `padding='max_length'` to pad to a max length. In this case, you can give a specific length with `max_length` (e.g. `max_length=45`) or leave max_length to None to pad to the maximal input size of the model (e.g. 512 for Bert).\n",
            "  FutureWarning,\n",
            "100%|██████████| 2186/2186 [09:43<00:00,  3.75it/s]\n",
            "/usr/local/lib/python3.7/dist-packages/transformers/tokenization_utils_base.py:2217: FutureWarning: The `pad_to_max_length` argument is deprecated and will be removed in a future version, use `padding=True` or `padding='longest'` to pad to the longest sequence in the batch, or use `padding='max_length'` to pad to a max length. In this case, you can give a specific length with `max_length` (e.g. `max_length=45`) or leave max_length to None to pad to the maximal input size of the model (e.g. 512 for Bert).\n",
            "  FutureWarning,\n",
            "  0%|          | 0/1093 [00:00<?, ?it/s]/usr/local/lib/python3.7/dist-packages/transformers/tokenization_utils_base.py:2217: FutureWarning: The `pad_to_max_length` argument is deprecated and will be removed in a future version, use `padding=True` or `padding='longest'` to pad to the longest sequence in the batch, or use `padding='max_length'` to pad to a max length. In this case, you can give a specific length with `max_length` (e.g. `max_length=45`) or leave max_length to None to pad to the maximal input size of the model (e.g. 512 for Bert).\n",
            "  FutureWarning,\n",
            "100%|██████████| 1093/1093 [01:02<00:00, 17.43it/s]\n",
            "/usr/local/lib/python3.7/dist-packages/transformers/tokenization_utils_base.py:2217: FutureWarning: The `pad_to_max_length` argument is deprecated and will be removed in a future version, use `padding=True` or `padding='longest'` to pad to the longest sequence in the batch, or use `padding='max_length'` to pad to a max length. In this case, you can give a specific length with `max_length` (e.g. `max_length=45`) or leave max_length to None to pad to the maximal input size of the model (e.g. 512 for Bert).\n",
            "  FutureWarning,\n",
            "/usr/local/lib/python3.7/dist-packages/transformers/tokenization_utils_base.py:2217: FutureWarning: The `pad_to_max_length` argument is deprecated and will be removed in a future version, use `padding=True` or `padding='longest'` to pad to the longest sequence in the batch, or use `padding='max_length'` to pad to a max length. In this case, you can give a specific length with `max_length` (e.g. `max_length=45`) or leave max_length to None to pad to the maximal input size of the model (e.g. 512 for Bert).\n",
            "  FutureWarning,\n",
            "  0%|          | 0/2186 [00:00<?, ?it/s]/usr/local/lib/python3.7/dist-packages/transformers/tokenization_utils_base.py:2217: FutureWarning: The `pad_to_max_length` argument is deprecated and will be removed in a future version, use `padding=True` or `padding='longest'` to pad to the longest sequence in the batch, or use `padding='max_length'` to pad to a max length. In this case, you can give a specific length with `max_length` (e.g. `max_length=45`) or leave max_length to None to pad to the maximal input size of the model (e.g. 512 for Bert).\n",
            "  FutureWarning,\n",
            "/usr/local/lib/python3.7/dist-packages/transformers/tokenization_utils_base.py:2217: FutureWarning: The `pad_to_max_length` argument is deprecated and will be removed in a future version, use `padding=True` or `padding='longest'` to pad to the longest sequence in the batch, or use `padding='max_length'` to pad to a max length. In this case, you can give a specific length with `max_length` (e.g. `max_length=45`) or leave max_length to None to pad to the maximal input size of the model (e.g. 512 for Bert).\n",
            "  FutureWarning,\n",
            " 34%|███▍      | 740/2186 [03:18<06:26,  3.74it/s]"
          ]
        }
      ]
    },
    {
      "cell_type": "markdown",
      "metadata": {
        "id": "SV7OWSPT6vyD"
      },
      "source": [
        "### 10.9 Loading Saved Model"
      ]
    },
    {
      "cell_type": "code",
      "metadata": {
        "id": "mikckD2Hl4Bl"
      },
      "source": [
        "model_saved = BERTBaseUncased() \n",
        "model_saved.load_state_dict(torch.load(MODEL_PATH)) \n",
        "model_saved.eval() "
      ],
      "execution_count": null,
      "outputs": []
    },
    {
      "cell_type": "markdown",
      "metadata": {
        "id": "m6nRZmQPCJsr"
      },
      "source": [
        "### 10.10 Testing with test dataset "
      ]
    },
    {
      "cell_type": "code",
      "metadata": {
        "id": "N_t7PT90CI1c"
      },
      "source": [
        "def predict_with_test_dataset(test, model):\n",
        "    # Reading test dataset  \n",
        "    df_test = test.copy()  \n",
        "    print(df_test.info())\n",
        "\n",
        "    test_dataset = BERTDataset(\n",
        "        content = df_test.text.values,\n",
        "        label = df_test.category.values\n",
        "    )\n",
        "\n",
        "    test_data_loader = torch.utils.data.DataLoader(\n",
        "        test_dataset,\n",
        "        batch_size=TRAIN_BATCH_SIZE, \n",
        "        num_workers=4 \n",
        "    )\n",
        "\n",
        "    # Define device \n",
        "    device = torch.device(DEVICE)\n",
        "\n",
        "    # Calling eval_fn for evaluation \n",
        "    outputs, targets = eval_fn(test_data_loader, model, device) \n",
        "\n",
        "    # Accuracy score \n",
        "    #outputs = np.array(outputs) >= 0.5\n",
        "    #accuracy = metrics.accuracy_score(targets, outputs)\n",
        "    #print(f\"Test Accuracy Score = {accuracy}\") \n",
        "    return outputs, targets\n"
      ],
      "execution_count": 56,
      "outputs": []
    },
    {
      "cell_type": "code",
      "metadata": {
        "id": "_v1ucrQOl77f"
      },
      "source": [
        "outputs, targets = predict_with_test_dataset(model_saved)"
      ],
      "execution_count": null,
      "outputs": []
    },
    {
      "cell_type": "code",
      "metadata": {
        "id": "uAsXNzFu6qif"
      },
      "source": [
        ""
      ],
      "execution_count": null,
      "outputs": []
    },
    {
      "cell_type": "markdown",
      "metadata": {
        "id": "TB6lcPxLURiJ"
      },
      "source": [
        "# 11 Text Classification Using Spark NLP "
      ]
    },
    {
      "cell_type": "code",
      "metadata": {
        "colab": {
          "base_uri": "https://localhost:8080/"
        },
        "id": "XHpGWvoLWMUt",
        "outputId": "c6a4499b-af1d-4709-97e7-49fb97acea99"
      },
      "source": [
        "!wget http://setup.johnsnowlabs.com/colab.sh -O - | bash "
      ],
      "execution_count": 3,
      "outputs": [
        {
          "output_type": "stream",
          "name": "stdout",
          "text": [
            "--2021-10-20 05:39:35--  http://setup.johnsnowlabs.com/colab.sh\n",
            "Resolving setup.johnsnowlabs.com (setup.johnsnowlabs.com)... 51.158.130.125\n",
            "Connecting to setup.johnsnowlabs.com (setup.johnsnowlabs.com)|51.158.130.125|:80... connected.\n",
            "HTTP request sent, awaiting response... 302 Found\n",
            "Location: https://setup.johnsnowlabs.com/colab.sh [following]\n",
            "--2021-10-20 05:39:35--  https://setup.johnsnowlabs.com/colab.sh\n",
            "Connecting to setup.johnsnowlabs.com (setup.johnsnowlabs.com)|51.158.130.125|:443... connected.\n",
            "HTTP request sent, awaiting response... 302 Moved Temporarily\n",
            "Location: https://raw.githubusercontent.com/JohnSnowLabs/spark-nlp/master/scripts/colab_setup.sh [following]\n",
            "--2021-10-20 05:39:35--  https://raw.githubusercontent.com/JohnSnowLabs/spark-nlp/master/scripts/colab_setup.sh\n",
            "Resolving raw.githubusercontent.com (raw.githubusercontent.com)... 185.199.108.133, 185.199.109.133, 185.199.110.133, ...\n",
            "Connecting to raw.githubusercontent.com (raw.githubusercontent.com)|185.199.108.133|:443... connected.\n",
            "HTTP request sent, awaiting response... 200 OK\n",
            "Length: 1608 (1.6K) [text/plain]\n",
            "Saving to: ‘STDOUT’\n",
            "\n",
            "-                     0%[                    ]       0  --.-KB/s               setup Colab for PySpark 3.0.3 and Spark NLP 3.3.1\n",
            "-                   100%[===================>]   1.57K  --.-KB/s    in 0.001s  \n",
            "\n",
            "2021-10-20 05:39:36 (1.42 MB/s) - written to stdout [1608/1608]\n",
            "\n",
            "Get:1 http://security.ubuntu.com/ubuntu bionic-security InRelease [88.7 kB]\n",
            "Get:2 https://cloud.r-project.org/bin/linux/ubuntu bionic-cran40/ InRelease [3,626 B]\n",
            "Ign:3 https://developer.download.nvidia.com/compute/cuda/repos/ubuntu1804/x86_64  InRelease\n",
            "Get:4 http://ppa.launchpad.net/c2d4u.team/c2d4u4.0+/ubuntu bionic InRelease [15.9 kB]\n",
            "Ign:5 https://developer.download.nvidia.com/compute/machine-learning/repos/ubuntu1804/x86_64  InRelease\n",
            "Hit:6 https://developer.download.nvidia.com/compute/cuda/repos/ubuntu1804/x86_64  Release\n",
            "Hit:7 https://developer.download.nvidia.com/compute/machine-learning/repos/ubuntu1804/x86_64  Release\n",
            "Hit:8 http://archive.ubuntu.com/ubuntu bionic InRelease\n",
            "Get:9 https://cloud.r-project.org/bin/linux/ubuntu bionic-cran40/ Packages [69.5 kB]\n",
            "Get:10 http://archive.ubuntu.com/ubuntu bionic-updates InRelease [88.7 kB]\n",
            "Hit:11 http://ppa.launchpad.net/cran/libgit2/ubuntu bionic InRelease\n",
            "Get:12 http://security.ubuntu.com/ubuntu bionic-security/main amd64 Packages [2,372 kB]\n",
            "Hit:13 http://ppa.launchpad.net/deadsnakes/ppa/ubuntu bionic InRelease\n",
            "Get:15 http://security.ubuntu.com/ubuntu bionic-security/restricted amd64 Packages [614 kB]\n",
            "Get:16 http://security.ubuntu.com/ubuntu bionic-security/universe amd64 Packages [1,433 kB]\n",
            "Get:17 http://archive.ubuntu.com/ubuntu bionic-backports InRelease [74.6 kB]\n",
            "Hit:18 http://ppa.launchpad.net/graphics-drivers/ppa/ubuntu bionic InRelease\n",
            "Get:20 http://ppa.launchpad.net/c2d4u.team/c2d4u4.0+/ubuntu bionic/main Sources [1,809 kB]\n",
            "Get:21 http://archive.ubuntu.com/ubuntu bionic-updates/main amd64 Packages [2,821 kB]\n",
            "Get:22 http://ppa.launchpad.net/c2d4u.team/c2d4u4.0+/ubuntu bionic/main amd64 Packages [926 kB]\n",
            "Get:23 http://archive.ubuntu.com/ubuntu bionic-updates/restricted amd64 Packages [658 kB]\n",
            "Get:24 http://archive.ubuntu.com/ubuntu bionic-updates/universe amd64 Packages [2,213 kB]\n",
            "Fetched 13.2 MB in 3s (3,886 kB/s)\n",
            "Reading package lists... Done\n",
            "\u001b[K     |████████████████████████████████| 209.1 MB 66 kB/s \n",
            "\u001b[K     |████████████████████████████████| 122 kB 20.1 MB/s \n",
            "\u001b[K     |████████████████████████████████| 198 kB 38.6 MB/s \n",
            "\u001b[?25h  Building wheel for pyspark (setup.py) ... \u001b[?25l\u001b[?25hdone\n"
          ]
        }
      ]
    },
    {
      "cell_type": "code",
      "metadata": {
        "id": "LIMnHosjWXuZ",
        "colab": {
          "base_uri": "https://localhost:8080/"
        },
        "outputId": "507a8995-a266-4d87-9b8f-479cc8465bce"
      },
      "source": [
        "import matplotlib.pyplot as plt \n",
        "import seaborn as sns \n",
        "\n",
        "import sparknlp\n",
        "spark = sparknlp.start()\n",
        "from sparknlp.pretrained import PretrainedPipeline\n",
        "from pyspark.ml import Pipeline\n",
        "\n",
        "from sparknlp.annotator import *\n",
        "from sparknlp.common import *\n",
        "from sparknlp.base import *\n",
        "\n",
        "from pyspark.sql.types import StringType\n",
        "from sklearn.metrics import classification_report, confusion_matrix\n",
        "\n",
        "print(\"Spark NLP version: {}\".format(sparknlp.version()))\n",
        "print(\"Apache Spark version: {}\".format(spark.version))"
      ],
      "execution_count": 36,
      "outputs": [
        {
          "output_type": "stream",
          "name": "stdout",
          "text": [
            "Spark NLP version: 3.3.1\n",
            "Apache Spark version: 3.0.3\n"
          ]
        }
      ]
    },
    {
      "cell_type": "markdown",
      "metadata": {
        "id": "y4mzDjgJbh5e"
      },
      "source": [
        "### 11.1 Reading Train and Test dataset "
      ]
    },
    {
      "cell_type": "code",
      "metadata": {
        "id": "k9ejiLnCUXdD",
        "colab": {
          "base_uri": "https://localhost:8080/"
        },
        "outputId": "eb0e4a70-c796-44dd-d6bb-e24eb80cea57"
      },
      "source": [
        "train_dataset = spark.read.option('header', True).csv('/content/drive/MyDrive/technometrics/sample dataset/train.csv')\n",
        "train_dataset.show() "
      ],
      "execution_count": 18,
      "outputs": [
        {
          "output_type": "stream",
          "name": "stdout",
          "text": [
            "+--------------------+-------------+\n",
            "|                text|     category|\n",
            "+--------------------+-------------+\n",
            "|কিশোরগঞ্জ সদর উপজ...|        state|\n",
            "|অনলাইনে পণ্য বেচা...|      economy|\n",
            "|কমার কোনো লক্ষণ...|entertainment|\n",
            "|সেগুনবাগিচার কেন্...|entertainment|\n",
            "|কদমতলী থানা আওয়াম...|        state|\n",
            "|আবাসিক এলাকা সফটও...|   technology|\n",
            "|রোমান্সের রাজা বল...|entertainment|\n",
            "|সারো ব্র্যায়ারলির...|entertainment|\n",
            "|আবারও জাহাঙ্গীরনগ...|    education|\n",
            "|মার্কিন জাতীয় নির...|international|\n",
            "|রপ্তানি মাছে ফরমা...|      economy|\n",
            "|ক্যাথরিন মায়োরগার...|       sports|\n",
            "|যশোরে ছাত্রলীগের...|        state|\n",
            "|রাজধানীর কটি বিপণ...|        state|\n",
            "|জাহাজ নির্মাণশিল্...|      economy|\n",
            "|সালে বাজারে আসা ট...|   technology|\n",
            "|প্রায়ই শুনি অমুক ...|entertainment|\n",
            "|ভারতের দিল্লির মু...|international|\n",
            "|জন্মদিন উৎযাপন কর...|entertainment|\n",
            "|ভাঁজ স্মার্টফোনের...|   technology|\n",
            "+--------------------+-------------+\n",
            "only showing top 20 rows\n",
            "\n"
          ]
        }
      ]
    },
    {
      "cell_type": "code",
      "metadata": {
        "id": "MwhBewGsUXhd",
        "colab": {
          "base_uri": "https://localhost:8080/"
        },
        "outputId": "ccadd613-6b43-4602-c7cc-5741df7ac1f6"
      },
      "source": [
        "train_dataset.count() "
      ],
      "execution_count": 19,
      "outputs": [
        {
          "output_type": "execute_result",
          "data": {
            "text/plain": [
              "21923"
            ]
          },
          "metadata": {},
          "execution_count": 19
        }
      ]
    },
    {
      "cell_type": "code",
      "metadata": {
        "id": "3QIyxI_BZ4XM",
        "colab": {
          "base_uri": "https://localhost:8080/"
        },
        "outputId": "9ea63b70-5e49-435e-a53b-74dd61267b20"
      },
      "source": [
        "test_dataset = spark.read.option('header', True).csv('/content/drive/MyDrive/technometrics/sample dataset/test.csv')\n",
        "test_dataset.show() "
      ],
      "execution_count": 20,
      "outputs": [
        {
          "output_type": "stream",
          "name": "stdout",
          "text": [
            "+--------------------+-------------+\n",
            "|                text|     category|\n",
            "+--------------------+-------------+\n",
            "|ভারতের প্রধানমন্ত...|international|\n",
            "|জগন্নাথ বিশ্ববিদ্...|    education|\n",
            "|নির্বাচনকালীন সরক...|        state|\n",
            "|ফ্যাশন সাময়িকী ভো...|entertainment|\n",
            "|ইন্টারনেটে ডোমেইন...|   technology|\n",
            "|বলাকাজান্নাতসকাল ...|entertainment|\n",
            "|প্রযুক্তি গবেষকের...|   technology|\n",
            "|বাতির নিচে স্মার্...|   technology|\n",
            "|ইজারার শর্ত ভঙ্গ ...|        state|\n",
            "|ঈদে সালমান খানের ...|entertainment|\n",
            "|কুছ কুছ হোতা হ্যা...|entertainment|\n",
            "|মাতৃ শিশুস্বাস্থে...|        state|\n",
            "|পাকিস্তানের এলাকা...|international|\n",
            "|গানে কবিতায় নৃত্য...|entertainment|\n",
            "|নারীই সুন্দর কখনে...|international|\n",
            "|আগস্ট আলোর পাতায় ...|      economy|\n",
            "|রুশ প্রেসিডেন্ট ভ...|international|\n",
            "|ডেট রিকভারি কোম্প...|      economy|\n",
            "|চলতি বছরে লক্ষ্মী...|      economy|\n",
            "|বার্সেলোনার মূল দ...|       sports|\n",
            "+--------------------+-------------+\n",
            "only showing top 20 rows\n",
            "\n"
          ]
        }
      ]
    },
    {
      "cell_type": "code",
      "metadata": {
        "id": "gxQuYoq5Z4p0",
        "colab": {
          "base_uri": "https://localhost:8080/"
        },
        "outputId": "adae9be3-0040-4343-ab56-1e3594e4262f"
      },
      "source": [
        "test_dataset.count() "
      ],
      "execution_count": 21,
      "outputs": [
        {
          "output_type": "execute_result",
          "data": {
            "text/plain": [
              "21797"
            ]
          },
          "metadata": {},
          "execution_count": 21
        }
      ]
    },
    {
      "cell_type": "markdown",
      "metadata": {
        "id": "XKtegsn2bm1D"
      },
      "source": [
        "### 11.2 Define Pipeline"
      ]
    },
    {
      "cell_type": "code",
      "metadata": {
        "id": "bYAbDnb_UXla",
        "colab": {
          "base_uri": "https://localhost:8080/"
        },
        "outputId": "2ff08e90-82d7-4591-a5cb-65a503ccb516"
      },
      "source": [
        "# # actual content is inside description column\n",
        "# document = DocumentAssembler()\\\n",
        "#     .setInputCol(\"text\")\\\n",
        "#     .setOutputCol(\"document\")\n",
        "\n",
        "# # use = UniversalSentenceEncoder.pretrained() \\\n",
        "# #  .setInputCols([\"document\"])\\\n",
        "# #  .setOutputCol(\"sentence_embeddings\")\n",
        "\n",
        "# tokenizer = Tokenizer()\\\n",
        "#   .setInputCols(['document'])\\\n",
        "#   .setOutputCol('token') \n",
        "\n",
        "# normalizer = Normalizer()\\\n",
        "#   .setInputCols(['token'])\\\n",
        "#   .setOutputCol('normalized') \n",
        "\n",
        "# # # embedding for bengali language \n",
        "# # embeddings = WordEmbeddingsModel.pretrained(\"bengali_cc_300d\", \"bn\") \\\n",
        "# #   .setInputCols([\"document\", \"normalized\"])\\\n",
        "# #   .setOutputCol(\"embeddings\") \n",
        "\n",
        "# word_embeddings = WordEmbeddingsModel().pretrained()\\\n",
        "#   .setInputCols(['document', 'normalized'])\\\n",
        "#   .setOutputCol(\"embeddings\")\n",
        "\n",
        "# embeddingSentence = SentenceEmbeddings()\\\n",
        "#   .setInputCols(['document', 'embeddings'])\\\n",
        "#   .setOutputCol(\"sentence_embeddings\")\\\n",
        "#   .setPoolingStrategy(\"AVERAGE\") \n",
        "\n",
        "\n",
        "\n",
        "# actual content is inside description column\n",
        "document = DocumentAssembler()\\\n",
        "    .setInputCol(\"text\")\\\n",
        "    .setOutputCol(\"document\")\n",
        "\n",
        "use = UniversalSentenceEncoder.pretrained() \\\n",
        " .setInputCols([\"document\"])\\\n",
        " .setOutputCol(\"sentence_embeddings\")\n",
        "\n",
        "# the classes/labels/categories are in category column\n",
        "classsifierdl = ClassifierDLApproach()\\\n",
        "  .setInputCols([\"sentence_embeddings\"])\\\n",
        "  .setOutputCol(\"class\")\\\n",
        "  .setLabelColumn(\"category\")\\\n",
        "  .setMaxEpochs(10)\\\n",
        "  .setEnableOutputLogs(True)\n",
        "\n",
        "\n",
        "pipeline = Pipeline(\n",
        "    stages = [\n",
        "        document,\n",
        "        use,\n",
        "        classsifierdl\n",
        "    ])"
      ],
      "execution_count": 23,
      "outputs": [
        {
          "output_type": "stream",
          "name": "stdout",
          "text": [
            "tfhub_use download started this may take some time.\n",
            "Approximate size to download 923.7 MB\n",
            "[OK!]\n"
          ]
        }
      ]
    },
    {
      "cell_type": "code",
      "metadata": {
        "id": "THudZMWbYKrS"
      },
      "source": [
        "# Training with defined pipeline \n",
        "pipelineModel = pipeline.fit(train_dataset) "
      ],
      "execution_count": 24,
      "outputs": []
    },
    {
      "cell_type": "markdown",
      "metadata": {
        "id": "4ZL_XlKcerRn"
      },
      "source": [
        "### 11.3 Evaluation "
      ]
    },
    {
      "cell_type": "code",
      "metadata": {
        "id": "uG65azlJdZPR"
      },
      "source": [
        "preds = pipelineModel.transform(test_dataset)"
      ],
      "execution_count": 27,
      "outputs": []
    },
    {
      "cell_type": "code",
      "metadata": {
        "id": "Z2lmgdcldZUu",
        "colab": {
          "base_uri": "https://localhost:8080/"
        },
        "outputId": "dd6b6cca-2e9b-436c-cbb7-7879a60cd1dc"
      },
      "source": [
        "preds.select('category','text',\"class.result\").show(50, truncate=50)"
      ],
      "execution_count": 28,
      "outputs": [
        {
          "output_type": "stream",
          "name": "stdout",
          "text": [
            "+-------------+--------------------------------------------------+---------------+\n",
            "|     category|                                              text|         result|\n",
            "+-------------+--------------------------------------------------+---------------+\n",
            "|international|ভারতের প্রধানমন্ত্রী নরেন্দ্র মোদির নামে নির্ম...|        [state]|\n",
            "|    education|জগন্নাথ বিশ্ববিদ্যালয় জবি কুমিল্লা পরীক্ষামূলকভ...|[entertainment]|\n",
            "|        state|নির্বাচনকালীন সরকারব্যবস্থা আলোচনার বিরোধীদলীয়...|[international]|\n",
            "|entertainment|ফ্যাশন সাময়িকী ভোগএর সেপ্টেম্বর সংখ্যার প্রচ্ছদ...|[entertainment]|\n",
            "|   technology|ইন্টারনেটে ডোমেইন নাম অন্তর্ভুক্ত হয়েছে সালের শ...|        [state]|\n",
            "|entertainment|বলাকাজান্নাতসকাল সাড়ে টা দুপুর সাড়ে টা বেলা সাড়...|    [education]|\n",
            "|   technology|প্রযুক্তি গবেষকেরা বলছেন এতদিন কেবল কল্পনা শিগগ...|[international]|\n",
            "|   technology|বাতির নিচে স্মার্টফোন গেলেই ইন্টারনেট সংযোগ পায়...|      [economy]|\n",
            "|        state|ইজারার শর্ত ভঙ্গ বরিশালের আগৈলঝাড়া উপজেলা সদরে...|[entertainment]|\n",
            "|entertainment|ঈদে সালমান খানের ছবি মানেই নিশ্চিত হিট বছর বলিউ...|[entertainment]|\n",
            "|entertainment|কুছ কুছ হোতা হ্যায় দিলওয়ালে দুলহানিয়া লে জায়েঙ্...|[entertainment]|\n",
            "|        state|মাতৃ শিশুস্বাস্থের তথ্য জবাবদিহিতা শীর্ষক প্রকল...|[international]|\n",
            "|international|পাকিস্তানের এলাকার নাম মিঠি মুসলিম হিন্দু সম্প্...|       [sports]|\n",
            "|entertainment|গানে কবিতায় নৃত্যে তিন ঘণ্টা স্থায়ী এক বর্ণাঢ্য...|[entertainment]|\n",
            "|international|নারীই সুন্দর কখনো কখনো বিশ্রী দেখায়—গানের কথা...|       [sports]|\n",
            "|      economy|আগস্ট আলোর পাতায় ব্যাংক ঋণ নিজ ব্যাংকে জমা শিরো...|[entertainment]|\n",
            "|international|রুশ প্রেসিডেন্ট ভ্লাদিমির পুতিন রাষ্ট্রীয় সফরে ...|        [state]|\n",
            "|      economy|ডেট রিকভারি কোম্পানি গঠন দ্বিমুখী অবস্থান নিয়েছ...|      [economy]|\n",
            "|      economy|চলতি বছরে লক্ষ্মীপুরে মেট্রিক টন সুপারি উৎপাদন ...|[entertainment]|\n",
            "|       sports|বার্সেলোনার মূল দলের জার্সি গায়ে চাপানোর বাতাসে...|       [sports]|\n",
            "|international|যুক্তরাষ্ট্রের নিউইয়র্ক নগরে ঘণ্টার দুজন মুসলিম...|[entertainment]|\n",
            "|      economy|দেশের শেয়ারবাজারের লেনদেন ছয় বন্ধ আসন্ন ঈদুল ...|[entertainment]|\n",
            "|   technology|ইয়াহুর ছবি ভিডিও হোস্টিংয়ের জনপ্রিয় সেবা ফ্লিকা...|[international]|\n",
            "|    education|চট্টগ্রামের নাম ইসলামাবাদ রাখেন শায়েস্তা খান পর...|[international]|\n",
            "|entertainment|ভেবেছিলাম “ইস্টিশন” গানটি একটা হলো “নিশিপক্ষী”...|[entertainment]|\n",
            "|        state|রাজধানীর কলাবাগানের লেক সাকার্সে আধাপাকা টিনশেড...|        [state]|\n",
            "|   technology|চশমার প্রয়োজনীয়তা হয়তো একেবারেই ফুরিয়ে বয়স্ক ...|       [sports]|\n",
            "|entertainment|একের এক নেতিবাচক খবরের শিরোনাম হয়ে তুমুল জনপ্রি...|[entertainment]|\n",
            "|    education|নম্বর প্রশ্নপ্রিয় শিক্ষার্থী ইংরেজি য় পত্রের নম...|    [education]|\n",
            "|international|ইউক্রেনের রাশিয়া অবস্থান এক সপ্তাহের পাল্টালে দ...|[international]|\n",
            "|international|ঘূর্ণিঝড় ফণী আঘাত হানার আশঙ্কায় ভারতের দক্ষিণপূ...|[entertainment]|\n",
            "|        state|নাব্যতা সংকটের কারণে দৌলতদিয়াপাটুরিয়া নৌপথে ফ...|       [sports]|\n",
            "|entertainment|শহীদ আলতাফ মাহমুদ পদক পাচ্ছেন অধ্যাপক সিরাজুল ই...|       [sports]|\n",
            "|entertainment|ভক্তদের মুখে শোনা যাচ্ছিল রণবীর সিং দীপিকা পাডু...|[entertainment]|\n",
            "|entertainment|শাকিব খান বুবলী অভিনীত বসগিরি ছবি মুক্তি পায় সা...|[entertainment]|\n",
            "|       sports|নেপাল দলটা বড্ড ধাঁধায় পড়ে আফগানিস্তানের সর্বোচ...|       [sports]|\n",
            "|        state|সিলেট শহরতলির শাহপরান বাইপাস এলাকায় গত বুধবার ...|[entertainment]|\n",
            "|entertainment|গেম অব থ্রোনস টিভি সিরিজের চরিত্র স্নোর মৃত্য...|[entertainment]|\n",
            "|    education|চট্টগ্রাম বিশ্ববিদ্যালয়ের চবি পাঁচটি তল্লাশি চা...|      [economy]|\n",
            "|entertainment|সালে ঘর বাঁধা মাঝখানে বছর এরই মাঝে খবর ঘর ভাঙছে...|[international]|\n",
            "|entertainment|নারীদের আয়োজন বর্ণাঢ্য এক নাট্যোৎসবের ছয় দিনব...|[entertainment]|\n",
            "|      economy|শরৎচন্দ্র প্রশ্ন বলেছিলেন দুনিয়াটা কার বশ দিয়েছ...|[international]|\n",
            "|international|মধ্য দিল্লির লোদি রোডে স্কুলে ভোট দিয়ে বেলা সাড়...|       [sports]|\n",
            "|international|পাকিস্তানি সেনাবাহিনীর অভিযান শুরুর সপ্তাহ ওয়াজ...|        [state]|\n",
            "|international|ভারতের লোকসভা নির্বাচনে পশ্চিমবঙ্গ রাজ্যে বুধব...|       [sports]|\n",
            "|entertainment|পরিবারের সবাই চলচ্চিত্রদুনিয়ার লোক বাবা মহেশ ভা...|[entertainment]|\n",
            "|       sports|ইংল্যান্ড ক্রিকেট দলের সাজঘরের সংস্কৃতি অভিযোগ ...|       [sports]|\n",
            "|       sports|আবারও ক্রিকেটে ফিরতে কিছুদিন নিজেকে তৈরি করছিলে...|      [economy]|\n",
            "|        state|পেটের ভেতরে সোনার লুকিয়ে এনেও পড়লেন বাংলাদেশ বি...|        [state]|\n",
            "|       sports|মহেন্দ্র সিং ধোনি স্টাম্পের পেছনে থাকলে ব্যাটসম...|[international]|\n",
            "+-------------+--------------------------------------------------+---------------+\n",
            "only showing top 50 rows\n",
            "\n"
          ]
        }
      ]
    },
    {
      "cell_type": "code",
      "metadata": {
        "id": "V5cAkNBXd3Zb",
        "colab": {
          "base_uri": "https://localhost:8080/"
        },
        "outputId": "2d6dc54a-ecb0-452f-fdcf-2ddad7a7a9e3"
      },
      "source": [
        "preds.select('category','text',\"class.metadata\").show(50, truncate=50)"
      ],
      "execution_count": 29,
      "outputs": [
        {
          "output_type": "stream",
          "name": "stdout",
          "text": [
            "+-------------+--------------------------------------------------+--------------------------------------------------+\n",
            "|     category|                                              text|                                          metadata|\n",
            "+-------------+--------------------------------------------------+--------------------------------------------------+\n",
            "|international|ভারতের প্রধানমন্ত্রী নরেন্দ্র মোদির নামে নির্ম...|[[economy -> 0.06481883, state -> 0.5641876, sp...|\n",
            "|    education|জগন্নাথ বিশ্ববিদ্যালয় জবি কুমিল্লা পরীক্ষামূলকভ...|[[economy -> 0.0011823231, state -> 0.001354111...|\n",
            "|        state|নির্বাচনকালীন সরকারব্যবস্থা আলোচনার বিরোধীদলীয়...|[[economy -> 0.00876482, state -> 0.1050342, sp...|\n",
            "|entertainment|ফ্যাশন সাময়িকী ভোগএর সেপ্টেম্বর সংখ্যার প্রচ্ছদ...|[[economy -> 0.03326492, state -> 0.04085691, s...|\n",
            "|   technology|ইন্টারনেটে ডোমেইন নাম অন্তর্ভুক্ত হয়েছে সালের শ...|[[economy -> 0.19081925, state -> 0.5908084, sp...|\n",
            "|entertainment|বলাকাজান্নাতসকাল সাড়ে টা দুপুর সাড়ে টা বেলা সাড়...|[[economy -> 3.8209437E-5, state -> 6.611515E-8...|\n",
            "|   technology|প্রযুক্তি গবেষকেরা বলছেন এতদিন কেবল কল্পনা শিগগ...|[[economy -> 0.017443558, state -> 0.43776613, ...|\n",
            "|   technology|বাতির নিচে স্মার্টফোন গেলেই ইন্টারনেট সংযোগ পায়...|[[economy -> 0.3330023, state -> 0.0039295224, ...|\n",
            "|        state|ইজারার শর্ত ভঙ্গ বরিশালের আগৈলঝাড়া উপজেলা সদরে...|[[economy -> 0.034920964, state -> 0.062820844,...|\n",
            "|entertainment|ঈদে সালমান খানের ছবি মানেই নিশ্চিত হিট বছর বলিউ...|[[economy -> 0.0051217475, state -> 0.027911898...|\n",
            "|entertainment|কুছ কুছ হোতা হ্যায় দিলওয়ালে দুলহানিয়া লে জায়েঙ্...|[[economy -> 4.6933064E-4, state -> 0.04896334,...|\n",
            "|        state|মাতৃ শিশুস্বাস্থের তথ্য জবাবদিহিতা শীর্ষক প্রকল...|[[economy -> 0.26618412, state -> 0.17796648, s...|\n",
            "|international|পাকিস্তানের এলাকার নাম মিঠি মুসলিম হিন্দু সম্প্...|[[economy -> 0.031570666, state -> 0.030161582,...|\n",
            "|entertainment|গানে কবিতায় নৃত্যে তিন ঘণ্টা স্থায়ী এক বর্ণাঢ্য...|[[economy -> 9.500107E-4, state -> 3.3182485E-4...|\n",
            "|international|নারীই সুন্দর কখনো কখনো বিশ্রী দেখায়—গানের কথা...|[[economy -> 0.00257072, state -> 3.566381E-4, ...|\n",
            "|      economy|আগস্ট আলোর পাতায় ব্যাংক ঋণ নিজ ব্যাংকে জমা শিরো...|[[economy -> 0.06969081, state -> 0.0033672594,...|\n",
            "|international|রুশ প্রেসিডেন্ট ভ্লাদিমির পুতিন রাষ্ট্রীয় সফরে ...|[[economy -> 0.2808065, state -> 0.52895564, sp...|\n",
            "|      economy|ডেট রিকভারি কোম্পানি গঠন দ্বিমুখী অবস্থান নিয়েছ...|[[economy -> 0.99738103, state -> 7.928491E-4, ...|\n",
            "|      economy|চলতি বছরে লক্ষ্মীপুরে মেট্রিক টন সুপারি উৎপাদন ...|[[economy -> 0.0010472051, state -> 0.02775596,...|\n",
            "|       sports|বার্সেলোনার মূল দলের জার্সি গায়ে চাপানোর বাতাসে...|[[economy -> 2.4791725E-4, state -> 0.018087814...|\n",
            "|international|যুক্তরাষ্ট্রের নিউইয়র্ক নগরে ঘণ্টার দুজন মুসলিম...|[[economy -> 4.015983E-4, state -> 0.17396055, ...|\n",
            "|      economy|দেশের শেয়ারবাজারের লেনদেন ছয় বন্ধ আসন্ন ঈদুল ...|[[economy -> 0.1425145, state -> 0.19674625, sp...|\n",
            "|   technology|ইয়াহুর ছবি ভিডিও হোস্টিংয়ের জনপ্রিয় সেবা ফ্লিকা...|[[economy -> 6.040933E-4, state -> 0.07512313, ...|\n",
            "|    education|চট্টগ্রামের নাম ইসলামাবাদ রাখেন শায়েস্তা খান পর...|[[economy -> 0.007632411, state -> 0.09422063, ...|\n",
            "|entertainment|ভেবেছিলাম “ইস্টিশন” গানটি একটা হলো “নিশিপক্ষী”...|[[economy -> 0.002075715, state -> 0.10006073, ...|\n",
            "|        state|রাজধানীর কলাবাগানের লেক সাকার্সে আধাপাকা টিনশেড...|[[economy -> 0.014351282, state -> 0.43911964, ...|\n",
            "|   technology|চশমার প্রয়োজনীয়তা হয়তো একেবারেই ফুরিয়ে বয়স্ক ...|[[economy -> 8.840176E-4, state -> 8.2480954E-4...|\n",
            "|entertainment|একের এক নেতিবাচক খবরের শিরোনাম হয়ে তুমুল জনপ্রি...|[[economy -> 0.044716526, state -> 0.36196214, ...|\n",
            "|    education|নম্বর প্রশ্নপ্রিয় শিক্ষার্থী ইংরেজি য় পত্রের নম...|[[economy -> 6.0380856E-17, state -> 1.4240355E...|\n",
            "|international|ইউক্রেনের রাশিয়া অবস্থান এক সপ্তাহের পাল্টালে দ...|[[economy -> 0.0021278698, state -> 0.2767351, ...|\n",
            "|international|ঘূর্ণিঝড় ফণী আঘাত হানার আশঙ্কায় ভারতের দক্ষিণপূ...|[[economy -> 8.7898166E-4, state -> 0.022261929...|\n",
            "|        state|নাব্যতা সংকটের কারণে দৌলতদিয়াপাটুরিয়া নৌপথে ফ...|[[economy -> 0.009503718, state -> 0.002043045,...|\n",
            "|entertainment|শহীদ আলতাফ মাহমুদ পদক পাচ্ছেন অধ্যাপক সিরাজুল ই...|[[economy -> 0.0443174, state -> 0.0014184713, ...|\n",
            "|entertainment|ভক্তদের মুখে শোনা যাচ্ছিল রণবীর সিং দীপিকা পাডু...|[[economy -> 0.071175806, state -> 0.05197416, ...|\n",
            "|entertainment|শাকিব খান বুবলী অভিনীত বসগিরি ছবি মুক্তি পায় সা...|[[economy -> 0.0092115905, state -> 0.03479491,...|\n",
            "|       sports|নেপাল দলটা বড্ড ধাঁধায় পড়ে আফগানিস্তানের সর্বোচ...|[[economy -> 1.6611491E-5, state -> 9.367783E-5...|\n",
            "|        state|সিলেট শহরতলির শাহপরান বাইপাস এলাকায় গত বুধবার ...|[[economy -> 0.008006884, state -> 0.004250133,...|\n",
            "|entertainment|গেম অব থ্রোনস টিভি সিরিজের চরিত্র স্নোর মৃত্য...|[[economy -> 0.008674914, state -> 0.006182243,...|\n",
            "|    education|চট্টগ্রাম বিশ্ববিদ্যালয়ের চবি পাঁচটি তল্লাশি চা...|[[economy -> 0.9711287, state -> 0.007177188, s...|\n",
            "|entertainment|সালে ঘর বাঁধা মাঝখানে বছর এরই মাঝে খবর ঘর ভাঙছে...|[[economy -> 3.4733713E-4, state -> 0.1430094, ...|\n",
            "|entertainment|নারীদের আয়োজন বর্ণাঢ্য এক নাট্যোৎসবের ছয় দিনব...|[[economy -> 0.0069364193, state -> 1.4582739E-...|\n",
            "|      economy|শরৎচন্দ্র প্রশ্ন বলেছিলেন দুনিয়াটা কার বশ দিয়েছ...|[[economy -> 0.006996831, state -> 0.07726453, ...|\n",
            "|international|মধ্য দিল্লির লোদি রোডে স্কুলে ভোট দিয়ে বেলা সাড়...|[[economy -> 6.548656E-4, state -> 3.9519597E-4...|\n",
            "|international|পাকিস্তানি সেনাবাহিনীর অভিযান শুরুর সপ্তাহ ওয়াজ...|[[economy -> 0.23721018, state -> 0.3389627, sp...|\n",
            "|international|ভারতের লোকসভা নির্বাচনে পশ্চিমবঙ্গ রাজ্যে বুধব...|[[economy -> 0.0029677278, state -> 0.001453801...|\n",
            "|entertainment|পরিবারের সবাই চলচ্চিত্রদুনিয়ার লোক বাবা মহেশ ভা...|[[economy -> 8.9981026E-5, state -> 3.7220484E-...|\n",
            "|       sports|ইংল্যান্ড ক্রিকেট দলের সাজঘরের সংস্কৃতি অভিযোগ ...|[[economy -> 1.0572509E-7, state -> 2.2165552E-...|\n",
            "|       sports|আবারও ক্রিকেটে ফিরতে কিছুদিন নিজেকে তৈরি করছিলে...|[[economy -> 0.5791835, state -> 0.20846687, sp...|\n",
            "|        state|পেটের ভেতরে সোনার লুকিয়ে এনেও পড়লেন বাংলাদেশ বি...|[[economy -> 0.04384929, state -> 0.56952626, s...|\n",
            "|       sports|মহেন্দ্র সিং ধোনি স্টাম্পের পেছনে থাকলে ব্যাটসম...|[[economy -> 0.0010706519, state -> 0.061705757...|\n",
            "+-------------+--------------------------------------------------+--------------------------------------------------+\n",
            "only showing top 50 rows\n",
            "\n"
          ]
        }
      ]
    },
    {
      "cell_type": "code",
      "metadata": {
        "id": "EuSx6TaCeDYG"
      },
      "source": [
        "preds_df = preds.select('category','text',\"class.result\").toPandas()"
      ],
      "execution_count": 30,
      "outputs": []
    },
    {
      "cell_type": "code",
      "metadata": {
        "id": "xQL4VQkMeDcw"
      },
      "source": [
        "preds_df['result'] = preds_df['result'].apply(lambda x : x[0])"
      ],
      "execution_count": 31,
      "outputs": []
    },
    {
      "cell_type": "code",
      "metadata": {
        "id": "vGWEm9mgeDpU",
        "colab": {
          "base_uri": "https://localhost:8080/"
        },
        "outputId": "71a6a05b-feee-4856-a667-c365fd3d2a44"
      },
      "source": [
        "print (classification_report(preds_df['result'], preds_df['category']))"
      ],
      "execution_count": 32,
      "outputs": [
        {
          "output_type": "stream",
          "name": "stderr",
          "text": [
            "/usr/local/lib/python3.7/dist-packages/sklearn/metrics/_classification.py:1272: UndefinedMetricWarning: Recall and F-score are ill-defined and being set to 0.0 in labels with no true samples. Use `zero_division` parameter to control this behavior.\n",
            "  _warn_prf(average, modifier, msg_start, len(result))\n"
          ]
        },
        {
          "output_type": "stream",
          "name": "stdout",
          "text": [
            "               precision    recall  f1-score   support\n",
            "\n",
            "      economy       0.42      0.42      0.42      2816\n",
            "    education       0.36      0.77      0.49      1230\n",
            "entertainment       0.66      0.32      0.43      7258\n",
            "international       0.30      0.29      0.30      3678\n",
            "       sports       0.62      0.47      0.53      4683\n",
            "        state       0.19      0.30      0.24      2132\n",
            "   technology       0.00      0.00      0.00         0\n",
            "\n",
            "     accuracy                           0.38     21797\n",
            "    macro avg       0.37      0.37      0.34     21797\n",
            " weighted avg       0.50      0.38      0.41     21797\n",
            "\n"
          ]
        }
      ]
    },
    {
      "cell_type": "code",
      "metadata": {
        "id": "4B9t6EVFeeIi",
        "colab": {
          "base_uri": "https://localhost:8080/",
          "height": 514
        },
        "outputId": "5dd500c3-4a72-44a8-f44a-b530349e6d6c"
      },
      "source": [
        "# Confusion Matrix \n",
        "plt.figure(figsize=(8,8))\n",
        "sns.heatmap(confusion_matrix(preds_df['result'], preds_df['category']), square=True, annot=True, fmt='d', cbar=False)\n",
        "\n",
        "plt.xlabel('True label')\n",
        "plt.ylabel('Predicted data')"
      ],
      "execution_count": 37,
      "outputs": [
        {
          "output_type": "execute_result",
          "data": {
            "text/plain": [
              "Text(56.760000000000005, 0.5, 'Predicted data')"
            ]
          },
          "metadata": {},
          "execution_count": 37
        },
        {
          "output_type": "display_data",
          "data": {
            "image/png": "[encoded data removed]",
            "text/plain": [
              "<Figure size 576x576 with 1 Axes>"
            ]
          },
          "metadata": {
            "needs_background": "light"
          }
        }
      ]
    },
    {
      "cell_type": "code",
      "metadata": {
        "id": "lcdymtQvSCQy"
      },
      "source": [
        ""
      ],
      "execution_count": null,
      "outputs": []
    },
    {
      "cell_type": "markdown",
      "metadata": {
        "id": "NrPru9AscnbW"
      },
      "source": [
        "### 11.4 Save and Load pre-trained ClassifierDL Model"
      ]
    },
    {
      "cell_type": "code",
      "metadata": {
        "id": "FzBLKjHGYNY6"
      },
      "source": [
        "pipelineModel.stages[-1].write().overwrite().save(\"/content/drive/MyDrive/technometrics/tmp_classifierDL_model\")"
      ],
      "execution_count": 38,
      "outputs": []
    },
    {
      "cell_type": "code",
      "metadata": {
        "id": "so4FkuuFYNdg",
        "colab": {
          "base_uri": "https://localhost:8080/"
        },
        "outputId": "dd859b62-caf7-445a-e70d-9051c0a924d5"
      },
      "source": [
        "# In a new pipeline you can load it for prediction\n",
        "document = DocumentAssembler()\\\n",
        "    .setInputCol(\"description\")\\\n",
        "    .setOutputCol(\"document\")\n",
        "\n",
        "use = UniversalSentenceEncoder.pretrained() \\\n",
        " .setInputCols([\"document\"])\\\n",
        " .setOutputCol(\"sentence_embeddings\")\n",
        "\n",
        "classsifierdl = ClassifierDLModel.load(\"/content/drive/MyDrive/technometrics/tmp_classifierDL_model\") \\\n",
        "  .setInputCols([\"sentence_embeddings\"])\\\n",
        "  .setOutputCol(\"class\")\n",
        "\n",
        "pipeline = Pipeline(\n",
        "    stages = [\n",
        "        document,\n",
        "        use,\n",
        "        classsifierdl\n",
        "    ])"
      ],
      "execution_count": 39,
      "outputs": [
        {
          "output_type": "stream",
          "name": "stdout",
          "text": [
            "tfhub_use download started this may take some time.\n",
            "Approximate size to download 923.7 MB\n",
            "[OK!]\n"
          ]
        }
      ]
    },
    {
      "cell_type": "code",
      "metadata": {
        "id": "8hj-UxSXYNim"
      },
      "source": [
        "dfTest = spark.createDataFrame([\n",
        "    \"দুটি ইতিহাসের শেষ লাইন লেখা হলো তাঁর হাতে। গত অক্টোবরে জেতা ঢাকা টেস্টে ইংল্যান্ডের শেষ উইকেটটি নিয়েছিলেন তিনি। কলম্বোয় শততম টেস্টে জয়ের জয়সূচক দুটি রান এল তাঁর ব্যাট থেকে। টেস্ট জয়ের ক্যানভাসে তুলির শেষ আঁচড়টা দেওয়া যেন এখন মেহেদী হাসান মিরাজেরই কাজ।গতকাল দুপুরে এই মিরাজ দেশে ফিরেছেন টেস্ট দলের আরও দুই সঙ্গী মুমিনুল হক ও তাইজুল ইসলামের সঙ্গে। ওয়ানডে দলে না-থাকা এই ক্রিকেটাররা এখন ব্যস্ত হয়ে যাবেন ইমার্জিং কাপ নিয়ে। এরপর প্রিমিয়ার লিগ। ওয়ানডে দলে না-থাকা পেসার কামরুল ইসলাম অবশ্য ফেরেননি তাঁদের সঙ্গে। তাঁর নববিবাহিতা স্ত্রী দু-তিন দিন হলো কলম্বো গেছেন। নবদম্পতি দেশে ফিরবেন মধুচন্দ্রিমা করে।এক অর্থে ‘মধুচন্দ্রিমা’ চলছে মিরাজ-মুমিনুল-তাইজুলদেরও। জয়ের ঘোরের মধ্যে এখন বসবাস তাঁদের। মিরপুরে মিরাজ যেমন সাংবাদিকদের বলছিলেন, ‘বুঝতেই পারছেন এ রকম একটা দিনের সাক্ষী হয়েছি...খুব ভালো লাগছে। শততম টেস্ট খেলা এবং তাতে জয়ের অনুভূতি অন্য রকম।’ মিরাজের বাড়তি আনন্দ জয়সূচক রানটা তাঁর ব্যাট থেকে এসেছে বলে, ‘শ্রীলঙ্কার মাটিতে এ রকম টেস্ট জয় বাংলাদেশের জন্যই বড় এক অর্জন। তার ওপর আমার ব্যাট থেকে এসেছে শেষ ২ রান, আমার সারা জীবন এটা মনে থাকবে ইংল্যান্ডের বিপক্ষে জেতা টেস্টেও শেষ উইকেটটা আমি পেয়েছিলাম। সে জন্য আরও বেশি ভালো লাগছে।’ঐতিহাসিক এই জয়ের জন্য তরুণ এই ক্রিকেটার আলাদা করে ধন্যবাদ জানিয়েছেন দলের সিনিয়র খেলোয়াড়দের, ‘আমরা সবাই ভালো খেলেছি। তবে বিশেষ করে ধন্যবাদ সিনিয়রদের। সিনিয়ররা যে প্রতিশ্রুতি দিয়েছেন, সেটা রেখেছেন।’শততম টেস্টে জয়ের রোমাঞ্চে এখনো ডুবে আছেন তাইজুল। মুঠোফোনে প্রতিক্রিয়া জানতেই উল্টো প্রশ্ন করলেন, ‘আগে বলুন, আপনার কেমন লেগেছিল তখন?’ বাংলাদেশ দলের কীর্তিতে গোটা দেশই আনন্দে ভাসছে বলার পর নিজের কথা বললেন বাঁহাতি এই স্পিনার, ‘তাহলে বুঝুন, আমার, আমাদের কেমন লাগছে! আমি বাংলাদেশের শততম টেস্টে জয়ী দলে ছিলাম, জীবনের সেরা পাওয়া এটা।’তাইজুল জানালেন, শেষ ইনিংসে ১৯১ রানের লক্ষ্য থাকলেও ড্রেসিংরুমে সবার বিশ্বাস ছিল বাংলাদেশ জিতবে, ‘মাঠের ভেতরে-বাইরে সবাই খুব চনমনে ছিলাম। আমাদের বিশ্বাস ছিল, আমরাই জিতব। দেশের পতাকা ওড়াতে যা কিছু করার দরকার করব।’কলম্বোয় যে বদলে যাওয়া বাংলাদেশকে দেখেছে সবাই, সেটার শুরু আসলে গলেই। গল টেস্টে হারার পর রাতেই নিজেদের মধ্যে আলোচনায় বসেছিলেন খেলোয়াড়েরা। সেখানে কোচ, ম্যানেজার বা অন্য কেউ ছিলেন না। নিজেদের মধ্যে সে আলোচনায় খেলোয়াড়েরা সবাই মনের অর্গল খুলে দেন। জিততে হলে, ভালো খেলতে হলে কী করতে হবে, সে ব্যাপারে সবাই সবার মতামত জানান। মুমিনুলের ধারণা, গলের সেই রাতেই আঁকা হয়ে গিয়েছিল কলম্বোর সাফল্যের চিত্রনাট্য, ‘আমার মনে হয়, প্রথম টেস্টে না হারলে আমরা শততম টেস্টটা জিততাম না। হারের পর ওই রাতে আমাদের মধ্যে যে আলোচনা হয়েছে, সেটা আসলে বাংলাদেশের ক্রিকেটকেই বদলে দিয়েছে।’কিন্তু কী কথা হয়েছিল ক্রিকেটারদের সে সভায়? মুমিনুল বিস্তারিত বলতে চাইবেন না, স্বাভাবিক। তবু যতটুকু বললেন, তাতে সুরটা ধরা যায়, ‘আমাদের কী করা উচিত, এই জিনিসটাই সবাই মিলে আলোচনা করেছি। ভালো খেলার প্রতিজ্ঞা করেছি।’ সতীর্থরা সে প্রতিজ্ঞা পূরণ করতে পারায় শততম টেস্ট না খেলেও কম আনন্দ নয় মুমিনুলের ‘আমার কোনো আক্ষেপ নেই। ম্যাচ জিতেছি, উন্নতির জায়গাগুলো স্পষ্ট হয়েছে, এর চেয়ে বড় পাওয়া আর কিছু নেই।\",\n",
        "    \"ফেনী সদর উপজেলার ধলিয়া ইউনিয়নের রাজনগরের মোল্লার তাকিয়া নুরুল-রওনক ডায়াবেটিস স্বাস্থ্যসেবা উপকেন্দ্রে অ্যাম্বুলেন্স দান করেছেন ব্যবসায়ী আ ক ম শাহিদ রেজা। গত ২৮ জুলাই ফেনী ডায়াবেটিক সমিতির কর্মকর্তাদের হাতে আনুষ্ঠানিকভাবে অ্যাম্বুলেন্সের চাবি হস্তান্তর করেন তিনি।ফেনী ডায়াবেটিক সমিতির সহ-সভাপতি ও সদর উপজেলার চেয়ারম্যান আবদুর রহমান এবং যুগ্ন সম্পাদক মীর হোসেন অ্যাম্বুলেন্সের চাবি গ্রহণ করেন।এ সময় উপস্থিত ছিলেন প্রথম আলোর নিজস্ব প্রতিবেদক আবু তাহের, ব্যবসায়ী শওকত রেজা প্রমুখ।বিজ্ঞপ্তি।\"\n",
        "], StringType()).toDF(\"description\")\n"
      ],
      "execution_count": 40,
      "outputs": []
    },
    {
      "cell_type": "code",
      "metadata": {
        "id": "H_5rU5PmdLt1"
      },
      "source": [
        "prediction = pipeline.fit(dfTest).transform(dfTest) "
      ],
      "execution_count": 42,
      "outputs": []
    },
    {
      "cell_type": "code",
      "metadata": {
        "id": "rWPa02DIdLzA",
        "colab": {
          "base_uri": "https://localhost:8080/"
        },
        "outputId": "220dffeb-5a92-42d9-e2e5-73b992f70048"
      },
      "source": [
        "prediction.select(\"class.result\").show() "
      ],
      "execution_count": 43,
      "outputs": [
        {
          "output_type": "stream",
          "name": "stdout",
          "text": [
            "+---------------+\n",
            "|         result|\n",
            "+---------------+\n",
            "|       [sports]|\n",
            "|[international]|\n",
            "+---------------+\n",
            "\n"
          ]
        }
      ]
    },
    {
      "cell_type": "code",
      "metadata": {
        "id": "IZWfpXiJfRS-",
        "colab": {
          "base_uri": "https://localhost:8080/"
        },
        "outputId": "08a703c4-8673-4a30-9050-568f4cddd96a"
      },
      "source": [
        "prediction.select(\"class.metadata\").show(truncate=False)"
      ],
      "execution_count": 44,
      "outputs": [
        {
          "output_type": "stream",
          "name": "stdout",
          "text": [
            "+-----------------------------------------------------------------------------------------------------------------------------------------------------------------------------------------------------+\n",
            "|metadata                                                                                                                                                                                             |\n",
            "+-----------------------------------------------------------------------------------------------------------------------------------------------------------------------------------------------------+\n",
            "|[[economy -> 1.4423276E-4, state -> 2.77761E-4, sports -> 0.98448676, technology -> 8.060942E-7, entertainment -> 0.001418312, education -> 2.172536E-5, international -> 0.01365032, sentence -> 0]]|\n",
            "|[[economy -> 3.8697183E-4, state -> 0.15789, sports -> 0.044566922, technology -> 3.287882E-6, entertainment -> 0.13664883, education -> 4.689297E-7, international -> 0.66050345, sentence -> 0]]   |\n",
            "+-----------------------------------------------------------------------------------------------------------------------------------------------------------------------------------------------------+\n",
            "\n"
          ]
        }
      ]
    },
    {
      "cell_type": "code",
      "metadata": {
        "id": "U-h4XYetfVvF"
      },
      "source": [
        ""
      ],
      "execution_count": null,
      "outputs": []
    }
  ]
}